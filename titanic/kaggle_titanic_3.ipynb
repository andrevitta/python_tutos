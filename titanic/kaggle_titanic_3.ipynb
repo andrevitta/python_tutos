{
 "cells": [
  {
   "cell_type": "markdown",
   "metadata": {},
   "source": [
    "# Kaggle Titanic: aller plus loin"
   ]
  },
  {
   "cell_type": "code",
   "execution_count": 1,
   "metadata": {
    "ExecuteTime": {
     "end_time": "2018-07-19T11:26:21.923110Z",
     "start_time": "2018-07-19T11:26:21.214564Z"
    }
   },
   "outputs": [],
   "source": [
    "import pandas as pd\n",
    "import re\n",
    "from sklearn.ensemble import RandomForestClassifier\n",
    "from sklearn.svm import LinearSVC\n",
    "from sklearn.preprocessing import MinMaxScaler\n",
    "\n",
    "train = pd.read_csv(\"../datasources/titanic/train.csv\")\n",
    "test = pd.read_csv(\"../datasources/titanic/test.csv\")\n",
    "full = pd.concat([train, test]) # Assemble les deux jeux de données"
   ]
  },
  {
   "cell_type": "markdown",
   "metadata": {},
   "source": [
    "# Travail sur le ticket"
   ]
  },
  {
   "cell_type": "code",
   "execution_count": 2,
   "metadata": {
    "ExecuteTime": {
     "end_time": "2018-07-19T11:26:22.162020Z",
     "start_time": "2018-07-19T11:26:22.134394Z"
    },
    "scrolled": false
   },
   "outputs": [
    {
     "data": {
      "text/plain": [
       "0    1309\n",
       "Name: 0, dtype: int64"
      ]
     },
     "execution_count": 2,
     "metadata": {},
     "output_type": "execute_result"
    }
   ],
   "source": [
    "noticket = []\n",
    "full['Ticket'].fillna('X')\n",
    "for ticketnn in full['Ticket']:\n",
    "    if (ticketnn == 'X'):\n",
    "        noticket.append(1)\n",
    "    else:\n",
    "        noticket.append(0)\n",
    "pd.DataFrame(noticket)[0].value_counts()"
   ]
  },
  {
   "cell_type": "markdown",
   "metadata": {},
   "source": [
    "# Tout le monde a un ticket !"
   ]
  },
  {
   "cell_type": "code",
   "execution_count": 3,
   "metadata": {
    "ExecuteTime": {
     "end_time": "2018-07-19T11:26:23.177397Z",
     "start_time": "2018-07-19T11:26:23.163871Z"
    },
    "scrolled": true
   },
   "outputs": [
    {
     "data": {
      "text/plain": [
       "PC 17608    5\n",
       "CA. 2343    4\n",
       "113503      4\n",
       "347077      3\n",
       "PC 17483    3\n",
       "Name: Ticket, dtype: int64"
      ]
     },
     "execution_count": 3,
     "metadata": {},
     "output_type": "execute_result"
    }
   ],
   "source": [
    "test['Ticket'].value_counts().head()"
   ]
  },
  {
   "cell_type": "markdown",
   "metadata": {},
   "source": [
    "#  Par contre les tickets ne sont pas uniques ! il va donc falloir diviser le prix par nombre de ticket"
   ]
  },
  {
   "cell_type": "code",
   "execution_count": 4,
   "metadata": {
    "ExecuteTime": {
     "end_time": "2018-07-19T11:26:24.414638Z",
     "start_time": "2018-07-19T11:26:24.324882Z"
    },
    "scrolled": true
   },
   "outputs": [
    {
     "data": {
      "text/html": [
       "<div>\n",
       "<style scoped>\n",
       "    .dataframe tbody tr th:only-of-type {\n",
       "        vertical-align: middle;\n",
       "    }\n",
       "\n",
       "    .dataframe tbody tr th {\n",
       "        vertical-align: top;\n",
       "    }\n",
       "\n",
       "    .dataframe thead th {\n",
       "        text-align: right;\n",
       "    }\n",
       "</style>\n",
       "<table border=\"1\" class=\"dataframe\">\n",
       "  <thead>\n",
       "    <tr style=\"text-align: right;\">\n",
       "      <th></th>\n",
       "      <th>PassengerId</th>\n",
       "      <th>Pclass</th>\n",
       "      <th>Name</th>\n",
       "      <th>Sex</th>\n",
       "      <th>Age</th>\n",
       "      <th>SibSp</th>\n",
       "      <th>Parch</th>\n",
       "      <th>Ticket</th>\n",
       "      <th>Fare</th>\n",
       "      <th>Cabin</th>\n",
       "      <th>Embarked</th>\n",
       "      <th>TicketCount</th>\n",
       "      <th>PrixUnitaire</th>\n",
       "    </tr>\n",
       "  </thead>\n",
       "  <tbody>\n",
       "    <tr>\n",
       "      <th>0</th>\n",
       "      <td>892</td>\n",
       "      <td>3</td>\n",
       "      <td>Kelly, Mr. James</td>\n",
       "      <td>male</td>\n",
       "      <td>34.5</td>\n",
       "      <td>0</td>\n",
       "      <td>0</td>\n",
       "      <td>330911</td>\n",
       "      <td>7.8292</td>\n",
       "      <td>NaN</td>\n",
       "      <td>Q</td>\n",
       "      <td>NaN</td>\n",
       "      <td>7.8292</td>\n",
       "    </tr>\n",
       "    <tr>\n",
       "      <th>1</th>\n",
       "      <td>893</td>\n",
       "      <td>3</td>\n",
       "      <td>Wilkes, Mrs. James (Ellen Needs)</td>\n",
       "      <td>female</td>\n",
       "      <td>47.0</td>\n",
       "      <td>1</td>\n",
       "      <td>0</td>\n",
       "      <td>363272</td>\n",
       "      <td>7.0000</td>\n",
       "      <td>NaN</td>\n",
       "      <td>S</td>\n",
       "      <td>NaN</td>\n",
       "      <td>7.0000</td>\n",
       "    </tr>\n",
       "    <tr>\n",
       "      <th>2</th>\n",
       "      <td>894</td>\n",
       "      <td>2</td>\n",
       "      <td>Myles, Mr. Thomas Francis</td>\n",
       "      <td>male</td>\n",
       "      <td>62.0</td>\n",
       "      <td>0</td>\n",
       "      <td>0</td>\n",
       "      <td>240276</td>\n",
       "      <td>9.6875</td>\n",
       "      <td>NaN</td>\n",
       "      <td>Q</td>\n",
       "      <td>NaN</td>\n",
       "      <td>9.6875</td>\n",
       "    </tr>\n",
       "  </tbody>\n",
       "</table>\n",
       "</div>"
      ],
      "text/plain": [
       "   PassengerId  Pclass                              Name     Sex   Age  SibSp  \\\n",
       "0          892       3                  Kelly, Mr. James    male  34.5      0   \n",
       "1          893       3  Wilkes, Mrs. James (Ellen Needs)  female  47.0      1   \n",
       "2          894       2         Myles, Mr. Thomas Francis    male  62.0      0   \n",
       "\n",
       "   Parch  Ticket    Fare Cabin Embarked  TicketCount  PrixUnitaire  \n",
       "0      0  330911  7.8292   NaN        Q          NaN        7.8292  \n",
       "1      0  363272  7.0000   NaN        S          NaN        7.0000  \n",
       "2      0  240276  9.6875   NaN        Q          NaN        9.6875  "
      ]
     },
     "metadata": {},
     "output_type": "display_data"
    }
   ],
   "source": [
    "# Inutile / juste pour un exemple de groupby, on va utiliser le count à la place ;-)\n",
    "#listunit = pd.DataFrame(test.groupby(['Ticket'])['Fare'].mean())\n",
    "#listunit['Ticket'] = listunit.index\n",
    "\n",
    "# Prépartion d'un DF (TicketCounts) contenant les ticket avec leur nb d'occurence\n",
    "TicketCounts = pd.DataFrame(test['Ticket'].value_counts().head())\n",
    "TicketCounts['TicketCount'] = TicketCounts['Ticket'] # renomme la colonne Ticket\n",
    "TicketCounts['Ticket'] = TicketCounts.index # rajoute une colonne Ticket pour le merge (jointure)\n",
    "\n",
    "# Reporte le résultat dans le dataframe test (jointure des datasets)\n",
    "fin = pd.merge(test, TicketCounts, how='left', on='Ticket')\n",
    "fin['PrixUnitaire'] = fin['Fare'] / fin['TicketCount'].fillna(1)\n",
    "\n",
    "#prxunit = pd.DataFrame(fin['PrixUnitaire'])\n",
    "display(fin.head(3))"
   ]
  },
  {
   "cell_type": "markdown",
   "metadata": {},
   "source": [
    "# Attention on a un passager qui n'a pas de prix de ticket"
   ]
  },
  {
   "cell_type": "code",
   "execution_count": 5,
   "metadata": {
    "ExecuteTime": {
     "end_time": "2018-07-19T11:26:27.256471Z",
     "start_time": "2018-07-19T11:26:27.221912Z"
    }
   },
   "outputs": [
    {
     "data": {
      "text/html": [
       "<div>\n",
       "<style scoped>\n",
       "    .dataframe tbody tr th:only-of-type {\n",
       "        vertical-align: middle;\n",
       "    }\n",
       "\n",
       "    .dataframe tbody tr th {\n",
       "        vertical-align: top;\n",
       "    }\n",
       "\n",
       "    .dataframe thead th {\n",
       "        text-align: right;\n",
       "    }\n",
       "</style>\n",
       "<table border=\"1\" class=\"dataframe\">\n",
       "  <thead>\n",
       "    <tr style=\"text-align: right;\">\n",
       "      <th></th>\n",
       "      <th>PassengerId</th>\n",
       "      <th>Pclass</th>\n",
       "      <th>Name</th>\n",
       "      <th>Sex</th>\n",
       "      <th>Age</th>\n",
       "      <th>SibSp</th>\n",
       "      <th>Parch</th>\n",
       "      <th>Ticket</th>\n",
       "      <th>Fare</th>\n",
       "      <th>Cabin</th>\n",
       "      <th>Embarked</th>\n",
       "    </tr>\n",
       "  </thead>\n",
       "  <tbody>\n",
       "    <tr>\n",
       "      <th>152</th>\n",
       "      <td>1044</td>\n",
       "      <td>3</td>\n",
       "      <td>Storey, Mr. Thomas</td>\n",
       "      <td>male</td>\n",
       "      <td>60.5</td>\n",
       "      <td>0</td>\n",
       "      <td>0</td>\n",
       "      <td>3701</td>\n",
       "      <td>NaN</td>\n",
       "      <td>NaN</td>\n",
       "      <td>S</td>\n",
       "    </tr>\n",
       "  </tbody>\n",
       "</table>\n",
       "</div>"
      ],
      "text/plain": [
       "     PassengerId  Pclass                Name   Sex   Age  SibSp  Parch Ticket  \\\n",
       "152         1044       3  Storey, Mr. Thomas  male  60.5      0      0   3701   \n",
       "\n",
       "     Fare Cabin Embarked  \n",
       "152   NaN   NaN        S  "
      ]
     },
     "execution_count": 5,
     "metadata": {},
     "output_type": "execute_result"
    }
   ],
   "source": [
    "import numpy as np\n",
    "test.loc[np.isnan(test['Fare'])]"
   ]
  },
  {
   "cell_type": "code",
   "execution_count": 6,
   "metadata": {
    "ExecuteTime": {
     "end_time": "2018-07-19T11:26:27.904190Z",
     "start_time": "2018-07-19T11:26:27.895183Z"
    },
    "scrolled": true
   },
   "outputs": [
    {
     "data": {
      "text/plain": [
       "12.459677880184334"
      ]
     },
     "execution_count": 6,
     "metadata": {},
     "output_type": "execute_result"
    }
   ],
   "source": [
    "# prennons la moyenne des embarqués à S... !\n",
    "test.loc[test['Pclass'] == 3]['Fare'].mean()"
   ]
  },
  {
   "cell_type": "markdown",
   "metadata": {},
   "source": [
    "# Travail sur le nom"
   ]
  },
  {
   "cell_type": "code",
   "execution_count": null,
   "metadata": {
    "ExecuteTime": {
     "end_time": "2018-07-19T11:32:35.062230Z",
     "start_time": "2018-07-19T11:32:34.958632Z"
    },
    "scrolled": true
   },
   "outputs": [],
   "source": [
    "familynames = []\n",
    "for noms in full[\"Name\"]:\n",
    "    familynames.append(re.search('([A-Za-z0-9]*),\\ ([A-Za-z0-9 ]*)\\. (.*)', noms).group(1))\n",
    "pdfamilynames = pd.DataFrame(familynames, columns = ['familynames'])\n",
    "\n",
    "# Créé une liste des noms de famille avec plus de 2 occurences\n",
    "famsurv = full.join(pdfamilynames)\n",
    "famCount = famsurv['familynames'].value_counts()\n",
    "pdfamCounts = pd.DataFrame(famCount, columns = ['familynames'])\n",
    "pdfamCounts['famCount'] = pdfamCounts['familynames']\n",
    "pdfamCounts['familynames'] = pdfamCounts.index\n",
    "pdfamCounts = pdfamCounts[pdfamCounts['famCount'] >= 2]\n",
    "print(pdfamCounts)\n",
    "\n",
    "# Fonction ajoutant les colonnes noms famille dans un DF\n",
    "def addColumnFamilyName(data):\n",
    "    # ajoute les colonnes nulles avec les noms de famille\n",
    "    for family in pdfamCounts['familynames']:\n",
    "        data[family] = 0\n",
    "    # récupère le nom de famille dans le DF\n",
    "    for idx, f in enumerate(data[\"Name\"]):\n",
    "        # Modifie les colonnes dummies du nom de famille en 1 ou 0 selon le nom de famille\n",
    "        iNom = re.search('([A-Za-z0-9]*),\\ ([A-Za-z0-9 ]*)\\. (.*)', f).group(1)\n",
    "        for col in data.columns:\n",
    "            if (col == iNom):\n",
    "                data.loc[idx, col] = 1\n"
   ]
  },
  {
   "cell_type": "markdown",
   "metadata": {},
   "source": [
    "# Travail sur le titre"
   ]
  },
  {
   "cell_type": "code",
   "execution_count": 26,
   "metadata": {
    "scrolled": true
   },
   "outputs": [
    {
     "data": {
      "text/plain": [
       " Mr              757\n",
       " Miss            260\n",
       " Mrs             197\n",
       " Master           61\n",
       " Dr                8\n",
       " Rev               8\n",
       " Col               4\n",
       " Mlle              2\n",
       " Major             2\n",
       " Ms                2\n",
       " Dona              1\n",
       " Jonkheer          1\n",
       " the Countess      1\n",
       " Don               1\n",
       " Mme               1\n",
       " Capt              1\n",
       " Lady              1\n",
       " Sir               1\n",
       "Name: Titre, dtype: int64"
      ]
     },
     "execution_count": 26,
     "metadata": {},
     "output_type": "execute_result"
    }
   ],
   "source": [
    "full['Titre'] = full.Name.map(lambda x : x.split(\",\")[1].split(\".\")[0])\n",
    "full['NomFamille'] = full.Name.map(lambda x : x.split(\",\")[0])\n",
    "titre = pd.DataFrame(full['Titre'])\n",
    "full['Titre'].value_counts() # affiche tous les titres possible"
   ]
  },
  {
   "cell_type": "code",
   "execution_count": 27,
   "metadata": {
    "scrolled": true
   },
   "outputs": [
    {
     "data": {
      "text/plain": [
       "Autres    240\n",
       "FE        173\n",
       "VIP         5\n",
       "Name: Rang, dtype: int64"
      ]
     },
     "execution_count": 27,
     "metadata": {},
     "output_type": "execute_result"
    }
   ],
   "source": [
    "X = test\n",
    "X['Rang'] = 0\n",
    "X['Titre'] = X.Name.map(lambda x : x.split(\",\")[1].split(\".\")[0])\n",
    "vip = ['Don','Sir', 'Major', 'Col', 'Jonkheer', 'Dr', 'Rev']\n",
    "femmeenfant = ['Miss', 'Mrs', 'Lady', 'Mlle', 'the Countess', 'Ms', 'Mme', 'Dona', 'Master']\n",
    "for idx, titre in enumerate(X['Titre']): \n",
    "    if (titre.strip() in femmeenfant) :\n",
    "        X.loc[idx, 'Rang'] = 'FE'\n",
    "    elif (titre.strip() in vip) :\n",
    "        X.loc[idx, 'Rang'] = 'VIP'\n",
    "    else :\n",
    "        X.loc[idx, 'Rang'] = 'Autres'\n",
    "X['Rang'].value_counts()"
   ]
  },
  {
   "cell_type": "markdown",
   "metadata": {},
   "source": [
    "# Travail sur l'age"
   ]
  },
  {
   "cell_type": "code",
   "execution_count": 45,
   "metadata": {
    "run_control": {
     "marked": true
    }
   },
   "outputs": [
    {
     "name": "stdout",
     "output_type": "stream",
     "text": [
      "adulte    373\n",
      "enfant     21\n",
      "vieux      14\n",
      "bebe       10\n",
      "Name: catAge, dtype: int64\n"
     ]
    },
    {
     "data": {
      "text/html": [
       "<div>\n",
       "<style scoped>\n",
       "    .dataframe tbody tr th:only-of-type {\n",
       "        vertical-align: middle;\n",
       "    }\n",
       "\n",
       "    .dataframe tbody tr th {\n",
       "        vertical-align: top;\n",
       "    }\n",
       "\n",
       "    .dataframe thead th {\n",
       "        text-align: right;\n",
       "    }\n",
       "</style>\n",
       "<table border=\"1\" class=\"dataframe\">\n",
       "  <thead>\n",
       "    <tr style=\"text-align: right;\">\n",
       "      <th></th>\n",
       "      <th>catAge_adulte</th>\n",
       "      <th>catAge_bebe</th>\n",
       "      <th>catAge_enfant</th>\n",
       "      <th>catAge_vieux</th>\n",
       "    </tr>\n",
       "  </thead>\n",
       "  <tbody>\n",
       "    <tr>\n",
       "      <th>0</th>\n",
       "      <td>1</td>\n",
       "      <td>0</td>\n",
       "      <td>0</td>\n",
       "      <td>0</td>\n",
       "    </tr>\n",
       "    <tr>\n",
       "      <th>1</th>\n",
       "      <td>1</td>\n",
       "      <td>0</td>\n",
       "      <td>0</td>\n",
       "      <td>0</td>\n",
       "    </tr>\n",
       "    <tr>\n",
       "      <th>2</th>\n",
       "      <td>0</td>\n",
       "      <td>0</td>\n",
       "      <td>0</td>\n",
       "      <td>1</td>\n",
       "    </tr>\n",
       "  </tbody>\n",
       "</table>\n",
       "</div>"
      ],
      "text/plain": [
       "   catAge_adulte  catAge_bebe  catAge_enfant  catAge_vieux\n",
       "0              1            0              0             0\n",
       "1              1            0              0             0\n",
       "2              0            0              0             1"
      ]
     },
     "execution_count": 45,
     "metadata": {},
     "output_type": "execute_result"
    }
   ],
   "source": [
    "age = X['Age'].fillna(X['Age'].mean())\n",
    "catAge = []\n",
    "for i in range(X.shape[0]) :\n",
    "    if age[i] < 3:\n",
    "        catAge.append(\"bebe\")\n",
    "    elif age[i] >= 3 and age[i] < 15:\n",
    "        catAge.append(\"enfant\")\n",
    "    elif age[i] >= 15 and age[i] < 60:\n",
    "        catAge.append(\"adulte\") \n",
    "    else:\n",
    "        catAge.append(\"vieux\")\n",
    "print(pd.DataFrame(catAge, columns = ['catAge'])['catAge'].value_counts())\n",
    "cat = pd.get_dummies(pd.DataFrame(catAge, columns = ['catAge']), prefix='catAge')\n",
    "cat.head(3)"
   ]
  },
  {
   "cell_type": "markdown",
   "metadata": {},
   "source": [
    "# Création d'une fonction de préparation"
   ]
  },
  {
   "cell_type": "code",
   "execution_count": 46,
   "metadata": {},
   "outputs": [],
   "source": [
    "def dataprep(data):\n",
    "    # Sexe\n",
    "    sexe = pd.get_dummies(data['Sex'], prefix='sex')\n",
    "    \n",
    "    # Cabine, récupération du pont (on remplace le pont T proche du pont A)\n",
    "    cabin = pd.get_dummies(data['Cabin'].fillna('X').str[0].replace('T', 'A'), prefix='Cabin')\n",
    "    \n",
    "    # Age et catégories d'age\n",
    "    age = data['Age'].fillna(data['Age'].mean())\n",
    "    catAge = []\n",
    "    for i in range(data.shape[0]) :\n",
    "        if age[i] < 3:\n",
    "            catAge.append(\"bebe\")\n",
    "        elif age[i] >= 3 and age[i] < 15:\n",
    "            catAge.append(\"enfant\")\n",
    "        elif age[i] >= 15 and age[i] < 60:\n",
    "            catAge.append(\"adulte\") \n",
    "        else:\n",
    "            catAge.append(\"vieux\")\n",
    "    catage = pd.get_dummies(pd.DataFrame(catAge, columns = ['catAge']), prefix='catAge')\n",
    "    \n",
    "    # Titre et Rang\n",
    "    data['Titre'] = data.Name.map(lambda x : x.split(\",\")[1].split(\".\")[0]).fillna('X')\n",
    "    data['Rang'] = 0\n",
    "    vip = ['Don','Sir', 'Major', 'Col', 'Jonkheer', 'Dr']\n",
    "    femmeenfant = ['Miss', 'Mrs', 'Lady', 'Mlle', 'the Countess', 'Ms', 'Mme', 'Dona', 'Master']\n",
    "    for idx, titre in enumerate(data['Titre']): \n",
    "        if (titre.strip() in femmeenfant) :\n",
    "            data.loc[idx, 'Rang'] = 'FE'\n",
    "        elif (titre.strip() in vip) :\n",
    "            data.loc[idx, 'Rang'] = 'VIP'\n",
    "        else :\n",
    "            data.loc[idx, 'Rang'] = 'Autres'\n",
    "    rg = pd.get_dummies(data['Rang'], prefix='Rang')\n",
    "    \n",
    "    # Embarquement\n",
    "    emb = pd.get_dummies(data['Embarked'], prefix='emb')\n",
    "    \n",
    "    # Prix unitaire - Ticket, Prépartion d'un DF (TicketCounts) contenant les ticket avec leur nb d'occurence\n",
    "    TicketCounts = pd.DataFrame(data['Ticket'].value_counts().head())\n",
    "    TicketCounts['TicketCount'] = TicketCounts['Ticket'] # renomme la colonne Ticket\n",
    "    TicketCounts['Ticket'] = TicketCounts.index # rajoute une colonne Ticket pour le merge (jointure)\n",
    "    # reporte le résultat dans le dataframe test (jointure des datasets)\n",
    "    fin = pd.merge(data, TicketCounts, how='left', on='Ticket')\n",
    "    fin['PrixUnitaire'] = fin['Fare'] / fin['TicketCount'].fillna(1)\n",
    "    prxunit = pd.DataFrame(fin['PrixUnitaire'])\n",
    "    # Prix moyen 3eme classe (pour le passager de 3eme qui n'a pas de prix) ... on aurait pu faire une fonction ici ;-)\n",
    "    prx3eme = data.loc[data['Pclass'] == 3]['Fare'].mean()\n",
    "    prxunit = prxunit['PrixUnitaire'].fillna(prx3eme)\n",
    "    \n",
    "    # Classe\n",
    "    pc = pd.DataFrame(MinMaxScaler().fit_transform(data[['Pclass']]), columns = ['Classe'])\n",
    "    \n",
    "    dp = data[['SibSp', 'Parch', 'Name']].join(pc).join(sexe).join(emb).join(prxunit).join(cabin).join(age).join(catage).join(rg)\n",
    "    addColumnFamilyName(dp)\n",
    "    del dp['Name']\n",
    "    \n",
    "    return dp"
   ]
  },
  {
   "cell_type": "code",
   "execution_count": 47,
   "metadata": {
    "scrolled": true
   },
   "outputs": [],
   "source": [
    "Xtrain = dataprep(train)\n",
    "Xtest = dataprep(test)"
   ]
  },
  {
   "cell_type": "code",
   "execution_count": 48,
   "metadata": {},
   "outputs": [
    {
     "data": {
      "text/html": [
       "<div>\n",
       "<style scoped>\n",
       "    .dataframe tbody tr th:only-of-type {\n",
       "        vertical-align: middle;\n",
       "    }\n",
       "\n",
       "    .dataframe tbody tr th {\n",
       "        vertical-align: top;\n",
       "    }\n",
       "\n",
       "    .dataframe thead th {\n",
       "        text-align: right;\n",
       "    }\n",
       "</style>\n",
       "<table border=\"1\" class=\"dataframe\">\n",
       "  <thead>\n",
       "    <tr style=\"text-align: right;\">\n",
       "      <th></th>\n",
       "      <th>SibSp</th>\n",
       "      <th>Parch</th>\n",
       "      <th>Classe</th>\n",
       "      <th>sex_female</th>\n",
       "      <th>sex_male</th>\n",
       "      <th>emb_C</th>\n",
       "      <th>emb_Q</th>\n",
       "      <th>emb_S</th>\n",
       "      <th>PrixUnitaire</th>\n",
       "      <th>Cabin_A</th>\n",
       "      <th>...</th>\n",
       "      <th>Robbins</th>\n",
       "      <th>Vovk</th>\n",
       "      <th>Yousseff</th>\n",
       "      <th>Brocklebank</th>\n",
       "      <th>Lemore</th>\n",
       "      <th>Badt</th>\n",
       "      <th>Keefe</th>\n",
       "      <th>Hodges</th>\n",
       "      <th>Dantcheff</th>\n",
       "      <th>Potter</th>\n",
       "    </tr>\n",
       "  </thead>\n",
       "  <tbody>\n",
       "    <tr>\n",
       "      <th>count</th>\n",
       "      <td>891.000000</td>\n",
       "      <td>891.000000</td>\n",
       "      <td>891.000000</td>\n",
       "      <td>891.000000</td>\n",
       "      <td>891.000000</td>\n",
       "      <td>891.000000</td>\n",
       "      <td>891.000000</td>\n",
       "      <td>891.000000</td>\n",
       "      <td>891.000000</td>\n",
       "      <td>891.000000</td>\n",
       "      <td>...</td>\n",
       "      <td>891.000000</td>\n",
       "      <td>891.000000</td>\n",
       "      <td>891.000000</td>\n",
       "      <td>891.000000</td>\n",
       "      <td>891.000000</td>\n",
       "      <td>891.000000</td>\n",
       "      <td>891.000000</td>\n",
       "      <td>891.000000</td>\n",
       "      <td>891.000000</td>\n",
       "      <td>891.000000</td>\n",
       "    </tr>\n",
       "    <tr>\n",
       "      <th>mean</th>\n",
       "      <td>0.523008</td>\n",
       "      <td>0.381594</td>\n",
       "      <td>0.654321</td>\n",
       "      <td>0.352413</td>\n",
       "      <td>0.647587</td>\n",
       "      <td>0.188552</td>\n",
       "      <td>0.086420</td>\n",
       "      <td>0.722783</td>\n",
       "      <td>30.658908</td>\n",
       "      <td>0.017957</td>\n",
       "      <td>...</td>\n",
       "      <td>0.001122</td>\n",
       "      <td>0.001122</td>\n",
       "      <td>0.001122</td>\n",
       "      <td>0.001122</td>\n",
       "      <td>0.001122</td>\n",
       "      <td>0.001122</td>\n",
       "      <td>0.001122</td>\n",
       "      <td>0.001122</td>\n",
       "      <td>0.001122</td>\n",
       "      <td>0.001122</td>\n",
       "    </tr>\n",
       "    <tr>\n",
       "      <th>std</th>\n",
       "      <td>1.102743</td>\n",
       "      <td>0.806057</td>\n",
       "      <td>0.418036</td>\n",
       "      <td>0.477990</td>\n",
       "      <td>0.477990</td>\n",
       "      <td>0.391372</td>\n",
       "      <td>0.281141</td>\n",
       "      <td>0.447876</td>\n",
       "      <td>49.724754</td>\n",
       "      <td>0.132871</td>\n",
       "      <td>...</td>\n",
       "      <td>0.033501</td>\n",
       "      <td>0.033501</td>\n",
       "      <td>0.033501</td>\n",
       "      <td>0.033501</td>\n",
       "      <td>0.033501</td>\n",
       "      <td>0.033501</td>\n",
       "      <td>0.033501</td>\n",
       "      <td>0.033501</td>\n",
       "      <td>0.033501</td>\n",
       "      <td>0.033501</td>\n",
       "    </tr>\n",
       "    <tr>\n",
       "      <th>min</th>\n",
       "      <td>0.000000</td>\n",
       "      <td>0.000000</td>\n",
       "      <td>0.000000</td>\n",
       "      <td>0.000000</td>\n",
       "      <td>0.000000</td>\n",
       "      <td>0.000000</td>\n",
       "      <td>0.000000</td>\n",
       "      <td>0.000000</td>\n",
       "      <td>0.000000</td>\n",
       "      <td>0.000000</td>\n",
       "      <td>...</td>\n",
       "      <td>0.000000</td>\n",
       "      <td>0.000000</td>\n",
       "      <td>0.000000</td>\n",
       "      <td>0.000000</td>\n",
       "      <td>0.000000</td>\n",
       "      <td>0.000000</td>\n",
       "      <td>0.000000</td>\n",
       "      <td>0.000000</td>\n",
       "      <td>0.000000</td>\n",
       "      <td>0.000000</td>\n",
       "    </tr>\n",
       "    <tr>\n",
       "      <th>25%</th>\n",
       "      <td>0.000000</td>\n",
       "      <td>0.000000</td>\n",
       "      <td>0.500000</td>\n",
       "      <td>0.000000</td>\n",
       "      <td>0.000000</td>\n",
       "      <td>0.000000</td>\n",
       "      <td>0.000000</td>\n",
       "      <td>0.000000</td>\n",
       "      <td>7.895800</td>\n",
       "      <td>0.000000</td>\n",
       "      <td>...</td>\n",
       "      <td>0.000000</td>\n",
       "      <td>0.000000</td>\n",
       "      <td>0.000000</td>\n",
       "      <td>0.000000</td>\n",
       "      <td>0.000000</td>\n",
       "      <td>0.000000</td>\n",
       "      <td>0.000000</td>\n",
       "      <td>0.000000</td>\n",
       "      <td>0.000000</td>\n",
       "      <td>0.000000</td>\n",
       "    </tr>\n",
       "    <tr>\n",
       "      <th>50%</th>\n",
       "      <td>0.000000</td>\n",
       "      <td>0.000000</td>\n",
       "      <td>1.000000</td>\n",
       "      <td>0.000000</td>\n",
       "      <td>1.000000</td>\n",
       "      <td>0.000000</td>\n",
       "      <td>0.000000</td>\n",
       "      <td>1.000000</td>\n",
       "      <td>13.000000</td>\n",
       "      <td>0.000000</td>\n",
       "      <td>...</td>\n",
       "      <td>0.000000</td>\n",
       "      <td>0.000000</td>\n",
       "      <td>0.000000</td>\n",
       "      <td>0.000000</td>\n",
       "      <td>0.000000</td>\n",
       "      <td>0.000000</td>\n",
       "      <td>0.000000</td>\n",
       "      <td>0.000000</td>\n",
       "      <td>0.000000</td>\n",
       "      <td>0.000000</td>\n",
       "    </tr>\n",
       "    <tr>\n",
       "      <th>75%</th>\n",
       "      <td>1.000000</td>\n",
       "      <td>0.000000</td>\n",
       "      <td>1.000000</td>\n",
       "      <td>1.000000</td>\n",
       "      <td>1.000000</td>\n",
       "      <td>0.000000</td>\n",
       "      <td>0.000000</td>\n",
       "      <td>1.000000</td>\n",
       "      <td>27.900000</td>\n",
       "      <td>0.000000</td>\n",
       "      <td>...</td>\n",
       "      <td>0.000000</td>\n",
       "      <td>0.000000</td>\n",
       "      <td>0.000000</td>\n",
       "      <td>0.000000</td>\n",
       "      <td>0.000000</td>\n",
       "      <td>0.000000</td>\n",
       "      <td>0.000000</td>\n",
       "      <td>0.000000</td>\n",
       "      <td>0.000000</td>\n",
       "      <td>0.000000</td>\n",
       "    </tr>\n",
       "    <tr>\n",
       "      <th>max</th>\n",
       "      <td>8.000000</td>\n",
       "      <td>6.000000</td>\n",
       "      <td>1.000000</td>\n",
       "      <td>1.000000</td>\n",
       "      <td>1.000000</td>\n",
       "      <td>1.000000</td>\n",
       "      <td>1.000000</td>\n",
       "      <td>1.000000</td>\n",
       "      <td>512.329200</td>\n",
       "      <td>1.000000</td>\n",
       "      <td>...</td>\n",
       "      <td>1.000000</td>\n",
       "      <td>1.000000</td>\n",
       "      <td>1.000000</td>\n",
       "      <td>1.000000</td>\n",
       "      <td>1.000000</td>\n",
       "      <td>1.000000</td>\n",
       "      <td>1.000000</td>\n",
       "      <td>1.000000</td>\n",
       "      <td>1.000000</td>\n",
       "      <td>1.000000</td>\n",
       "    </tr>\n",
       "  </tbody>\n",
       "</table>\n",
       "<p>8 rows × 691 columns</p>\n",
       "</div>"
      ],
      "text/plain": [
       "            SibSp       Parch      Classe  sex_female    sex_male       emb_C  \\\n",
       "count  891.000000  891.000000  891.000000  891.000000  891.000000  891.000000   \n",
       "mean     0.523008    0.381594    0.654321    0.352413    0.647587    0.188552   \n",
       "std      1.102743    0.806057    0.418036    0.477990    0.477990    0.391372   \n",
       "min      0.000000    0.000000    0.000000    0.000000    0.000000    0.000000   \n",
       "25%      0.000000    0.000000    0.500000    0.000000    0.000000    0.000000   \n",
       "50%      0.000000    0.000000    1.000000    0.000000    1.000000    0.000000   \n",
       "75%      1.000000    0.000000    1.000000    1.000000    1.000000    0.000000   \n",
       "max      8.000000    6.000000    1.000000    1.000000    1.000000    1.000000   \n",
       "\n",
       "            emb_Q       emb_S  PrixUnitaire     Cabin_A     ...      \\\n",
       "count  891.000000  891.000000    891.000000  891.000000     ...       \n",
       "mean     0.086420    0.722783     30.658908    0.017957     ...       \n",
       "std      0.281141    0.447876     49.724754    0.132871     ...       \n",
       "min      0.000000    0.000000      0.000000    0.000000     ...       \n",
       "25%      0.000000    0.000000      7.895800    0.000000     ...       \n",
       "50%      0.000000    1.000000     13.000000    0.000000     ...       \n",
       "75%      0.000000    1.000000     27.900000    0.000000     ...       \n",
       "max      1.000000    1.000000    512.329200    1.000000     ...       \n",
       "\n",
       "          Robbins        Vovk    Yousseff  Brocklebank      Lemore  \\\n",
       "count  891.000000  891.000000  891.000000   891.000000  891.000000   \n",
       "mean     0.001122    0.001122    0.001122     0.001122    0.001122   \n",
       "std      0.033501    0.033501    0.033501     0.033501    0.033501   \n",
       "min      0.000000    0.000000    0.000000     0.000000    0.000000   \n",
       "25%      0.000000    0.000000    0.000000     0.000000    0.000000   \n",
       "50%      0.000000    0.000000    0.000000     0.000000    0.000000   \n",
       "75%      0.000000    0.000000    0.000000     0.000000    0.000000   \n",
       "max      1.000000    1.000000    1.000000     1.000000    1.000000   \n",
       "\n",
       "             Badt       Keefe      Hodges   Dantcheff      Potter  \n",
       "count  891.000000  891.000000  891.000000  891.000000  891.000000  \n",
       "mean     0.001122    0.001122    0.001122    0.001122    0.001122  \n",
       "std      0.033501    0.033501    0.033501    0.033501    0.033501  \n",
       "min      0.000000    0.000000    0.000000    0.000000    0.000000  \n",
       "25%      0.000000    0.000000    0.000000    0.000000    0.000000  \n",
       "50%      0.000000    0.000000    0.000000    0.000000    0.000000  \n",
       "75%      0.000000    0.000000    0.000000    0.000000    0.000000  \n",
       "max      1.000000    1.000000    1.000000    1.000000    1.000000  \n",
       "\n",
       "[8 rows x 691 columns]"
      ]
     },
     "execution_count": 48,
     "metadata": {},
     "output_type": "execute_result"
    }
   ],
   "source": [
    "Xtrain.describe(include='all')"
   ]
  },
  {
   "cell_type": "markdown",
   "metadata": {},
   "source": [
    "# Entrainement du modèle sur un Random Forest"
   ]
  },
  {
   "cell_type": "code",
   "execution_count": 49,
   "metadata": {
    "scrolled": false
   },
   "outputs": [
    {
     "name": "stdout",
     "output_type": "stream",
     "text": [
      "Score Train --> 99.8878  %\n"
     ]
    }
   ],
   "source": [
    "y = train.Survived\n",
    "\n",
    "#clf = LinearSVC(random_state=4)\n",
    "#clf.fit(Xtrain, y)\n",
    "#p_tr = clf.predict(Xtrain)\n",
    "#print (\"Score Train -->\", round(clf.score(Xtrain, y) *100,4), \" %\")\n",
    "\n",
    "rf = RandomForestClassifier(n_estimators=100, random_state=1, max_features=1)\n",
    "rf.fit(Xtrain, y)\n",
    "p_tr = rf.predict(Xtrain)\n",
    "print (\"Score Train -->\", round(rf.score(Xtrain, y) *100,4), \" %\")"
   ]
  },
  {
   "cell_type": "markdown",
   "metadata": {},
   "source": [
    "# Formattage des résultats pour Kaggle ;-)"
   ]
  },
  {
   "cell_type": "code",
   "execution_count": 50,
   "metadata": {},
   "outputs": [],
   "source": [
    "p_test = clf.predict(Xtest)\n",
    "result = pd.DataFrame(test['PassengerId'])\n",
    "pred = pd.DataFrame(p_test, columns=['Survived'])\n",
    "result = result.join(pred)"
   ]
  },
  {
   "cell_type": "code",
   "execution_count": 51,
   "metadata": {},
   "outputs": [
    {
     "data": {
      "text/html": [
       "<div>\n",
       "<style scoped>\n",
       "    .dataframe tbody tr th:only-of-type {\n",
       "        vertical-align: middle;\n",
       "    }\n",
       "\n",
       "    .dataframe tbody tr th {\n",
       "        vertical-align: top;\n",
       "    }\n",
       "\n",
       "    .dataframe thead th {\n",
       "        text-align: right;\n",
       "    }\n",
       "</style>\n",
       "<table border=\"1\" class=\"dataframe\">\n",
       "  <thead>\n",
       "    <tr style=\"text-align: right;\">\n",
       "      <th></th>\n",
       "      <th>PassengerId</th>\n",
       "      <th>Survived</th>\n",
       "    </tr>\n",
       "  </thead>\n",
       "  <tbody>\n",
       "    <tr>\n",
       "      <th>count</th>\n",
       "      <td>418.000000</td>\n",
       "      <td>418.000000</td>\n",
       "    </tr>\n",
       "    <tr>\n",
       "      <th>mean</th>\n",
       "      <td>1100.500000</td>\n",
       "      <td>0.964115</td>\n",
       "    </tr>\n",
       "    <tr>\n",
       "      <th>std</th>\n",
       "      <td>120.810458</td>\n",
       "      <td>0.186227</td>\n",
       "    </tr>\n",
       "    <tr>\n",
       "      <th>min</th>\n",
       "      <td>892.000000</td>\n",
       "      <td>0.000000</td>\n",
       "    </tr>\n",
       "    <tr>\n",
       "      <th>25%</th>\n",
       "      <td>996.250000</td>\n",
       "      <td>1.000000</td>\n",
       "    </tr>\n",
       "    <tr>\n",
       "      <th>50%</th>\n",
       "      <td>1100.500000</td>\n",
       "      <td>1.000000</td>\n",
       "    </tr>\n",
       "    <tr>\n",
       "      <th>75%</th>\n",
       "      <td>1204.750000</td>\n",
       "      <td>1.000000</td>\n",
       "    </tr>\n",
       "    <tr>\n",
       "      <th>max</th>\n",
       "      <td>1309.000000</td>\n",
       "      <td>1.000000</td>\n",
       "    </tr>\n",
       "  </tbody>\n",
       "</table>\n",
       "</div>"
      ],
      "text/plain": [
       "       PassengerId    Survived\n",
       "count   418.000000  418.000000\n",
       "mean   1100.500000    0.964115\n",
       "std     120.810458    0.186227\n",
       "min     892.000000    0.000000\n",
       "25%     996.250000    1.000000\n",
       "50%    1100.500000    1.000000\n",
       "75%    1204.750000    1.000000\n",
       "max    1309.000000    1.000000"
      ]
     },
     "execution_count": 51,
     "metadata": {},
     "output_type": "execute_result"
    }
   ],
   "source": [
    "result.describe()"
   ]
  },
  {
   "cell_type": "code",
   "execution_count": 52,
   "metadata": {},
   "outputs": [],
   "source": [
    "result.to_csv(\"./data/result.csv\", columns=[\"PassengerId\", \"Survived\"], index=False)"
   ]
  },
  {
   "cell_type": "markdown",
   "metadata": {},
   "source": [
    "# Score Kaggle : 0.76555"
   ]
  }
 ],
 "metadata": {
  "kernelspec": {
   "display_name": "Python 3",
   "language": "python",
   "name": "python3"
  },
  "language_info": {
   "codemirror_mode": {
    "name": "ipython",
    "version": 3
   },
   "file_extension": ".py",
   "mimetype": "text/x-python",
   "name": "python",
   "nbconvert_exporter": "python",
   "pygments_lexer": "ipython3",
   "version": "3.7.1"
  }
 },
 "nbformat": 4,
 "nbformat_minor": 2
}
