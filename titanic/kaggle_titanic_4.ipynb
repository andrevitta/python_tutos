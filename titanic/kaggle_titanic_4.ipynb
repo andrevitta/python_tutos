{
 "cells": [
  {
   "cell_type": "markdown",
   "metadata": {
    "nbpresent": {
     "id": "e042be29-e1f8-4640-b580-030be4a44f89"
    }
   },
   "source": [
    "# Kaggle Titanic : Toujours plus loin !"
   ]
  },
  {
   "cell_type": "code",
   "execution_count": 18,
   "metadata": {
    "ExecuteTime": {
     "end_time": "2018-07-19T12:27:01.753073Z",
     "start_time": "2018-07-19T12:27:01.734048Z"
    },
    "nbpresent": {
     "id": "3b722877-d7a1-448a-b8f9-d040b9221f05"
    }
   },
   "outputs": [],
   "source": [
    "import pandas as pd\n",
    "import re\n",
    "import numpy as np\n",
    "\n",
    "from sklearn.ensemble import RandomForestClassifier\n",
    "from sklearn.svm import LinearSVC\n",
    "from sklearn.preprocessing import MinMaxScaler\n",
    "from sklearn.ensemble import GradientBoostingClassifier\n",
    "from sklearn.model_selection import cross_val_score\n",
    "from sklearn.model_selection import GridSearchCV\n",
    "\n",
    "train = pd.read_csv(\"./data/train.csv\")\n",
    "test = pd.read_csv(\"./data/test.csv\")\n",
    "full = pd.concat([train, test]) # Assemble les deux jeux de données"
   ]
  },
  {
   "cell_type": "markdown",
   "metadata": {
    "nbpresent": {
     "id": "beb5663a-df0d-4d17-a4f8-70996e7a6ff9"
    }
   },
   "source": [
    "# Récupère la localisation de la cabine : babord ou tribord)\n",
    "https://fr.wikipedia.org/wiki/Passerelle_de_navigation_du_Titanic\n",
    "\n",
    "L'évacuation des passagers dans les canots est organisée ainsi : le premier officier William Murdoch est chargé de tous les canots situés à tribord (c'est-à-dire tous les canots portant un chiffre impair en plus des canots A et C) et le deuxième officier Charles Lightoller est chargé de tous les canots situés à bâbord (tous les canots portant un chiffre pair en plus des canots B et D). Les autres officiers se doivent d'assister Murdoch et Lightoller dans leurs tâches. À 0 h 55, le troisième officier Pitman aide au remplissage du canot no 5 puis embarque dans celui-ci pour en prendre le commandement.\n",
    "\n",
    "Les stratégies ont cependant différé entre tribord et bâbord. Les différences principales se tiennent par l'interprétation de la règle des « femmes et des enfants d'abord » et par le nombre de personnes embarquées. D'abord, William Murdoch a fait embarquer en moyenne 42 personnes pour les dix canots dont il s'est occupé, contre 32 personnes en moyenne pour huit canots par Charles Lightoller. La méthode de Murdoch consistait à donner la priorité aux femmes et aux enfants et à faire monter les hommes pour remplir les places restées vides (par exemple le canot no 15 comportait environ 50 hommes pour 65 personnes au total)d 14. Au contraire, Lightoller ne faisait monter que des femmes et des enfants et interdisait quasiment systématiquement l'accès aux hommes, préférant retenir les canots en attendant que davantage de femmes et d'enfants ne se présentent. La méthode de Lightoller rendait difficile le plein chargement des canots car il n'y avait sur le Titanic que 500 femmes et enfants alors que les canots pouvaient accueillir au total 1 178 personnes. De même, Lightoller craignait de mettre en danger les canots si ceux-ci étaient trop chargés. La méthode de Murdoch a permis que les canots soient mieux remplis mais aussi qu'ils soient plus vite mis à la mer ; par exemple à 1 h 45, il ne restait que deux canots à tribord contre encore cinq à bâbord. On peut aussi constater que les trois derniers canots tribord ont été quasiment remplis au maximum alors que Lightoller n'en a rempli aucun en totalité. Enfin, aucun des deux hommes n'est parvenu à mettre à l'eau correctement les canots situés au-dessus du pont des officiers, du fait de leur emplacement éloigné des bossoirs et par manque de temps (source wikipédia)."
   ]
  },
  {
   "cell_type": "code",
   "execution_count": 13,
   "metadata": {
    "ExecuteTime": {
     "end_time": "2018-07-19T12:26:13.869827Z",
     "start_time": "2018-07-19T12:26:13.208285Z"
    },
    "nbpresent": {
     "id": "e03af6f4-f885-49ef-b221-7fac1c8d9aed"
    },
    "scrolled": true
   },
   "outputs": [
    {
     "data": {
      "text/html": [
       "<div>\n",
       "<style scoped>\n",
       "    .dataframe tbody tr th:only-of-type {\n",
       "        vertical-align: middle;\n",
       "    }\n",
       "\n",
       "    .dataframe tbody tr th {\n",
       "        vertical-align: top;\n",
       "    }\n",
       "\n",
       "    .dataframe thead th {\n",
       "        text-align: right;\n",
       "    }\n",
       "</style>\n",
       "<table border=\"1\" class=\"dataframe\">\n",
       "  <thead>\n",
       "    <tr style=\"text-align: right;\">\n",
       "      <th></th>\n",
       "      <th>PassengerId</th>\n",
       "      <th>Survived</th>\n",
       "      <th>Pclass</th>\n",
       "      <th>Name</th>\n",
       "      <th>Sex</th>\n",
       "      <th>Age</th>\n",
       "      <th>SibSp</th>\n",
       "      <th>Parch</th>\n",
       "      <th>Ticket</th>\n",
       "      <th>Fare</th>\n",
       "      <th>Cabin</th>\n",
       "      <th>Embarked</th>\n",
       "      <th>CabinNumber</th>\n",
       "      <th>CabinBaTri</th>\n",
       "    </tr>\n",
       "  </thead>\n",
       "  <tbody>\n",
       "    <tr>\n",
       "      <th>0</th>\n",
       "      <td>1</td>\n",
       "      <td>0</td>\n",
       "      <td>3</td>\n",
       "      <td>Braund, Mr. Owen Harris</td>\n",
       "      <td>male</td>\n",
       "      <td>22.0</td>\n",
       "      <td>1</td>\n",
       "      <td>0</td>\n",
       "      <td>A/5 21171</td>\n",
       "      <td>7.2500</td>\n",
       "      <td>X0</td>\n",
       "      <td>S</td>\n",
       "      <td>0</td>\n",
       "      <td>2</td>\n",
       "    </tr>\n",
       "    <tr>\n",
       "      <th>1</th>\n",
       "      <td>2</td>\n",
       "      <td>1</td>\n",
       "      <td>1</td>\n",
       "      <td>Cumings, Mrs. John Bradley (Florence Briggs Th...</td>\n",
       "      <td>female</td>\n",
       "      <td>38.0</td>\n",
       "      <td>1</td>\n",
       "      <td>0</td>\n",
       "      <td>PC 17599</td>\n",
       "      <td>71.2833</td>\n",
       "      <td>C85</td>\n",
       "      <td>C</td>\n",
       "      <td>85</td>\n",
       "      <td>1</td>\n",
       "    </tr>\n",
       "    <tr>\n",
       "      <th>2</th>\n",
       "      <td>3</td>\n",
       "      <td>1</td>\n",
       "      <td>3</td>\n",
       "      <td>Heikkinen, Miss. Laina</td>\n",
       "      <td>female</td>\n",
       "      <td>26.0</td>\n",
       "      <td>0</td>\n",
       "      <td>0</td>\n",
       "      <td>STON/O2. 3101282</td>\n",
       "      <td>7.9250</td>\n",
       "      <td>X0</td>\n",
       "      <td>S</td>\n",
       "      <td>0</td>\n",
       "      <td>2</td>\n",
       "    </tr>\n",
       "    <tr>\n",
       "      <th>3</th>\n",
       "      <td>4</td>\n",
       "      <td>1</td>\n",
       "      <td>1</td>\n",
       "      <td>Futrelle, Mrs. Jacques Heath (Lily May Peel)</td>\n",
       "      <td>female</td>\n",
       "      <td>35.0</td>\n",
       "      <td>1</td>\n",
       "      <td>0</td>\n",
       "      <td>113803</td>\n",
       "      <td>53.1000</td>\n",
       "      <td>C123</td>\n",
       "      <td>S</td>\n",
       "      <td>123</td>\n",
       "      <td>1</td>\n",
       "    </tr>\n",
       "    <tr>\n",
       "      <th>4</th>\n",
       "      <td>5</td>\n",
       "      <td>0</td>\n",
       "      <td>3</td>\n",
       "      <td>Allen, Mr. William Henry</td>\n",
       "      <td>male</td>\n",
       "      <td>35.0</td>\n",
       "      <td>0</td>\n",
       "      <td>0</td>\n",
       "      <td>373450</td>\n",
       "      <td>8.0500</td>\n",
       "      <td>X0</td>\n",
       "      <td>S</td>\n",
       "      <td>0</td>\n",
       "      <td>2</td>\n",
       "    </tr>\n",
       "  </tbody>\n",
       "</table>\n",
       "</div>"
      ],
      "text/plain": [
       "   PassengerId  Survived  Pclass  \\\n",
       "0            1         0       3   \n",
       "1            2         1       1   \n",
       "2            3         1       3   \n",
       "3            4         1       1   \n",
       "4            5         0       3   \n",
       "\n",
       "                                                Name     Sex   Age  SibSp  \\\n",
       "0                            Braund, Mr. Owen Harris    male  22.0      1   \n",
       "1  Cumings, Mrs. John Bradley (Florence Briggs Th...  female  38.0      1   \n",
       "2                             Heikkinen, Miss. Laina  female  26.0      0   \n",
       "3       Futrelle, Mrs. Jacques Heath (Lily May Peel)  female  35.0      1   \n",
       "4                           Allen, Mr. William Henry    male  35.0      0   \n",
       "\n",
       "   Parch            Ticket     Fare Cabin Embarked  CabinNumber  CabinBaTri  \n",
       "0      0         A/5 21171   7.2500    X0        S            0           2  \n",
       "1      0          PC 17599  71.2833   C85        C           85           1  \n",
       "2      0  STON/O2. 3101282   7.9250    X0        S            0           2  \n",
       "3      0            113803  53.1000  C123        S          123           1  \n",
       "4      0            373450   8.0500    X0        S            0           2  "
      ]
     },
     "execution_count": 13,
     "metadata": {},
     "output_type": "execute_result"
    }
   ],
   "source": [
    "X = train\n",
    "X['CabinNumber'] = 0\n",
    "X['CabinBaTri'] = 0\n",
    "X['Cabin'] = X['Cabin'].fillna('X0')\n",
    "for idx, cab in enumerate(X['Cabin']):\n",
    "    cb = cab.split(\" \")[0]\n",
    "    if cb[1:].isnumeric():\n",
    "        numcab = int(cb[1:])\n",
    "    else:\n",
    "        numcab = 0\n",
    "    # Récupère le numéro de cabine\n",
    "    X.loc[idx, 'CabinNumber']= numcab\n",
    "    \n",
    "    # Affecte pair (0) ou Impair (1) / babord/Tribord\n",
    "    if (numcab > 0): \n",
    "        X.loc[idx, 'CabinBaTri'] = int(numcab % 2)\n",
    "    else:\n",
    "        X.loc[idx, 'CabinBaTri'] = 2\n",
    "\n",
    "X.head(5)"
   ]
  },
  {
   "cell_type": "markdown",
   "metadata": {
    "nbpresent": {
     "id": "239d63d7-a1e1-4042-adb2-18dd2897b1a0"
    }
   },
   "source": [
    "# Création d'une fonction de préparation"
   ]
  },
  {
   "cell_type": "code",
   "execution_count": 14,
   "metadata": {
    "ExecuteTime": {
     "end_time": "2018-07-19T12:26:14.651548Z",
     "start_time": "2018-07-19T12:26:14.302773Z"
    },
    "nbpresent": {
     "id": "44dbd19a-2782-436f-84b6-c60e88ffbda3"
    }
   },
   "outputs": [],
   "source": [
    "# Création d'un DataFrame avec tous les noms de famille (full)\n",
    "familynames = []\n",
    "for noms in full[\"Name\"]:\n",
    "    familynames.append(re.search('([A-Za-z0-9]*),\\ ([A-Za-z0-9 ]*)\\. (.*)', noms).group(1))\n",
    "pdfamilynames = pd.DataFrame(familynames, columns = ['familynames'])\n",
    "\n",
    "# Créé une liste filtrée des noms de famille avec plus de 2 occurences !\n",
    "famsurv = full.join(pdfamilynames)\n",
    "famCount = famsurv['familynames'].value_counts()\n",
    "pdfamCounts = pd.DataFrame(famCount, columns = ['familynames'])\n",
    "pdfamCounts['famCount'] = pdfamCounts['familynames']\n",
    "pdfamCounts['familynames'] = pdfamCounts.index\n",
    "pdfamCounts = pdfamCounts[pdfamCounts['famCount'] >= 2]\n",
    "\n",
    "# Fonction ajoutant les colonnes noms famille dans un DF\n",
    "def addColumnFamilyName(data):\n",
    "    # ajoute les colonnes nulles avec les noms de famille\n",
    "    for family in pdfamCounts['familynames']:\n",
    "        data[family] = 0\n",
    "    # récupère le nom de famille dans le DF\n",
    "    for idx, f in enumerate(data[\"Name\"]):\n",
    "        # Modifie les colonnes dummies du nom de famille en 1 ou 0 selon le nom de famille\n",
    "        iNom = re.search('([A-Za-z0-9]*),\\ ([A-Za-z0-9 ]*)\\. (.*)', f).group(1)\n",
    "        for col in data.columns:\n",
    "            if (col == iNom):\n",
    "                data.loc[idx, col] = 1\n",
    "\n",
    "# Fonction globale de préparation : Retourne le DataFrame préparé\n",
    "def featureEngineering(data):\n",
    "    # Sexe\n",
    "    sexe = pd.get_dummies(data['Sex'], prefix='sex')\n",
    "    \n",
    "    # Cabine, récupération du pont (on remplace le pont T proche du pont A)\n",
    "    cabin = pd.get_dummies(data['Cabin'].fillna('X').str[0].replace('T', 'A'), prefix='Cabin')\n",
    "    \n",
    "    data['CabinNumber'] = 0\n",
    "    data['CabinBaTri'] = 0\n",
    "    data['Cabin'] = data['Cabin'].fillna('X0')\n",
    "    for idx, cab in enumerate(data['Cabin']):\n",
    "        cb = cab.split(\" \")[0]\n",
    "        if cb[1:].isnumeric():\n",
    "            numcab = int(cb[1:])\n",
    "        else:\n",
    "            numcab = 0\n",
    "        # Récupère le numéro de cabine\n",
    "        data.loc[idx, 'CabinNumber']= numcab\n",
    "\n",
    "        # Affecte pair (0) ou Impair (1) / babord/Tribord\n",
    "        if (numcab > 0): \n",
    "            data.loc[idx, 'CabinBaTri'] = int(numcab % 2)\n",
    "        else:\n",
    "            data.loc[idx, 'CabinBaTri'] = 2\n",
    "    \n",
    "    # Age et catégories d'age\n",
    "    age = data['Age'].fillna(data['Age'].median()) # Age médian de 3eme classe\n",
    "    catAge = []\n",
    "    for i in range(data.shape[0]) :\n",
    "        if age[i] < 3:\n",
    "            catAge.append(\"bebe\")\n",
    "        elif age[i] >= 3 and age[i] < 15:\n",
    "            catAge.append(\"enfant\")\n",
    "        elif age[i] >= 15 and age[i] < 60:\n",
    "            catAge.append(\"adulte\") \n",
    "        else:\n",
    "            catAge.append(\"vieux\")\n",
    "    catage = pd.get_dummies(pd.DataFrame(catAge, columns = ['catAge']), prefix='catAge')\n",
    "    \n",
    "    # Titre et Rang\n",
    "    data['Titre'] = data.Name.map(lambda x : x.split(\",\")[1].split(\".\")[0]).fillna('X')\n",
    "    data['Rang'] = 0\n",
    "    vip = ['Don','Sir', 'Major', 'Col', 'Jonkheer', 'Dr']\n",
    "    femmeenfant = ['Miss', 'Mrs', 'Lady', 'Mlle', 'the Countess', 'Ms', 'Mme', 'Dona', 'Master']\n",
    "    for idx, titre in enumerate(data['Titre']): \n",
    "        if (titre.strip() in femmeenfant) :\n",
    "            data.loc[idx, 'Rang'] = 'FE'\n",
    "        elif (titre.strip() in vip) :\n",
    "            data.loc[idx, 'Rang'] = 'VIP'\n",
    "        else :\n",
    "            data.loc[idx, 'Rang'] = 'Autres'\n",
    "    rg = pd.get_dummies(data['Rang'], prefix='Rang')\n",
    "    \n",
    "    # Embarquement\n",
    "    emb = pd.get_dummies(data['Embarked'], prefix='emb')\n",
    "    \n",
    "    # Prix unitaire - Ticket, Prépartion d'un DF (TicketCounts) contenant les ticket avec leur nb d'occurence\n",
    "    TicketCounts = pd.DataFrame(data['Ticket'].value_counts().head())\n",
    "    TicketCounts['TicketCount'] = TicketCounts['Ticket'] # renomme la colonne Ticket\n",
    "    TicketCounts['Ticket'] = TicketCounts.index # rajoute une colonne Ticket pour le merge (jointure)\n",
    "    # reporte le résultat dans le dataframe test (jointure des datasets)\n",
    "    fin = pd.merge(data, TicketCounts, how='left', on='Ticket')\n",
    "    fin['PrixUnitaire'] = fin['Fare'] / fin['TicketCount'].fillna(1)\n",
    "    prxunit = pd.DataFrame(fin['PrixUnitaire'])\n",
    "    # Prix moyen 3eme classe (pour le passager de 3eme qui n'a pas de prix) ... on aurait pu faire une fonction ici ;-)\n",
    "    prx3eme = data.loc[data['Pclass'] == 3]['Fare'].mean()\n",
    "    prxunit = prxunit['PrixUnitaire'].fillna(prx3eme)\n",
    "    \n",
    "    # Classe\n",
    "    pc = pd.DataFrame(MinMaxScaler().fit_transform(data[['Pclass']]), columns = ['Classe'])\n",
    "    \n",
    "    # Constitution du DataFrame\n",
    "    dp = data[['SibSp', 'Parch', 'Name', 'CabinBaTri']].join(pc).join(sexe).join(emb).join(prxunit).join(cabin).join(age).join(catage).join(rg)\n",
    "    addColumnFamilyName(dp)\n",
    "    del dp['Name']\n",
    "    \n",
    "    return dp"
   ]
  },
  {
   "cell_type": "code",
   "execution_count": 15,
   "metadata": {
    "ExecuteTime": {
     "end_time": "2018-07-19T12:26:16.835976Z",
     "start_time": "2018-07-19T12:26:14.855120Z"
    },
    "nbpresent": {
     "id": "4d17ec05-2047-496d-abf4-253f569e98e6"
    },
    "scrolled": true
   },
   "outputs": [],
   "source": [
    "Xtrain = featureEngineering(train)\n",
    "Xtest = featureEngineering(test)\n",
    "y = train.Survived"
   ]
  },
  {
   "cell_type": "markdown",
   "metadata": {
    "nbpresent": {
     "id": "b4ab111d-669e-4c05-a624-c26703e75aad"
    }
   },
   "source": [
    "# Entrainement du modèle sur un Gradient Boosting"
   ]
  },
  {
   "cell_type": "code",
   "execution_count": 5,
   "metadata": {
    "ExecuteTime": {
     "end_time": "2018-07-19T11:53:07.164571Z",
     "start_time": "2018-07-19T11:52:51.303923Z"
    },
    "nbpresent": {
     "id": "d3e77f9b-b066-471e-8500-b7de72a9f668"
    },
    "scrolled": false
   },
   "outputs": [
    {
     "name": "stdout",
     "output_type": "stream",
     "text": [
      "Score Train --> 99.6633  %\n"
     ]
    }
   ],
   "source": [
    "gb = GradientBoostingClassifier(n_estimators=1000, learning_rate=0.5, max_depth=20, random_state=3)\n",
    "gb.fit(Xtrain, y)\n",
    "p_gb = gb.predict(Xtrain)\n",
    "print (\"Score Train -->\", round(gb.score(Xtrain, y) *100,4), \" %\")"
   ]
  },
  {
   "cell_type": "markdown",
   "metadata": {
    "nbpresent": {
     "id": "7f8973c3-21a6-4172-9d10-ccdf65499e7e"
    }
   },
   "source": [
    "## Validation croisée"
   ]
  },
  {
   "cell_type": "code",
   "execution_count": 6,
   "metadata": {
    "ExecuteTime": {
     "end_time": "2018-07-19T11:51:14.381214Z",
     "start_time": "2018-07-19T11:50:21.080083Z"
    },
    "nbpresent": {
     "id": "5739730d-8175-4bee-9eb7-4d5059169789"
    },
    "run_control": {
     "marked": false
    }
   },
   "outputs": [
    {
     "name": "stdout",
     "output_type": "stream",
     "text": [
      "Validation croisée : {} [0.79888268 0.82681564 0.84831461 0.8258427  0.84180791]\n",
      "Moyenne :  82.8333  %\n"
     ]
    }
   ],
   "source": [
    "scores = cross_val_score(gb, Xtrain, y, cv=5)\n",
    "print (\"Validation croisée : {}\", format(scores))\n",
    "print (\"Moyenne : \", round(scores.mean() *100,4), \" %\")"
   ]
  },
  {
   "cell_type": "markdown",
   "metadata": {
    "nbpresent": {
     "id": "317d693e-0a55-4d47-9062-a6eae3ca0f7d"
    }
   },
   "source": [
    "## Recherche sur grille"
   ]
  },
  {
   "cell_type": "code",
   "execution_count": 6,
   "metadata": {
    "ExecuteTime": {
     "end_time": "2018-07-19T12:08:46.652977Z",
     "start_time": "2018-07-19T11:53:12.734855Z"
    },
    "nbpresent": {
     "id": "a20d3898-170d-439b-803b-eccb6103a57a"
    },
    "run_control": {
     "marked": false
    },
    "scrolled": true
   },
   "outputs": [
    {
     "name": "stdout",
     "output_type": "stream",
     "text": [
      "Score final :  99.6633  %\n",
      "Meilleurs parametres:  {'learning_rate': 0.5, 'max_depth': 10, 'n_estimators': 800, 'random_state': 3}\n",
      "Meilleure config:  GradientBoostingClassifier(criterion='friedman_mse', init=None,\n",
      "              learning_rate=0.5, loss='deviance', max_depth=10,\n",
      "              max_features=None, max_leaf_nodes=None,\n",
      "              min_impurity_decrease=0.0, min_impurity_split=None,\n",
      "              min_samples_leaf=1, min_samples_split=2,\n",
      "              min_weight_fraction_leaf=0.0, n_estimators=800,\n",
      "              presort='auto', random_state=3, subsample=1.0, verbose=0,\n",
      "              warm_start=False)\n"
     ]
    }
   ],
   "source": [
    "param_grid = { 'n_estimators' : [800, 1000], \n",
    "               'learning_rate' : [0.4, 0.5, 0.6],\n",
    "               'max_depth' : [8, 10, 11],\n",
    "               'random_state' : [3, 4]}\n",
    "grid_search = GridSearchCV(GradientBoostingClassifier(), param_grid, cv=5)\n",
    "grid_search.fit(Xtrain, y)\n",
    "print (\"Score final : \", round(grid_search.score(Xtrain, y) *100,4), \" %\")\n",
    "print (\"Meilleurs parametres: \", grid_search.best_params_)\n",
    "print (\"Meilleure config: \", grid_search.best_estimator_)"
   ]
  },
  {
   "cell_type": "markdown",
   "metadata": {
    "ExecuteTime": {
     "end_time": "2018-07-19T12:24:38.352170Z",
     "start_time": "2018-07-19T12:24:38.350168Z"
    }
   },
   "source": [
    "# Entrainement du modèle sur un Random Forest"
   ]
  },
  {
   "cell_type": "code",
   "execution_count": 16,
   "metadata": {
    "ExecuteTime": {
     "end_time": "2018-07-19T12:26:26.266123Z",
     "start_time": "2018-07-19T12:26:23.687062Z"
    }
   },
   "outputs": [
    {
     "name": "stdout",
     "output_type": "stream",
     "text": [
      "Score Train --> 99.6633  %\n"
     ]
    }
   ],
   "source": [
    "rf = RandomForestClassifier(n_estimators=1000, random_state=3, max_features=1)\n",
    "rf.fit(Xtrain, y)\n",
    "p_tr = rf.predict(Xtrain)\n",
    "print (\"Score Train -->\", round(rf.score(Xtrain, y) *100,4), \" %\")"
   ]
  },
  {
   "cell_type": "markdown",
   "metadata": {},
   "source": [
    "## Recherche sur grille"
   ]
  },
  {
   "cell_type": "code",
   "execution_count": 20,
   "metadata": {
    "ExecuteTime": {
     "end_time": "2018-07-19T12:35:14.733177Z",
     "start_time": "2018-07-19T12:31:19.830028Z"
    }
   },
   "outputs": [
    {
     "name": "stdout",
     "output_type": "stream",
     "text": [
      "Score final :  99.6633  %\n",
      "Meilleurs parametres:  {'max_features': 0.5, 'n_estimators': 1000, 'random_state': 3}\n",
      "Meilleure config:  RandomForestClassifier(bootstrap=True, class_weight=None, criterion='gini',\n",
      "            max_depth=None, max_features=0.5, max_leaf_nodes=None,\n",
      "            min_impurity_decrease=0.0, min_impurity_split=None,\n",
      "            min_samples_leaf=1, min_samples_split=2,\n",
      "            min_weight_fraction_leaf=0.0, n_estimators=1000, n_jobs=1,\n",
      "            oob_score=False, random_state=3, verbose=0, warm_start=False)\n"
     ]
    }
   ],
   "source": [
    "param_grid_rf = { 'n_estimators' : [800, 1000], \n",
    "               'max_features' : [1, 0.5, 0.2],\n",
    "               'random_state' : [3, 4, 5]}\n",
    "grid_search_rf = GridSearchCV(RandomForestClassifier(), param_grid_rf, cv=5)\n",
    "grid_search_rf.fit(Xtrain, y)\n",
    "print (\"Score final : \", round(grid_search_rf.score(Xtrain, y) *100,4), \" %\")\n",
    "print (\"Meilleurs parametres: \", grid_search_rf.best_params_)\n",
    "print (\"Meilleure config: \", grid_search_rf.best_estimator_)"
   ]
  },
  {
   "cell_type": "markdown",
   "metadata": {},
   "source": [
    "Le résultat est nettement moins bon que le Gradient Boosting !"
   ]
  },
  {
   "cell_type": "markdown",
   "metadata": {
    "nbpresent": {
     "id": "e6b3942c-82bb-4a5e-a9fb-36273cc66854"
    }
   },
   "source": [
    "# Formattage des résultats pour Kaggle ;-)"
   ]
  },
  {
   "cell_type": "code",
   "execution_count": 21,
   "metadata": {
    "ExecuteTime": {
     "end_time": "2018-07-19T12:36:15.487505Z",
     "start_time": "2018-07-19T12:36:15.354933Z"
    },
    "nbpresent": {
     "id": "95cf3d2c-8ee3-47ae-825a-4bad3208d47e"
    },
    "run_control": {
     "marked": false
    }
   },
   "outputs": [
    {
     "data": {
      "text/html": [
       "<div>\n",
       "<style scoped>\n",
       "    .dataframe tbody tr th:only-of-type {\n",
       "        vertical-align: middle;\n",
       "    }\n",
       "\n",
       "    .dataframe tbody tr th {\n",
       "        vertical-align: top;\n",
       "    }\n",
       "\n",
       "    .dataframe thead th {\n",
       "        text-align: right;\n",
       "    }\n",
       "</style>\n",
       "<table border=\"1\" class=\"dataframe\">\n",
       "  <thead>\n",
       "    <tr style=\"text-align: right;\">\n",
       "      <th></th>\n",
       "      <th>PassengerId</th>\n",
       "      <th>Survived</th>\n",
       "    </tr>\n",
       "  </thead>\n",
       "  <tbody>\n",
       "    <tr>\n",
       "      <th>count</th>\n",
       "      <td>418.000000</td>\n",
       "      <td>418.000000</td>\n",
       "    </tr>\n",
       "    <tr>\n",
       "      <th>mean</th>\n",
       "      <td>1100.500000</td>\n",
       "      <td>0.377990</td>\n",
       "    </tr>\n",
       "    <tr>\n",
       "      <th>std</th>\n",
       "      <td>120.810458</td>\n",
       "      <td>0.485466</td>\n",
       "    </tr>\n",
       "    <tr>\n",
       "      <th>min</th>\n",
       "      <td>892.000000</td>\n",
       "      <td>0.000000</td>\n",
       "    </tr>\n",
       "    <tr>\n",
       "      <th>25%</th>\n",
       "      <td>996.250000</td>\n",
       "      <td>0.000000</td>\n",
       "    </tr>\n",
       "    <tr>\n",
       "      <th>50%</th>\n",
       "      <td>1100.500000</td>\n",
       "      <td>0.000000</td>\n",
       "    </tr>\n",
       "    <tr>\n",
       "      <th>75%</th>\n",
       "      <td>1204.750000</td>\n",
       "      <td>1.000000</td>\n",
       "    </tr>\n",
       "    <tr>\n",
       "      <th>max</th>\n",
       "      <td>1309.000000</td>\n",
       "      <td>1.000000</td>\n",
       "    </tr>\n",
       "  </tbody>\n",
       "</table>\n",
       "</div>"
      ],
      "text/plain": [
       "       PassengerId    Survived\n",
       "count   418.000000  418.000000\n",
       "mean   1100.500000    0.377990\n",
       "std     120.810458    0.485466\n",
       "min     892.000000    0.000000\n",
       "25%     996.250000    0.000000\n",
       "50%    1100.500000    0.000000\n",
       "75%    1204.750000    1.000000\n",
       "max    1309.000000    1.000000"
      ]
     },
     "execution_count": 21,
     "metadata": {},
     "output_type": "execute_result"
    }
   ],
   "source": [
    "p_test = grid_search.predict(Xtest)\n",
    "\n",
    "result = pd.DataFrame(test['PassengerId'])\n",
    "pred = pd.DataFrame(p_test, columns=['Survived'])\n",
    "result = result.join(pred)\n",
    "result.describe()"
   ]
  },
  {
   "cell_type": "code",
   "execution_count": 22,
   "metadata": {
    "ExecuteTime": {
     "end_time": "2018-07-19T12:36:16.825918Z",
     "start_time": "2018-07-19T12:36:16.817928Z"
    },
    "nbpresent": {
     "id": "9ce19c1e-e2bb-4487-aa74-ac19afde3187"
    },
    "scrolled": true
   },
   "outputs": [],
   "source": [
    "result.to_csv(\"./data/resultrgb.csv\", columns=[\"PassengerId\", \"Survived\"], index=False)"
   ]
  },
  {
   "cell_type": "markdown",
   "metadata": {
    "nbpresent": {
     "id": "22369ac8-e4cf-4afc-b9f8-7ed25d48dcee"
    }
   },
   "source": [
    "# Score : 78,9%"
   ]
  },
  {
   "cell_type": "code",
   "execution_count": null,
   "metadata": {},
   "outputs": [],
   "source": []
  }
 ],
 "metadata": {
  "kernelspec": {
   "display_name": "Python 3",
   "language": "python",
   "name": "python3"
  },
  "language_info": {
   "codemirror_mode": {
    "name": "ipython",
    "version": 3
   },
   "file_extension": ".py",
   "mimetype": "text/x-python",
   "name": "python",
   "nbconvert_exporter": "python",
   "pygments_lexer": "ipython3",
   "version": "3.6.4"
  },
  "notify_time": "5"
 },
 "nbformat": 4,
 "nbformat_minor": 2
}
