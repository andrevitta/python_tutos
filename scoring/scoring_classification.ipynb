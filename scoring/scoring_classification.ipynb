{
 "cells": [
  {
   "cell_type": "markdown",
   "metadata": {},
   "source": [
    "## Scoring / Classification"
   ]
  },
  {
   "cell_type": "markdown",
   "metadata": {},
   "source": [
    "### Préparation des données"
   ]
  },
  {
   "cell_type": "code",
   "execution_count": 2,
   "metadata": {},
   "outputs": [
    {
     "data": {
      "text/html": [
       "<div>\n",
       "<style scoped>\n",
       "    .dataframe tbody tr th:only-of-type {\n",
       "        vertical-align: middle;\n",
       "    }\n",
       "\n",
       "    .dataframe tbody tr th {\n",
       "        vertical-align: top;\n",
       "    }\n",
       "\n",
       "    .dataframe thead th {\n",
       "        text-align: right;\n",
       "    }\n",
       "</style>\n",
       "<table border=\"1\" class=\"dataframe\">\n",
       "  <thead>\n",
       "    <tr style=\"text-align: right;\">\n",
       "      <th></th>\n",
       "      <th>Pclass</th>\n",
       "      <th>SibSp</th>\n",
       "      <th>Cabin_A</th>\n",
       "      <th>Cabin_B</th>\n",
       "      <th>Cabin_C</th>\n",
       "      <th>Cabin_D</th>\n",
       "      <th>Cabin_E</th>\n",
       "      <th>Cabin_F</th>\n",
       "      <th>Cabin_G</th>\n",
       "      <th>Cabin_T</th>\n",
       "      <th>Cabin_X</th>\n",
       "      <th>sex_female</th>\n",
       "      <th>sex_male</th>\n",
       "      <th>Age</th>\n",
       "    </tr>\n",
       "  </thead>\n",
       "  <tbody>\n",
       "    <tr>\n",
       "      <th>0</th>\n",
       "      <td>3</td>\n",
       "      <td>1</td>\n",
       "      <td>0</td>\n",
       "      <td>0</td>\n",
       "      <td>0</td>\n",
       "      <td>0</td>\n",
       "      <td>0</td>\n",
       "      <td>0</td>\n",
       "      <td>0</td>\n",
       "      <td>0</td>\n",
       "      <td>1</td>\n",
       "      <td>0</td>\n",
       "      <td>1</td>\n",
       "      <td>22.0</td>\n",
       "    </tr>\n",
       "    <tr>\n",
       "      <th>1</th>\n",
       "      <td>1</td>\n",
       "      <td>1</td>\n",
       "      <td>0</td>\n",
       "      <td>0</td>\n",
       "      <td>1</td>\n",
       "      <td>0</td>\n",
       "      <td>0</td>\n",
       "      <td>0</td>\n",
       "      <td>0</td>\n",
       "      <td>0</td>\n",
       "      <td>0</td>\n",
       "      <td>1</td>\n",
       "      <td>0</td>\n",
       "      <td>38.0</td>\n",
       "    </tr>\n",
       "    <tr>\n",
       "      <th>2</th>\n",
       "      <td>3</td>\n",
       "      <td>0</td>\n",
       "      <td>0</td>\n",
       "      <td>0</td>\n",
       "      <td>0</td>\n",
       "      <td>0</td>\n",
       "      <td>0</td>\n",
       "      <td>0</td>\n",
       "      <td>0</td>\n",
       "      <td>0</td>\n",
       "      <td>1</td>\n",
       "      <td>1</td>\n",
       "      <td>0</td>\n",
       "      <td>26.0</td>\n",
       "    </tr>\n",
       "  </tbody>\n",
       "</table>\n",
       "</div>"
      ],
      "text/plain": [
       "   Pclass  SibSp  Cabin_A  Cabin_B  Cabin_C  Cabin_D  Cabin_E  Cabin_F  \\\n",
       "0       3      1        0        0        0        0        0        0   \n",
       "1       1      1        0        0        1        0        0        0   \n",
       "2       3      0        0        0        0        0        0        0   \n",
       "\n",
       "   Cabin_G  Cabin_T  Cabin_X  sex_female  sex_male   Age  \n",
       "0        0        0        1           0         1  22.0  \n",
       "1        0        0        0           1         0  38.0  \n",
       "2        0        0        1           1         0  26.0  "
      ]
     },
     "execution_count": 2,
     "metadata": {},
     "output_type": "execute_result"
    }
   ],
   "source": [
    "import pandas as pd\n",
    "from sklearn.linear_model import LogisticRegression\n",
    "from sklearn.ensemble import RandomForestClassifier\n",
    "from sklearn.dummy import DummyClassifier\n",
    "\n",
    "titanic = pd.read_csv(\"../titanic/data/train.csv\")\n",
    "def Prepare_Modele(X, cabin):\n",
    "    target = X.Survived\n",
    "    sexe = pd.get_dummies(X['Sex'], prefix='sex')\n",
    "    cabin = pd.get_dummies(cabin.str[0], prefix='Cabin')\n",
    "    age = X['Age'].fillna(X['Age'].mean())\n",
    "    X = X[['Pclass', 'SibSp']].join(cabin).join(sexe).join(age)\n",
    "    return X, target\n",
    "cabin = titanic['Cabin'].fillna('X')\n",
    "X, y = Prepare_Modele(titanic, cabin)\n",
    "X.head(3)"
   ]
  },
  {
   "cell_type": "markdown",
   "metadata": {},
   "source": [
    "### Classification \"dummy\""
   ]
  },
  {
   "cell_type": "code",
   "execution_count": 5,
   "metadata": {},
   "outputs": [
    {
     "data": {
      "text/plain": [
       "0.5331088664421998"
      ]
     },
     "execution_count": 5,
     "metadata": {},
     "output_type": "execute_result"
    }
   ],
   "source": [
    "dummy = DummyClassifier()\n",
    "dummy.fit(X, y)\n",
    "p_dm = dummy.predict(X)\n",
    "dummy.score(X, y)"
   ]
  },
  {
   "cell_type": "markdown",
   "metadata": {},
   "source": [
    "### Classification avec une régression linéaire"
   ]
  },
  {
   "cell_type": "code",
   "execution_count": 3,
   "metadata": {},
   "outputs": [
    {
     "data": {
      "text/plain": [
       "0.8103254769921436"
      ]
     },
     "execution_count": 3,
     "metadata": {},
     "output_type": "execute_result"
    }
   ],
   "source": [
    "lr1 = LogisticRegression()\n",
    "lr1.fit(X, y)\n",
    "p_rl = lr1.predict(X)\n",
    "lr1.score(X, y)"
   ]
  },
  {
   "cell_type": "markdown",
   "metadata": {},
   "source": [
    "### Classification avec forets aléatoires (Random Forest)"
   ]
  },
  {
   "cell_type": "code",
   "execution_count": 4,
   "metadata": {
    "scrolled": true
   },
   "outputs": [
    {
     "data": {
      "text/plain": [
       "0.9214365881032548"
      ]
     },
     "execution_count": 4,
     "metadata": {},
     "output_type": "execute_result"
    }
   ],
   "source": [
    "\n",
    "tree = RandomForestClassifier(n_estimators=100, random_state=0, max_features=2)\n",
    "tree.fit(X, y)\n",
    "p_tr = tree.predict(X)\n",
    "tree.score(X, y)"
   ]
  },
  {
   "cell_type": "markdown",
   "metadata": {},
   "source": [
    "## Matrice de confusion"
   ]
  },
  {
   "cell_type": "code",
   "execution_count": 18,
   "metadata": {},
   "outputs": [
    {
     "name": "stdout",
     "output_type": "stream",
     "text": [
      "Matrice de confusion / Dummy\n",
      " [[318 231]\n",
      " [200 142]]\n",
      "Matrice de confusion / Reg. Linéaire\n",
      " [[473  76]\n",
      " [ 93 249]]\n",
      "Matrice de confusion / Random Foret\n",
      " [[525  24]\n",
      " [ 46 296]]\n"
     ]
    }
   ],
   "source": [
    "from sklearn.metrics import confusion_matrix\n",
    "c_dm = confusion_matrix (y, p_dm)\n",
    "print (\"Matrice de confusion / Dummy\\n\", c_dm)\n",
    "c_rl = confusion_matrix (y, p_rl)\n",
    "print (\"Matrice de confusion / Reg. Linéaire\\n\", c_rl)\n",
    "c_tr = confusion_matrix (y, p_tr)\n",
    "print (\"Matrice de confusion / Random Foret\\n\", c_tr)"
   ]
  },
  {
   "cell_type": "markdown",
   "metadata": {},
   "source": [
    "## Calcul du score f1 (mesure f)"
   ]
  },
  {
   "cell_type": "code",
   "execution_count": 17,
   "metadata": {
    "scrolled": true
   },
   "outputs": [
    {
     "name": "stdout",
     "output_type": "stream",
     "text": [
      "f1 Score / Dummy\n",
      " 0.39720279720279716\n",
      "f1 Score / Reg. Lin.\n",
      " 0.7466266866566716\n",
      "f1 Score / Foret\n",
      " 0.8942598187311178\n"
     ]
    }
   ],
   "source": [
    "from sklearn.metrics import f1_score\n",
    "f1_rl = f1_score(y, p_rl)\n",
    "f1_tr = f1_score(y, p_tr)\n",
    "f1_dm = f1_score(y, p_dm)\n",
    "print (\"f1 Score / Dummy\\n\", f1_dm)\n",
    "print (\"f1 Score / Reg. Lin.\\n\", f1_rl)\n",
    "print (\"f1 Score / Foret\\n\", f1_tr)"
   ]
  },
  {
   "cell_type": "markdown",
   "metadata": {},
   "source": [
    "## Précision, rappel & f-mesure"
   ]
  },
  {
   "cell_type": "code",
   "execution_count": 9,
   "metadata": {
    "scrolled": true
   },
   "outputs": [
    {
     "name": "stdout",
     "output_type": "stream",
     "text": [
      "Dummy\n",
      "              precision    recall  f1-score   support\n",
      "\n",
      "          0       0.61      0.58      0.60       549\n",
      "          1       0.38      0.42      0.40       342\n",
      "\n",
      "avg / total       0.52      0.52      0.52       891\n",
      "\n"
     ]
    }
   ],
   "source": [
    "print(\"Dummy\\n\", classification_report(y, p_dm))"
   ]
  },
  {
   "cell_type": "code",
   "execution_count": 8,
   "metadata": {},
   "outputs": [
    {
     "name": "stdout",
     "output_type": "stream",
     "text": [
      "Régression linéaire\n",
      "              precision    recall  f1-score   support\n",
      "\n",
      "          0       0.84      0.86      0.85       549\n",
      "          1       0.77      0.73      0.75       342\n",
      "\n",
      "avg / total       0.81      0.81      0.81       891\n",
      "\n"
     ]
    }
   ],
   "source": [
    "from sklearn.metrics import classification_report\n",
    "print(\"Régression linéaire\\n\", classification_report(y, p_rl))"
   ]
  },
  {
   "cell_type": "code",
   "execution_count": 16,
   "metadata": {},
   "outputs": [
    {
     "name": "stdout",
     "output_type": "stream",
     "text": [
      "Random Forest\n",
      "              precision    recall  f1-score   support\n",
      "\n",
      "          0       0.92      0.96      0.94       549\n",
      "          1       0.93      0.87      0.89       342\n",
      "\n",
      "avg / total       0.92      0.92      0.92       891\n",
      "\n"
     ]
    }
   ],
   "source": [
    "print(\"Random Forest\\n\", classification_report(y, p_tr))"
   ]
  },
  {
   "cell_type": "markdown",
   "metadata": {},
   "source": [
    "## Courbe de ROC"
   ]
  },
  {
   "cell_type": "code",
   "execution_count": 15,
   "metadata": {},
   "outputs": [
    {
     "data": {
      "text/plain": [
       "<matplotlib.legend.Legend at 0x204d0d54fd0>"
      ]
     },
     "execution_count": 15,
     "metadata": {},
     "output_type": "execute_result"
    },
    {
     "data": {
      "image/png": "[encoded data removed]",
      "text/plain": [
       "<matplotlib.figure.Figure at 0x204d0d7f978>"
      ]
     },
     "metadata": {},
     "output_type": "display_data"
    }
   ],
   "source": [
    "from sklearn.metrics import roc_curve\n",
    "import matplotlib.pyplot as plt\n",
    "\n",
    "faux_positifs_rl, vrais_positifs_rl, seuil_rl = roc_curve(y, lr1.decision_function(X))\n",
    "plt.plot(faux_positifs_rl, vrais_positifs_rl, label=\"Régression Linéaire\")\n",
    "faux_positifs_tr, vrais_positifs_tr, seuil_tr = roc_curve(y, tree.predict_proba(X)[:,1])\n",
    "plt.plot(faux_positifs_tr, vrais_positifs_tr, label=\"Random Forest\")\n",
    "faux_positifs_dm, vrais_positifs_dm, seuil_dm = roc_curve(y, dummy.predict_proba(X)[:,1])\n",
    "plt.plot(faux_positifs_dm, vrais_positifs_dm, label=\"Dummy\")\n",
    "\n",
    "plt.xlabel (\"Faux positifs\")\n",
    "plt.ylabel (\"Vrais positifs\")\n",
    "plt.legend ()"
   ]
  },
  {
   "cell_type": "markdown",
   "metadata": {},
   "source": [
    "## Surface AUC"
   ]
  },
  {
   "cell_type": "code",
   "execution_count": 19,
   "metadata": {},
   "outputs": [
    {
     "name": "stdout",
     "output_type": "stream",
     "text": [
      "AUC Dummy:  0.5134454989933851\n",
      "AUC Reg. linéaire:  0.860642422693041\n",
      "AUC Random Forest:  0.9708374609870152\n"
     ]
    }
   ],
   "source": [
    "from sklearn import metrics\n",
    "print (\"AUC Dummy: \",metrics.auc(faux_positifs_dm, vrais_positifs_dm))\n",
    "print (\"AUC Reg. linéaire: \",metrics.auc(faux_positifs_rl, vrais_positifs_rl))\n",
    "print (\"AUC Random Forest: \",metrics.auc(faux_positifs_tr, vrais_positifs_tr))"
   ]
  }
 ],
 "metadata": {
  "kernelspec": {
   "display_name": "Python 3",
   "language": "python",
   "name": "python3"
  },
  "language_info": {
   "codemirror_mode": {
    "name": "ipython",
    "version": 3
   },
   "file_extension": ".py",
   "mimetype": "text/x-python",
   "name": "python",
   "nbconvert_exporter": "python",
   "pygments_lexer": "ipython3",
   "version": "3.6.4"
  }
 },
 "nbformat": 4,
 "nbformat_minor": 2
}
