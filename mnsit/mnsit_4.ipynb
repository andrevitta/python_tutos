{
 "cells": [
  {
   "cell_type": "code",
   "execution_count": 9,
   "metadata": {
    "ExecuteTime": {
     "end_time": "2018-07-28T08:38:09.519825Z",
     "start_time": "2018-07-28T08:38:03.124242Z"
    }
   },
   "outputs": [],
   "source": [
    "import pandas as pd\n",
    "import numpy as np\n",
    "import matplotlib\n",
    "import matplotlib.pyplot as plt\n",
    "import datetime\n",
    "import scipy.ndimage as sc\n",
    "\n",
    "from sklearn.model_selection import cross_val_score\n",
    "from sklearn.model_selection import GridSearchCV\n",
    "from sklearn.neighbors import KNeighborsClassifier\n",
    "from sklearn.ensemble import RandomForestClassifier\n",
    "from sklearn.linear_model import SGDClassifier\n",
    "\n",
    "pd.options.display.max_columns = None\n",
    "\n",
    "TRAIN = pd.read_csv(\"./data/train.csv\", delimiter=',') #, skiprows=1)\n",
    "TEST = pd.read_csv(\"./data/test.csv\", delimiter=',') #, skiprows=1)\n",
    "X_TRAIN = TRAIN.copy()\n",
    "X_TEST = TEST.copy()\n",
    "y = TRAIN.label\n",
    "del X_TRAIN[\"label\"]\n",
    "\n",
    "# Fonction d'export pour kaggle\n",
    "def exportKaggle(algo):\n",
    "    p_test = algo.predict(X_TEST)\n",
    "    result = pd.DataFrame(X_TEST.index + 1, columns=['ImageId'])\n",
    "    pred = pd.DataFrame(p_test, columns=['Label'])\n",
    "    result = result.join(pred)\n",
    "    fichier = \"./data/result_\" + str(datetime.datetime.now()).replace(\":\", \"-\").replace(\" \", \"_\")\n",
    "    result.to_csv(fichier, columns=[\"ImageId\", \"Label\"], index=False)\n",
    "    \n",
    "# returns the image in digit (28x28)\n",
    "# fromIndex = 0 if no labels 1 else\n",
    "def getImageMatriceDigit(dataset, rowIndex, fromIndex):\n",
    "    return dataset.iloc[rowIndex, fromIndex:].values.reshape(28,28)\n",
    "\n",
    "# returns the image matrix in one row\n",
    "def getImageLineDigit(dataset, rowIndex):\n",
    "    return dataset[dataset.index == rowIndex]\n",
    "\n",
    "# display an image defined in the data given (train/test)\n",
    "def displayImageFromData(data, row):\n",
    "    imgDigitMatrice = getImageMatriceDigit(data, row)\n",
    "    displayImage(imgDigitMatrice)\n",
    "\n",
    "# display an image from the Matrix 28:28\n",
    "def displayImage(image):\n",
    "    plt.imshow(image, cmap=matplotlib.cm.binary, interpolation=\"nearest\")\n",
    "    plt.axis(\"off\")\n",
    "    plt.show()\n",
    "\n",
    "# convert an image 28:28 in one matrix row\n",
    "def convertImageInRow(img):\n",
    "    return pd.DataFrame(img.reshape(1,784), \n",
    "                        columns=[\"pixel\" + str(x) for x in range(784)])\n",
    "\n",
    "# dark or white / wash the pixel\n",
    "def darkOrWhite(val):\n",
    "    if (val > 150):\n",
    "        return 255\n",
    "    else:\n",
    "        return 0\n",
    "\n",
    "def removeNoise(val):\n",
    "    if (val < 20):\n",
    "        return 0\n",
    "    else:\n",
    "        return val\n",
    "    \n",
    "# Clean a global dataset \n",
    "def darkOrWhiteDataset(dataset):\n",
    "    for i in range(dataset.shape[1]):\n",
    "        dataset['pixel' + str(i)] = [darkOrWhite(x) for x in dataset['pixel' + str(i)]]\n",
    "        \n",
    "# Remove noise to the global dataset \n",
    "def removeNoiseDataset(dataset):\n",
    "    for i in range(dataset.shape[1]):\n",
    "        dataset['pixel' + str(i)] = [removeNoise(x) for x in dataset['pixel' + str(i)]]"
   ]
  },
  {
   "cell_type": "markdown",
   "metadata": {},
   "source": [
    "# Retravail de l'image"
   ]
  },
  {
   "cell_type": "code",
   "execution_count": 10,
   "metadata": {
    "ExecuteTime": {
     "end_time": "2018-07-28T08:38:12.238954Z",
     "start_time": "2018-07-28T08:38:12.147673Z"
    },
    "run_control": {
     "marked": false
    },
    "scrolled": true
   },
   "outputs": [
    {
     "data": {
      "image/png": "[encoded data removed]",
      "text/plain": [
       "<matplotlib.figure.Figure at 0x7f0d98c95ef0>"
      ]
     },
     "metadata": {},
     "output_type": "display_data"
    }
   ],
   "source": [
    "imgSrc = getImageMatriceDigit(X_TRAIN, 3, 0)\n",
    "displayImage(imgSrc)"
   ]
  },
  {
   "cell_type": "code",
   "execution_count": 11,
   "metadata": {
    "ExecuteTime": {
     "end_time": "2018-07-28T08:38:24.575309Z",
     "start_time": "2018-07-28T08:38:14.789301Z"
    }
   },
   "outputs": [],
   "source": [
    "removeNoiseDataset(X_TRAIN)"
   ]
  },
  {
   "cell_type": "code",
   "execution_count": 12,
   "metadata": {
    "ExecuteTime": {
     "end_time": "2018-07-28T08:38:26.164900Z",
     "start_time": "2018-07-28T08:38:26.077387Z"
    }
   },
   "outputs": [
    {
     "data": {
      "image/png": "[encoded data removed]",
      "text/plain": [
       "<matplotlib.figure.Figure at 0x7f0d9b771940>"
      ]
     },
     "metadata": {},
     "output_type": "display_data"
    }
   ],
   "source": [
    "imgSrc = getImageMatriceDigit(X_TRAIN, 3, 0)\n",
    "displayImage(imgSrc)"
   ]
  },
  {
   "cell_type": "code",
   "execution_count": 13,
   "metadata": {
    "ExecuteTime": {
     "end_time": "2018-07-28T09:37:06.008255Z",
     "start_time": "2018-07-28T08:38:49.763769Z"
    }
   },
   "outputs": [
    {
     "name": "stdout",
     "output_type": "stream",
     "text": [
      "Score Train --> 100.0  %\n"
     ]
    }
   ],
   "source": [
    "rf = RandomForestClassifier(n_estimators=800, random_state=3, max_features=0.5)\n",
    "rf.fit(X_TRAIN, y)\n",
    "print (\"Score Train -->\", round(rf.score(X_TRAIN, y) *100,2), \" %\")"
   ]
  },
  {
   "cell_type": "code",
   "execution_count": 14,
   "metadata": {
    "ExecuteTime": {
     "end_time": "2018-07-28T09:40:37.259850Z",
     "start_time": "2018-07-28T09:40:25.860165Z"
    }
   },
   "outputs": [],
   "source": [
    "exportKaggle(rf)"
   ]
  },
  {
   "cell_type": "code",
   "execution_count": null,
   "metadata": {},
   "outputs": [],
   "source": []
  }
 ],
 "metadata": {
  "kernelspec": {
   "display_name": "Python [default]",
   "language": "python",
   "name": "python3"
  },
  "language_info": {
   "codemirror_mode": {
    "name": "ipython",
    "version": 3
   },
   "file_extension": ".py",
   "mimetype": "text/x-python",
   "name": "python",
   "nbconvert_exporter": "python",
   "pygments_lexer": "ipython3",
   "version": "3.6.4"
  }
 },
 "nbformat": 4,
 "nbformat_minor": 2
}
