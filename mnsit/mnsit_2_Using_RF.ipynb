{
 "cells": [
  {
   "cell_type": "code",
   "execution_count": 1,
   "metadata": {
    "ExecuteTime": {
     "end_time": "2018-07-26T13:31:42.944186Z",
     "start_time": "2018-07-26T13:31:33.550774Z"
    }
   },
   "outputs": [],
   "source": [
    "import pandas as pd\n",
    "import numpy as np\n",
    "import matplotlib\n",
    "import matplotlib.pyplot as plt\n",
    "import datetime\n",
    "\n",
    "from sklearn.model_selection import cross_val_score\n",
    "from sklearn.model_selection import GridSearchCV\n",
    "from sklearn.neighbors import KNeighborsClassifier\n",
    "from sklearn.ensemble import RandomForestClassifier\n",
    "\n",
    "pd.options.display.max_columns = None\n",
    "#pd.set_printoptions(max_columns=500)\n",
    "\n",
    "TRAIN = pd.read_csv(\"../datasources/mnsit/train.csv\", delimiter=',') #, skiprows=1)\n",
    "TEST = pd.read_csv(\"../datasources/mnsit/test.csv\", delimiter=',') #, skiprows=1)\n",
    "X_TRAIN = TRAIN.copy()\n",
    "X_TEST = TEST.copy()\n",
    "y = TRAIN.label\n",
    "del X_TRAIN[\"label\"]\n",
    "\n",
    "# Fonction d'export pour kaggle\n",
    "def ExportKaggle(algo):\n",
    "    p_test = algo.predict(X_TEST)\n",
    "    result = pd.DataFrame(X_TEST.index + 1, columns=['ImageId'])\n",
    "    pred = pd.DataFrame(p_test, columns=['Label'])\n",
    "    result = result.join(pred)\n",
    "    fichier = \"./data/result_\" + str(datetime.datetime.now()).replace(\":\", \"-\").replace(\" \", \"_\")\n",
    "    result.to_csv(fichier, columns=[\"ImageId\", \"Label\"], index=False)"
   ]
  },
  {
   "cell_type": "markdown",
   "metadata": {},
   "source": [
    "# Essayons maintenant  avec un autre classifier (RandomForest)"
   ]
  },
  {
   "cell_type": "code",
   "execution_count": 2,
   "metadata": {
    "ExecuteTime": {
     "end_time": "2018-07-26T13:32:33.004391Z",
     "start_time": "2018-07-26T13:31:46.421303Z"
    },
    "scrolled": true
   },
   "outputs": [
    {
     "data": {
      "text/plain": [
       "RandomForestClassifier(bootstrap=True, class_weight=None, criterion='gini',\n",
       "            max_depth=None, max_features=1, max_leaf_nodes=None,\n",
       "            min_impurity_decrease=0.0, min_impurity_split=None,\n",
       "            min_samples_leaf=1, min_samples_split=2,\n",
       "            min_weight_fraction_leaf=0.0, n_estimators=1000, n_jobs=1,\n",
       "            oob_score=False, random_state=3, verbose=0, warm_start=False)"
      ]
     },
     "execution_count": 2,
     "metadata": {},
     "output_type": "execute_result"
    }
   ],
   "source": [
    "#kn = KNeighborsClassifier(n_neighbors=2)\n",
    "#kn.fit(X_TRAIN, y)\n",
    "rf = RandomForestClassifier(n_estimators=1000, random_state=3, max_features=1)\n",
    "rf.fit(X_TRAIN, y)"
   ]
  },
  {
   "cell_type": "code",
   "execution_count": 3,
   "metadata": {
    "ExecuteTime": {
     "end_time": "2018-07-26T13:33:14.711984Z",
     "start_time": "2018-07-26T13:32:49.972646Z"
    }
   },
   "outputs": [
    {
     "name": "stdout",
     "output_type": "stream",
     "text": [
      "Score Train --> 100.0  %\n"
     ]
    }
   ],
   "source": [
    "print (\"Score Train -->\", round(rf.score(X_TRAIN, y) *100,2), \" %\")"
   ]
  },
  {
   "cell_type": "markdown",
   "metadata": {},
   "source": [
    "C'est bien mieux que la DGS (à 85.88%). Néanmoins il est évident que le modèle est en overfit ! il va falloir ajouter des données afin de l'ajuster mieux."
   ]
  },
  {
   "cell_type": "code",
   "execution_count": 4,
   "metadata": {
    "ExecuteTime": {
     "end_time": "2018-07-25T14:38:59.376661Z",
     "start_time": "2018-07-25T14:38:41.919489Z"
    }
   },
   "outputs": [],
   "source": [
    "ExportKaggle(rf)"
   ]
  },
  {
   "cell_type": "markdown",
   "metadata": {},
   "source": [
    "### Score Kaggle 0.96071 (RF / n_estimators=1000, random_state=3, max_features=1)"
   ]
  },
  {
   "cell_type": "markdown",
   "metadata": {},
   "source": [
    "## Recherche des meilleurs hyper-parametres"
   ]
  },
  {
   "cell_type": "code",
   "execution_count": null,
   "metadata": {
    "ExecuteTime": {
     "start_time": "2018-07-25T17:17:17.250Z"
    }
   },
   "outputs": [],
   "source": [
    "param_grid_rf = { 'n_estimators' : [800, 1000], \n",
    "               'max_features' : [1, 0.5, 0.2],\n",
    "               'random_state' : [3, 4, 5]}\n",
    "grid_search_rf = GridSearchCV(RandomForestClassifier(), param_grid_rf, cv=5)\n",
    "grid_search_rf.fit(X_TRAIN, y)\n",
    "print (\"Score final : \", round(grid_search_rf.score(Xtrain, y) *100,4), \" %\")\n",
    "print (\"Meilleurs parametres: \", grid_search_rf.best_params_)\n",
    "print (\"Meilleure config: \", grid_search_rf.best_estimator_)"
   ]
  },
  {
   "cell_type": "code",
   "execution_count": null,
   "metadata": {},
   "outputs": [],
   "source": [
    "ExportKaggle(param_grid_rf)"
   ]
  }
 ],
 "metadata": {
  "kernelspec": {
   "display_name": "Python 3",
   "language": "python",
   "name": "python3"
  },
  "language_info": {
   "codemirror_mode": {
    "name": "ipython",
    "version": 3
   },
   "file_extension": ".py",
   "mimetype": "text/x-python",
   "name": "python",
   "nbconvert_exporter": "python",
   "pygments_lexer": "ipython3",
   "version": "3.7.1"
  }
 },
 "nbformat": 4,
 "nbformat_minor": 2
}
