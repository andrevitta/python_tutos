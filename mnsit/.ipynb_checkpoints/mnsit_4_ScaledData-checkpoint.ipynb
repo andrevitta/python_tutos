{
 "cells": [
  {
   "cell_type": "code",
   "execution_count": 1,
   "metadata": {
    "ExecuteTime": {
     "end_time": "2018-08-06T17:19:51.055263Z",
     "start_time": "2018-08-06T17:19:26.333437Z"
    },
    "run_control": {
     "marked": false
    }
   },
   "outputs": [],
   "source": [
    "import pandas as pd\n",
    "import numpy as np\n",
    "import matplotlib\n",
    "import matplotlib.pyplot as plt\n",
    "import datetime\n",
    "import scipy.ndimage as sc\n",
    "\n",
    "from sklearn.model_selection import cross_val_score\n",
    "from sklearn.model_selection import GridSearchCV\n",
    "from sklearn.neighbors import KNeighborsClassifier\n",
    "from sklearn.ensemble import RandomForestClassifier\n",
    "from sklearn.linear_model import SGDClassifier\n",
    "from sklearn.preprocessing import MinMaxScaler\n",
    "from sklearn.preprocessing import StandardScaler\n",
    "\n",
    "pd.options.display.max_columns = None\n",
    "\n",
    "TRAIN = pd.read_csv(\"../datasources/mnsit/train.csv\", delimiter=',') #, skiprows=1)\n",
    "TRAINEXT = pd.read_csv(\"../datasources/mnsit/trainextendedcomplex.csv\", delimiter=',') #, skiprows=1)\n",
    "X_TRAIN = TRAINEXT.copy()\n",
    "y = TRAINEXT.label\n",
    "\n",
    "#X_TRAIN = TRAIN.copy()\n",
    "#y = TRAIN.label\n",
    "del X_TRAIN[\"label\"]\n",
    "\n",
    "TEST = pd.read_csv(\"./data/test.csv\", delimiter=',') #, skiprows=1)\n",
    "X_TEST = TEST.copy()"
   ]
  },
  {
   "cell_type": "markdown",
   "metadata": {},
   "source": [
    "# Retravail de l'image / Scaling"
   ]
  },
  {
   "cell_type": "markdown",
   "metadata": {},
   "source": [
    "### Min Max Scaling"
   ]
  },
  {
   "cell_type": "code",
   "execution_count": 2,
   "metadata": {
    "ExecuteTime": {
     "end_time": "2018-08-06T22:37:50.562829Z",
     "start_time": "2018-08-06T17:19:58.756233Z"
    }
   },
   "outputs": [
    {
     "name": "stdout",
     "output_type": "stream",
     "text": [
      "Score Train --> 100.0  %\n"
     ]
    }
   ],
   "source": [
    "scale = MinMaxScaler()\n",
    "X_TRAIN = scale.fit_transform(X_TRAIN)\n",
    "rf = RandomForestClassifier(n_estimators=800, random_state=3, max_features=0.5)\n",
    "rf.fit(X_TRAIN, y)\n",
    "print (\"Score Train -->\", round(rf.score(X_TRAIN, y) *100,2), \" %\")"
   ]
  },
  {
   "cell_type": "markdown",
   "metadata": {},
   "source": [
    "## Kaggle Score 0.97057 (97%)\n",
    "Scaling (Min-Max) data has increased the score significantly !"
   ]
  },
  {
   "cell_type": "markdown",
   "metadata": {},
   "source": [
    "### Standard Scaling"
   ]
  },
  {
   "cell_type": "code",
   "execution_count": 2,
   "metadata": {
    "ExecuteTime": {
     "end_time": "2018-08-02T19:01:52.898345Z",
     "start_time": "2018-08-02T13:53:18.091728Z"
    }
   },
   "outputs": [
    {
     "name": "stdout",
     "output_type": "stream",
     "text": [
      "Score Train --> 100.0  %\n"
     ]
    }
   ],
   "source": [
    "scale = StandardScaler()\n",
    "X_TRAIN = scale.fit_transform(X_TRAIN)\n",
    "rf = RandomForestClassifier(n_estimators=800, random_state=3, max_features=0.5)\n",
    "rf.fit(X_TRAIN, y)\n",
    "print (\"Score Train -->\", round(rf.score(X_TRAIN, y) *100,2), \" %\")"
   ]
  },
  {
   "cell_type": "code",
   "execution_count": 3,
   "metadata": {
    "ExecuteTime": {
     "end_time": "2018-08-06T22:38:02.650975Z",
     "start_time": "2018-08-06T22:37:50.566833Z"
    },
    "run_control": {
     "marked": false
    },
    "scrolled": true
   },
   "outputs": [],
   "source": [
    "X_TEST = scale.fit_transform(X_TEST)\n",
    "p_test = rf.predict(X_TEST)\n",
    "\n",
    "result = pd.DataFrame(p_test, columns=['label'])\n",
    "result.insert(0, 'ImageId', result.index+ 1)\n",
    "fichier = \"./data/result_\" + str(datetime.datetime.now()).replace(\":\", \"-\").replace(\" \", \"_\")\n",
    "result.to_csv(fichier, columns=[\"ImageId\", \"label\"], index=False)"
   ]
  },
  {
   "cell_type": "markdown",
   "metadata": {},
   "source": [
    "## Kaggle Score 0.97185 (%)\n",
    "Scaling (Standard) data has increased the score significantly !"
   ]
  },
  {
   "cell_type": "code",
   "execution_count": null,
   "metadata": {},
   "outputs": [],
   "source": []
  }
 ],
 "metadata": {
  "kernelspec": {
   "display_name": "Python 3",
   "language": "python",
   "name": "python3"
  },
  "language_info": {
   "codemirror_mode": {
    "name": "ipython",
    "version": 3
   },
   "file_extension": ".py",
   "mimetype": "text/x-python",
   "name": "python",
   "nbconvert_exporter": "python",
   "pygments_lexer": "ipython3",
   "version": "3.7.1"
  }
 },
 "nbformat": 4,
 "nbformat_minor": 2
}
