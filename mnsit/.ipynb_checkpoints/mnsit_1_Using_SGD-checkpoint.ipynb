{
 "cells": [
  {
   "cell_type": "code",
   "execution_count": 2,
   "metadata": {
    "ExecuteTime": {
     "end_time": "2018-07-29T09:43:54.749033Z",
     "start_time": "2018-07-29T09:43:54.738364Z"
    }
   },
   "outputs": [],
   "source": [
    "import pandas as pd\n",
    "import matplotlib\n",
    "import matplotlib.pyplot as plt\n",
    "\n",
    "from sklearn.metrics import confusion_matrix\n",
    "from sklearn.preprocessing import MinMaxScaler\n",
    "from sklearn.model_selection import cross_val_score\n",
    "from sklearn.model_selection import GridSearchCV\n",
    "from sklearn.linear_model import SGDClassifier\n",
    "\n",
    "pd.options.display.max_columns = None\n",
    "#pd.set_printoptions(max_columns=500)"
   ]
  },
  {
   "cell_type": "code",
   "execution_count": 3,
   "metadata": {
    "ExecuteTime": {
     "end_time": "2018-07-29T09:44:07.789540Z",
     "start_time": "2018-07-29T09:44:01.750246Z"
    }
   },
   "outputs": [],
   "source": [
    "TRAIN = pd.read_csv(\"../datasources/mnsit/train.csv\", delimiter=',') #, skiprows=1)\n",
    "TEST = pd.read_csv(\"../datasources/mnsit/test.csv\", delimiter=',') #, skiprows=1)\n",
    "X_TRAIN = TRAIN.copy()\n",
    "X_TEST = TEST.copy()\n",
    "y = TRAIN.label\n",
    "del X_TRAIN[\"label\"]"
   ]
  },
  {
   "cell_type": "code",
   "execution_count": 4,
   "metadata": {
    "ExecuteTime": {
     "end_time": "2018-07-29T09:44:07.799277Z",
     "start_time": "2018-07-29T09:44:07.792130Z"
    }
   },
   "outputs": [
    {
     "data": {
      "text/plain": [
       "(42000, 784)"
      ]
     },
     "execution_count": 4,
     "metadata": {},
     "output_type": "execute_result"
    }
   ],
   "source": [
    "X_TRAIN.shape"
   ]
  },
  {
   "cell_type": "code",
   "execution_count": 5,
   "metadata": {
    "ExecuteTime": {
     "end_time": "2018-07-29T09:44:08.036958Z",
     "start_time": "2018-07-29T09:44:07.802584Z"
    },
    "scrolled": true
   },
   "outputs": [
    {
     "data": {
      "image/png": "[encoded data removed]",
      "text/plain": [
       "<matplotlib.figure.Figure at 0x7f05fcc1d828>"
      ]
     },
     "metadata": {},
     "output_type": "display_data"
    }
   ],
   "source": [
    "# returns the image in digit (28x28)\n",
    "def getImageMatriceDigit(dataset, rowIndex):\n",
    "    return dataset.iloc[rowIndex, 0:].values.reshape(28,28)\n",
    "# returns the image matrix in one row\n",
    "def getImageLineDigit(dataset, rowIndex):\n",
    "    return dataset.iloc[rowIndex, 0:]\n",
    "\n",
    "imgDigitMatrice = getImageMatriceDigit(X_TRAIN, 3)\n",
    "imgDigit = getImageLineDigit(X_TRAIN, 3)\n",
    "plt.imshow(imgDigitMatrice, cmap=matplotlib.cm.binary, interpolation=\"nearest\")\n",
    "plt.axis(\"off\")\n",
    "plt.show()"
   ]
  },
  {
   "cell_type": "markdown",
   "metadata": {},
   "source": [
    "# Entrainement d'un classifier multic-étiquette linéaire (Descente de gradient stochastique)"
   ]
  },
  {
   "cell_type": "code",
   "execution_count": 6,
   "metadata": {
    "ExecuteTime": {
     "end_time": "2018-07-29T09:44:14.270717Z",
     "start_time": "2018-07-29T09:44:11.223639Z"
    },
    "scrolled": false
   },
   "outputs": [
    {
     "name": "stderr",
     "output_type": "stream",
     "text": [
      "/opt/anaconda3/lib/python3.6/site-packages/sklearn/linear_model/stochastic_gradient.py:128: FutureWarning: max_iter and tol parameters have been added in <class 'sklearn.linear_model.stochastic_gradient.SGDClassifier'> in 0.19. If both are left unset, they default to max_iter=5 and tol=None. If tol is not None, max_iter defaults to max_iter=1000. From 0.21, default max_iter will be 1000, and default tol will be 1e-3.\n",
      "  \"and default tol will be 1e-3.\" % type(self), FutureWarning)\n"
     ]
    },
    {
     "data": {
      "text/plain": [
       "SGDClassifier(alpha=0.0001, average=False, class_weight=None, epsilon=0.1,\n",
       "       eta0=0.0, fit_intercept=True, l1_ratio=0.15,\n",
       "       learning_rate='optimal', loss='hinge', max_iter=None, n_iter=None,\n",
       "       n_jobs=1, penalty='l2', power_t=0.5, random_state=42, shuffle=True,\n",
       "       tol=None, verbose=0, warm_start=False)"
      ]
     },
     "execution_count": 6,
     "metadata": {},
     "output_type": "execute_result"
    }
   ],
   "source": [
    "sgd = SGDClassifier(random_state=42)\n",
    "sgd.fit(X_TRAIN, y)"
   ]
  },
  {
   "cell_type": "markdown",
   "metadata": {},
   "source": [
    "### Vérification de la prédiction sur l'image précédente"
   ]
  },
  {
   "cell_type": "code",
   "execution_count": 7,
   "metadata": {
    "ExecuteTime": {
     "end_time": "2018-07-29T09:44:21.735248Z",
     "start_time": "2018-07-29T09:44:21.726543Z"
    }
   },
   "outputs": [
    {
     "data": {
      "text/plain": [
       "array([4])"
      ]
     },
     "execution_count": 7,
     "metadata": {},
     "output_type": "execute_result"
    }
   ],
   "source": [
    "sgd.predict([getImageLineDigit(X_TRAIN, 3)])"
   ]
  },
  {
   "cell_type": "code",
   "execution_count": 8,
   "metadata": {
    "ExecuteTime": {
     "end_time": "2018-07-29T09:44:23.511806Z",
     "start_time": "2018-07-29T09:44:23.325818Z"
    }
   },
   "outputs": [
    {
     "name": "stdout",
     "output_type": "stream",
     "text": [
      "Score Train --> 85.88  %\n"
     ]
    }
   ],
   "source": [
    "print (\"Score Train -->\", round(sgd.score(X_TRAIN, y) *100,2), \" %\")"
   ]
  },
  {
   "cell_type": "markdown",
   "metadata": {},
   "source": [
    "# Préparation du jeu de données résultat (kaggle)"
   ]
  },
  {
   "cell_type": "code",
   "execution_count": 11,
   "metadata": {
    "ExecuteTime": {
     "end_time": "2018-07-29T09:45:34.508201Z",
     "start_time": "2018-07-29T09:45:34.384258Z"
    }
   },
   "outputs": [],
   "source": [
    "p_test = sgd.predict(X_TEST)"
   ]
  },
  {
   "cell_type": "code",
   "execution_count": null,
   "metadata": {},
   "outputs": [],
   "source": [
    "result = pd.DataFrame(X_TEST.index + 1, columns=['ImageId'])\n",
    "pred = pd.DataFrame(p_test, columns=['Label'])\n",
    "result = result.join(pred)\n",
    "result.to_csv(\"./data/result.csv\", columns=[\"ImageId\", \"Label\"], index=False)"
   ]
  },
  {
   "cell_type": "markdown",
   "metadata": {},
   "source": [
    "## Score kaggle : 0.84642"
   ]
  }
 ],
 "metadata": {
  "kernelspec": {
   "display_name": "Python 3",
   "language": "python",
   "name": "python3"
  },
  "language_info": {
   "codemirror_mode": {
    "name": "ipython",
    "version": 3
   },
   "file_extension": ".py",
   "mimetype": "text/x-python",
   "name": "python",
   "nbconvert_exporter": "python",
   "pygments_lexer": "ipython3",
   "version": "3.7.1"
  }
 },
 "nbformat": 4,
 "nbformat_minor": 2
}
