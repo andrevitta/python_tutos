{
 "cells": [
  {
   "cell_type": "code",
   "execution_count": 14,
   "metadata": {
    "ExecuteTime": {
     "end_time": "2018-08-14T13:27:00.197518Z",
     "start_time": "2018-08-14T13:27:00.194516Z"
    }
   },
   "outputs": [],
   "source": [
    "import requests\n",
    "import lxml.html as lh\n",
    "import pandas as pd"
   ]
  },
  {
   "cell_type": "code",
   "execution_count": 52,
   "metadata": {
    "ExecuteTime": {
     "end_time": "2018-08-14T14:30:36.703721Z",
     "start_time": "2018-08-14T14:30:35.776482Z"
    }
   },
   "outputs": [],
   "source": [
    "url='http://www.jeuxvideo.com/meilleurs/machine-20/'\n",
    "page = requests.get(url)\n",
    "doc = lh.fromstring(page.content)"
   ]
  },
  {
   "cell_type": "code",
   "execution_count": 57,
   "metadata": {
    "ExecuteTime": {
     "end_time": "2018-08-14T14:31:15.623204Z",
     "start_time": "2018-08-14T14:31:15.617187Z"
    }
   },
   "outputs": [],
   "source": [
    "nomJeux = doc.xpath('//a[@class=\"gameTitleLink__196nPy\"]')\n",
    "desc = doc.xpath('//p[@class=\"description__1-Pqha\"]')\n",
    "sortie = doc.xpath('//span[@class=\"releaseDate__1RvUmc\"]')"
   ]
  },
  {
   "cell_type": "code",
   "execution_count": 62,
   "metadata": {
    "ExecuteTime": {
     "end_time": "2018-08-14T14:32:29.880875Z",
     "start_time": "2018-08-14T14:32:29.874858Z"
    }
   },
   "outputs": [
    {
     "name": "stdout",
     "output_type": "stream",
     "text": [
      "God of War - Dans ce nouvel épisode de God Of War, le héros évoluera dans un monde aux inspirations nordiques, très forestier et montagneux. Dans ce beat-them-all, un enfant accompagnera le héros principal, pouvant apprendre des actions du joueur, et même gagner de l'expérience. - Sortie: 20 avril 2018\n",
      "Okami HD - Okami est un jeu d'aventure et d'action sur Playstation 4. Le titre dispose d'un aspect graphique très particulier, et vous propose d'incarner la déesse Amaterasu réincarnée en un magnifique loup blanc, dans une quête pour redonner de la vie et de la couleur dans votre monde, terrorisé par de nombreux ennemis qui font régner les ténèbres. Battez-vous au moyen d'un pinceau, véritable prolongement du personnage qu'on incarne, et utilisez-le également pour avancer dans l'histoire. - Sortie: 12 décembre 2017\n",
      "The Witcher 3 : Wild Hunt - Action-RPG en open world pour PS4, The Witcher 3 : Wild Hunt est le troisième opus de la série de jeux éponyme. Le joueur y retrouve le personnage de Geralt de Riv pour découvrir la fin de son histoire mouvementée. - Sortie: 19 mai 2015\n",
      "The Last of Us Remastered - The Last of Us Remastered est un survival action sur PS4 qui raconte l'histoire de Joel et d'Ellie qui vont devoir s'entraider pour survivre face à une mystérieuse peste qui a décimé les Etats-Unis. La nature commence à s'approprier les villes abandonnées et les quelques survivants s'entre-tuent pour récupérer le peu de nourriture et d'armes encore présentes. Cette version améliorée du jeu propose l'aventure de base et le DLC Left Behind. - Sortie: 30 juillet 2014\n",
      "Inside - Inside est un j'au d'aventure et d'exploration sur PS4 où le joueur incarne un petit garçon qui doit s'en sortir dans une société étrange et autoritaire. Le joueur alterne entre les phases de plate-forme et d'énigmes. - Sortie: 23 août 2016\n",
      "Uncharted 4 : A Thief's End - Quatrième opus de la série de jeu d'action/aventure à succès de Naughty Dog, Uncharted 4 A Thief's End vous permet d'incarner Nathan Drake pour la première fois sur PS4. Le célèbre explorateur devra révéler le complot qui se cache derrière un légendaire trésor de pirates. - Sortie: 10 mai 2016\n",
      "Day of the Tentacle : Special Edition - Day of the Tentacle : Special Edition est un jeu d'aventure sur PS4 faisant suite à Maniac Mansion. On y retrouve d'ailleurs le personnage de Bernard qui, accompagné par deux amis Hoogie et Laverne, devra sauver l'humanité de l'emprise des tentacules créés par le Dr Fred. Humour, anachronismes et voyages dans le temps sont au programme du jeu aux graphismes cartoon. - Sortie: 22 mars 2016\n",
      "The Walking Dead : Saison 1 - The Walking Dead sur PS4 est l'adaptation du comics du même nom. Le joueur y incarne un survivant au début de l'infection mystérieuse touchant l'humanité. Après sa rencontre avec la jeune Clémentine, il rejoint un petit groupe avec lequel il convient de nouer de solides relations. - Sortie: 24 octobre 2014\n",
      "The Walking Dead : Episode 5 - No Time Left - The Walking Dead : Episode 5 - No Time Left pour PS4 est le cinquième épisode du jeu vidéo, inspiré du comic du même nom. On y retrouve Lee dans la ville de Savannah, ce dernier partant à la rescousse de Clémentine qui a été capturée... - Sortie: 14 octobre 2014\n",
      "Divinity : Original Sin - Enhanced Edition - Jeu de rôle au tour par tour, Divinity : Original Sin se passe 8 millénaires après les événements de Divinity : Dragon Commander. Prenant place dans un univers heroïc-fantasy et s'inspirant des mécaniques des premiers jeux de rôle tels que Donjons et Dragons, le jeu comprend un mode multijoueur en écran splitté. La version Enhanced rendant le jeu disponible sur consoles apportera des nouveautés en termes de contenu et de scénario. - Sortie: 27 octobre 2015\n",
      "Dark Souls III - Développé par From Software, Dark Souls est un action RPG particulièrement exigeant. L'environnement, très peu accueillant, ravira les amateurs de challenges corsés. Vous y combattrez de gigantesques ennemis, qui ne feront qu'une bouchée de vous. - Sortie: 12 avril 2016\n",
      "Unravel - Entre plates-formes et réflexion, Unravel est un jeu sur PS4 qui vous embarque dans un univers nordique réaliste aux commandes de Yarny. Haut comme trois pommes, ce petit personnage doit utiliser ses propriétés laineuses pour explorer un environnement aux mille dangers, en évitant notamment l'eau, le froid et les animaux sauvages. - Sortie: 9 février 2016\n",
      "NieR Automata - Nier Automata sur PS4 est un jeu d'action de type RPG jouable en solo. Le titre amène le joueur dans un futur lointain où la Terre a été envahie par des formes extra-terrestres armées de \"bio-machines\". Après s'être réfugiée sur la lune, l'humanité envoie sur leur planète natale des androïdes capable de lutter avec les extra-terrestres et reconquérir la planète. - Sortie: 10 mars 2017\n",
      "Dishonored : Definitive Edition - Dishonored : Definitive Edition est la version remasterisé de Dishonored, jeu d'infiltration et d'action dans lequel le joueur incarne Corvo, un ancien garde du corps. La Definitive Edition comprend aussi tous les DLC de Dishonored. - Sortie: 25 août 2015\n",
      "The Witcher 3 : Wild Hunt - Blood and Wine - Dans The Witcher 3 : Wild Hunt - Blood and Wine sur PS4, entrez dans la peau de Geralt de Riv, tueur de monstres professionnel, et explorez Toussaint, une lointaine contrée épargnée par la guerre, où vous lèverez le voile sur le terrible secret derrière la bête terrorisant le duché. Démêlez l'écheveau complexe des pistes au cœur d'un mystère que seul un sorceleur pourra élucider, tout en survivant au mal tapi à la faveur de la nuit. - Sortie: 31 mai 2016\n",
      "Zero Escape : The Nonary Games - Zero Escape: The Nonary Games sur PS4 est un jeu d'aventure jouable en solo. Enlevées puis amenées dans un lieu inconnu, neuf personnes se retrouvent forcées de participer à un jeu diabolique orchestré par l’énigmatique Zero. Pourquoi ? A qui faire confiance ? - Sortie: 24 mars 2017\n",
      "Dragon Ball FighterZ - Dragon Ball FighterZ est un jeu de combat 2D développé par Arc System Works et édité par Bandai Namco. Cette nouvelle adaptation de la franchise Dragon Ball met en scène les personnages iconiques de la série dans des affrontements explosifs en 3 versus 3. - Sortie: 26 janvier 2018\n",
      "Monster Hunter World - La dernière entrée de la série Monster Hunter sur PS4. Plus complet que jamais, le jeu transporte le joueur au travers de batailles contre de terribles monstres et de magnifiques paysages. Récupérerez des objets sur vos ennemis, créez de nouveaux équipements et armures, explorez tous les territoires disponibles. Saurez vous devenir le chasseur ultime ? - Sortie: 26 janvier 2018\n",
      "Dead Cells - Dead Cells sur PS4 est un jeu d'action-aventure de type plate-forme avec des éléments de rogue-like. Le joueur doit explorer un château et résister à des hordes de zombies et de monstres. Pour ce faire, vous pouvez utiliser votre fouet et différentes armes en plus de la magie. - Sortie: 7 août 2018\n",
      "Yakuza 6 : The Song of Life - Yakuza 6 sur PS4 est un jeu de type aventure en monde ouvert. Après les événements du 5e volet, on retrouve Kazuma, qui après avoir apprit qu'Haruka eu été gravement blessé, va tenter de l'aider et de trouver des réponses sur son agression. Pour cela, il va se rendre à Hiroshima, dernier endroit dans lequel s'est rendu la jeune fille. En plus de cela, des problèmes au sein du clan Tojo refont surface... - Sortie: 17 avril 2018\n"
     ]
    }
   ],
   "source": [
    "for i in range(len(tr_elements)):\n",
    "    print(nomJeux[i].text_content().replace(\" sur PS4\", \"\") + \" - \" + desc[i].text_content() + \" - \" + sortie[i].text_content())"
   ]
  },
  {
   "cell_type": "code",
   "execution_count": 59,
   "metadata": {
    "ExecuteTime": {
     "end_time": "2018-08-14T14:32:03.857363Z",
     "start_time": "2018-08-14T14:32:03.852360Z"
    }
   },
   "outputs": [
    {
     "data": {
      "text/plain": [
       "'God of War sur PS4'"
      ]
     },
     "execution_count": 59,
     "metadata": {},
     "output_type": "execute_result"
    }
   ],
   "source": [
    "nomJeux[0].text_content()"
   ]
  },
  {
   "cell_type": "code",
   "execution_count": 61,
   "metadata": {
    "ExecuteTime": {
     "end_time": "2018-08-14T14:32:23.096741Z",
     "start_time": "2018-08-14T14:32:23.092738Z"
    }
   },
   "outputs": [
    {
     "data": {
      "text/plain": [
       "'God of War'"
      ]
     },
     "execution_count": 61,
     "metadata": {},
     "output_type": "execute_result"
    }
   ],
   "source": [
    "nomJeux[0].text_content().replace(\" sur PS4\", \"\")"
   ]
  },
  {
   "cell_type": "code",
   "execution_count": null,
   "metadata": {},
   "outputs": [],
   "source": []
  }
 ],
 "metadata": {
  "kernelspec": {
   "display_name": "Python 3",
   "language": "python",
   "name": "python3"
  },
  "language_info": {
   "codemirror_mode": {
    "name": "ipython",
    "version": 3
   },
   "file_extension": ".py",
   "mimetype": "text/x-python",
   "name": "python",
   "nbconvert_exporter": "python",
   "pygments_lexer": "ipython3",
   "version": "3.6.4"
  }
 },
 "nbformat": 4,
 "nbformat_minor": 2
}
