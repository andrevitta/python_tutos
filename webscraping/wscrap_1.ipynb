{
 "cells": [
  {
   "cell_type": "code",
   "execution_count": 46,
   "metadata": {
    "ExecuteTime": {
     "end_time": "2018-08-14T13:27:00.197518Z",
     "start_time": "2018-08-14T13:27:00.194516Z"
    }
   },
   "outputs": [],
   "source": [
    "import requests\n",
    "import lxml.html as lh\n",
    "import pandas as pd"
   ]
  },
  {
   "cell_type": "markdown",
   "metadata": {},
   "source": [
    "## Récupération des données par web Scraping"
   ]
  },
  {
   "cell_type": "markdown",
   "metadata": {},
   "source": [
    "Récupération d'une liste de jeu simple avec nom, desription et date de sortie : http://www.jeuxvideo.com/meilleurs/machine-20/"
   ]
  },
  {
   "cell_type": "markdown",
   "metadata": {},
   "source": [
    "### Variables globales"
   ]
  },
  {
   "cell_type": "code",
   "execution_count": 47,
   "metadata": {
    "ExecuteTime": {
     "end_time": "2018-08-14T14:30:36.703721Z",
     "start_time": "2018-08-14T14:30:35.776482Z"
    }
   },
   "outputs": [],
   "source": [
    "# URL\n",
    "url = 'http://www.jeuxvideo.com/meilleurs/'\n",
    "# URI-SUFFIX\n",
    "uri_pages = '?p='\n",
    "# Number of pages to read\n",
    "nbPages = 10\n",
    "# XPath content to collect\n",
    "tags = ['//a[@class=\"gameTitleLink__196nPy\"]', \\\n",
    "        '//p[@class=\"description__1-Pqha\"]' , \\\n",
    "        '//span[@class=\"releaseDate__1RvUmc\"]', \\\n",
    "        '//span[@class=\"editorialRating__1tYu_r\"]', \\\n",
    "        '//span[@class=\"userRating__1y96su\"]']"
   ]
  },
  {
   "cell_type": "code",
   "execution_count": 48,
   "metadata": {},
   "outputs": [],
   "source": [
    "page = requests.get(url)\n",
    "doc = lh.fromstring(page.content)"
   ]
  },
  {
   "cell_type": "markdown",
   "metadata": {},
   "source": [
    "On récupère les données via des requêtes XPath"
   ]
  },
  {
   "cell_type": "code",
   "execution_count": 49,
   "metadata": {
    "ExecuteTime": {
     "end_time": "2018-08-14T14:31:15.623204Z",
     "start_time": "2018-08-14T14:31:15.617187Z"
    }
   },
   "outputs": [],
   "source": [
    "nomJeux = doc.xpath('//a[@class=\"gameTitleLink__196nPy\"]')\n",
    "desc = doc.xpath('//p[@class=\"description__1-Pqha\"]')\n",
    "sortie = doc.xpath('//span[@class=\"releaseDate__1RvUmc\"]')\n",
    "test = doc.xpath('//span[@class=\"editorialRating__1tYu_r\"]')\n",
    "avis = doc.xpath('//span[@class=\"userRating__1y96su\"]')"
   ]
  },
  {
   "cell_type": "markdown",
   "metadata": {},
   "source": [
    "Affichage des données décomposées :"
   ]
  },
  {
   "cell_type": "code",
   "execution_count": 50,
   "metadata": {
    "ExecuteTime": {
     "end_time": "2018-08-14T14:32:29.880875Z",
     "start_time": "2018-08-14T14:32:29.874858Z"
    },
    "scrolled": true
   },
   "outputs": [
    {
     "name": "stdout",
     "output_type": "stream",
     "text": [
      "God of War sur PS4\n",
      "Dans ce nouvel épisode de God Of War, le héros évoluera dans un monde aux inspirations nordiques, très forestier et montagneux. Dans ce beat-them-all, un enfant accompagnera le héros principal, pouvant apprendre des actions du joueur, et même gagner de l'expérience.\n",
      "Sortie: 20 avril 2018\n",
      "20/20\n",
      "17.7/20\n",
      "\n",
      "The Legend of Zelda : Breath of the Wild\n",
      "The Legend of Zelda : Breath of the Wild est un jeu d'action/aventure. Link se réveille d'un sommeil de 100 ans dans un royaume d'Hyrule dévasté. Il lui faudra percer les mystères du passé et vaincre Ganon, le fléau. L'aventure prend place dans un gigantesque monde ouvert et accorde ainsi une part importante à l'exploration. Le titre a été pensé pour que le joueur puisse aller où il veut dès le début, s'éloignant de la linéarité habituelle de la série.\n",
      "Sortie: 3 mars 2017\n",
      "20/20\n",
      "17.5/20\n",
      "\n",
      "The Legend of Zelda : The Wind Waker sur NGC\n",
      "Dans The Legend of Zelda : The Wind Waker, vous incarnez Link dans sa quête pour sauver sa sœur. Découvrez Hyrule sous les flots dans ce jeu d'aventure en style cartoon, et naviguez au dos du Lion Rouge en vous orientant grâce à la Baguette du Vent pour explorer toutes les îles de ce vaste océan et dévoiler les secrets et les donjons qu'elles renferment.\n",
      "Sortie: 3 mai 2003\n",
      "20/20\n",
      "18.9/20\n",
      "\n",
      "Silent Hill\n",
      "Silent Hill est un survival horror à télécharger sur PS3 via le Playstation Store. Il s'agit de la toute première version de Silent Hill sorti sur Playstation. Vous êtes Harry Mason et venez d'arriver dans la petite ville à bord de votre 4x4 avec votre fille Cheryl. En pleine nuit, un accident met fin au voyage. Cheryl a disparu et un étrange brouillard recouvre Silent Hill, une ville complètement infestée de créatures décharnées et avides de chair fraîche.\n",
      "Sortie: 1er août 1999\n",
      "19/20\n",
      "18.6/20\n",
      "\n",
      "Panzer Dragoon Saga sur Saturn\n",
      "Panzer Dragoon Saga est un jeu de rôle en 3D sur Saturn. Vous êtes dans la peau du jeune Edge et vous devez avec l'aide d'un dragon combattre le méchant Empire qui a assassiné votre peuple. Tout ce remue-ménage fait suite à une étrange découverte archéologique...\n",
      "Sortie: Juin 1998\n",
      "19/20\n",
      "18.8/20\n",
      "\n",
      "Kingpin : Life of Crime sur PC\n",
      "Kingpin : Life of Crime est un jeu de tir à la première personne sorti sur PC. Vous allez incarner un des pires gangsters que la terre ait jamais porté. Rejeté par le grand chef de la pègre locale et laissé pour mort dans les bas-fonds, vous avez décidé de devenir caïd à la place du caïd et de créer votre propre gang. Avec une moralité aussi petite que votre cerveau, vous devrez bastonner, torturer, trahir et tuer pour vous faire respecter.\n",
      "Sortie: Août 1999\n",
      "19/20\n",
      "17.5/20\n",
      "\n",
      "ISS Pro Evolution sur PS1\n",
      "ISS Pro Evolution est un jeu de football sur Playstation. Si les licences de joueurs sont aux abonnés absents, les équipes nationales sont bien là ainsi que 10 stades fidèlement représentés. Il est possible de modifier les options météo et l'efficacité de l'intelligence artificielle, sans oublier les 9 angles de caméras différents. Jusqu'à quatre joueurs peuvent s'affronter simultanément.\n",
      "Sortie: 25 février 2000\n",
      "19/20\n",
      "18.4/20\n",
      "\n",
      "Batman Arkham City\n",
      "Batman Arkham City est un jeu d'aventure/action dans lequel Batman doit de nouveau affronter son ennemi juré, le Joker, dans un Arkham toujours plus sombre et vaste. De nombreuses quêtes annexes permettent d'explorer la ville en détails.\n",
      "Sortie: 20 octobre 2011\n",
      "19/20\n",
      "18.6/20\n",
      "\n",
      "Super Metroid\n",
      "Retrouvez la chasseuse de primes intergalactique Samus Aran dans Super Metroid sur Console Virtuelle. De nouvelles aventures l'attendent suite au vol du dernier Métroïde, la voilà repartie sur la planète Zèbes avec un tout nouvel arsenal incluant le rayon grappin et la vision à rayon X. Utilisez votre laser, des missiles et des bombes pour venir à bout des boss dans ce jeu d'action en 2D.\n",
      "Sortie: 28 juillet 1994\n",
      "19/20\n",
      "19.4/20\n",
      "\n",
      "Umineko no Naku Koro ni : Shinjitsu to Gensô no Symphony\n",
      "Umineko no Naku Koro ni est un visual novel. Le joueur incarne le jeune Battler Ushiromiya qui assiste à une série de meurtres brutaux et incompréhensible. Son objectif sera alors de les résoudre pour savoir s'ils ont été commis par un être humain ou une entité surnaturelle.\n",
      "Sortie: 8 juillet 2016\n",
      "19/20\n",
      "18.6/20\n",
      "\n",
      "Baldur's Gate II : Shadows of Amn\n",
      "Baldur's Gate II : Enhanced Edition est un remake de Baldur's Gate II : Shadows of Amn et de son extension, Baldur's Gate II : Throne of Bhaal. Ce jeu de rôle reprend le principe de son aîné (Baldur's Gate) et propose la création d'un personnage parmi diverses classes, caractéristiques et compétences.\n",
      "Sortie: 3 novembre 2000\n",
      "19/20\n",
      "18.4/20\n",
      "\n",
      "Alien Soldier\n",
      "Dans Alien Soldier sur Console Virtuelle, vous incarnez un soldat extraterrestre génétiquement modifié décidant de rompre avec l'organisation qui l'employait jusqu'alors. Affrontez donc vos anciens alliés dans ce jeu d'action à défilement horizontal et servez-vous des six armes à votre disposition pour remonter jusqu'au boss et l'anéantir.\n",
      "Sortie: 1995\n",
      "19/20\n",
      "18.2/20\n",
      "\n",
      "Splinter Cell\n",
      "Splinter Cell est un jeu d'infiltration sur PC. Vous êtes Sam Fisher, le meilleur agent d'une entité secrète de la National Security Agency et accessoirement le dernier recours de votre gouvernement dans sa lutte contre le terrorisme. Infiltrez-vous dans des univers d'ombre et de lumière et forcez l'ennemi à coopérer ou utilisez-le comme bouclier humain. Vos armes et vos équipements sont issus de la plus haute technologie.\n",
      "Sortie: 28 novembre 2002\n",
      "19/20\n",
      "18.6/20\n",
      "\n",
      "The Witcher 3 : Wild Hunt\n",
      "The Witcher 3 : Wild Hunt est un Action-RPG se déroulant dans un monde ouvert. Troisième épisode de la série du même nom, inspirée des livres du polonais Andrzej Sapkowski, cet opus relate la fin de l'histoire de Geralt de Riv.\n",
      "Sortie: 19 mai 2015\n",
      "19/20\n",
      "18.3/20\n",
      "\n",
      "Rayman Origins\n",
      "Rayman Origins est un célèbre jeu de plates-formes. On retrouve un monde à l'ancienne avec un gameplay en 2D effectuant un retour aux sources de la série. Rayman part ici en quête des Electoons et des Lums à travers une soixantaine de niveaux où variété, difficulté et secrets sont au rendez-vous.\n",
      "Sortie: 24 novembre 2011\n",
      "19/20\n",
      "17.1/20\n",
      "\n",
      "Super Mario Bros. 2\n",
      "Super Mario Bros. 2 sur Console Virtuelle Wii U marque un tournant dans la série de ce mythique jeu de plates-formes puisqu'il introduit la possibilité de choisir son personnage. Incarnez ainsi le célèbre tandem de plombiers moustachus, la princesse Peach ou bien son compagnon Toad dans une aventure magique. Vous devez sauver les habitants du monde des rêves des griffes de l'ignoble Wart, le tyran batracien.\n",
      "Sortie: 1988\n",
      "19/20\n",
      "19/20\n",
      "\n",
      "The Legend of Zelda : A Link to the Past\n",
      "Dans the Legend of Zelda : A Link to the Past, le joueur dirige Link dans sa quête pour sauver Hyrule. Dans ce jeu d'action/aventure en 2D, il est possible de basculer du monde des ténèbres à celui de la lumière pour sauver la princesse Zelda du sorcier Agahnim et trouver les nombreux objets nécessaires à l'accomplissement de la quête.\n",
      "Sortie: 24 septembre 1992\n",
      "19/20\n",
      "18.1/20\n",
      "\n",
      "Vagrant Story\n",
      "Vagrant Story est un jeu de rôle sur Playstation 3. Vous incarnez Ashley Riot, agent secret pour le compte des forces royales, et allez tenter de lever le voile sur de terribles secrets que recèle la cité maudite de Léa Mundis. Vous devez ruser, apprendre à maîtriser l'art de la magie et faire montre de vos talents de combattant pour réussir à venir à bout des dangers qui vous guettent.\n",
      "Sortie: 21 juin 2000\n",
      "19/20\n",
      "18.3/20\n",
      "\n",
      "Gears of War 2 sur 360\n",
      "Dans Gears of War 2 sur Xbox 360, vous retrouvez une vieille connaissance, Marcus Fenix ainsi que l'équipe Delta face aux Locustes, dans un combat sanglant et intense. Il vous faudra avancer seul ou en équipe pour suivre le déroulement du scénario qui est une suite directe du premier volet.\n",
      "Sortie: 7 novembre 2008\n",
      "19/20\n",
      "17.8/20\n",
      "\n"
     ]
    },
    {
     "ename": "IndexError",
     "evalue": "list index out of range",
     "output_type": "error",
     "traceback": [
      "\u001b[1;31m---------------------------------------------------------------------------\u001b[0m",
      "\u001b[1;31mIndexError\u001b[0m                                Traceback (most recent call last)",
      "\u001b[1;32m<ipython-input-50-4bf71941dbc0>\u001b[0m in \u001b[0;36m<module>\u001b[1;34m()\u001b[0m\n\u001b[0;32m      1\u001b[0m \u001b[1;32mfor\u001b[0m \u001b[0mi\u001b[0m \u001b[1;32min\u001b[0m \u001b[0mrange\u001b[0m\u001b[1;33m(\u001b[0m\u001b[0mlen\u001b[0m\u001b[1;33m(\u001b[0m\u001b[0mnomJeux\u001b[0m\u001b[1;33m)\u001b[0m\u001b[1;33m)\u001b[0m\u001b[1;33m:\u001b[0m\u001b[1;33m\u001b[0m\u001b[0m\n\u001b[1;32m----> 2\u001b[1;33m     \u001b[0mprint\u001b[0m\u001b[1;33m(\u001b[0m\u001b[0mnomJeux\u001b[0m\u001b[1;33m[\u001b[0m\u001b[0mi\u001b[0m\u001b[1;33m]\u001b[0m\u001b[1;33m.\u001b[0m\u001b[0mtext_content\u001b[0m\u001b[1;33m(\u001b[0m\u001b[1;33m)\u001b[0m\u001b[1;33m.\u001b[0m\u001b[0mstrip\u001b[0m\u001b[1;33m(\u001b[0m\u001b[1;33m)\u001b[0m \u001b[1;33m+\u001b[0m \u001b[1;34m\"\\n\"\u001b[0m \u001b[1;33m+\u001b[0m           \u001b[0mdesc\u001b[0m\u001b[1;33m[\u001b[0m\u001b[0mi\u001b[0m\u001b[1;33m]\u001b[0m\u001b[1;33m.\u001b[0m\u001b[0mtext_content\u001b[0m\u001b[1;33m(\u001b[0m\u001b[1;33m)\u001b[0m\u001b[1;33m.\u001b[0m\u001b[0mstrip\u001b[0m\u001b[1;33m(\u001b[0m\u001b[1;33m)\u001b[0m \u001b[1;33m+\u001b[0m \u001b[1;34m\"\\n\"\u001b[0m \u001b[1;33m+\u001b[0m           \u001b[0msortie\u001b[0m\u001b[1;33m[\u001b[0m\u001b[0mi\u001b[0m\u001b[1;33m]\u001b[0m\u001b[1;33m.\u001b[0m\u001b[0mtext_content\u001b[0m\u001b[1;33m(\u001b[0m\u001b[1;33m)\u001b[0m\u001b[1;33m.\u001b[0m\u001b[0mstrip\u001b[0m\u001b[1;33m(\u001b[0m\u001b[1;33m)\u001b[0m\u001b[1;33m+\u001b[0m \u001b[1;34m\"\\n\"\u001b[0m \u001b[1;33m+\u001b[0m           \u001b[0mtest\u001b[0m\u001b[1;33m[\u001b[0m\u001b[0mi\u001b[0m\u001b[1;33m]\u001b[0m\u001b[1;33m.\u001b[0m\u001b[0mtext_content\u001b[0m\u001b[1;33m(\u001b[0m\u001b[1;33m)\u001b[0m\u001b[1;33m.\u001b[0m\u001b[0mstrip\u001b[0m\u001b[1;33m(\u001b[0m\u001b[1;33m)\u001b[0m \u001b[1;33m+\u001b[0m \u001b[1;34m\"\\n\"\u001b[0m \u001b[1;33m+\u001b[0m           \u001b[0mavis\u001b[0m\u001b[1;33m[\u001b[0m\u001b[0mi\u001b[0m\u001b[1;33m]\u001b[0m\u001b[1;33m.\u001b[0m\u001b[0mtext_content\u001b[0m\u001b[1;33m(\u001b[0m\u001b[1;33m)\u001b[0m\u001b[1;33m.\u001b[0m\u001b[0mstrip\u001b[0m\u001b[1;33m(\u001b[0m\u001b[1;33m)\u001b[0m \u001b[1;33m+\u001b[0m \u001b[1;34m\"\\n\"\u001b[0m\u001b[1;33m)\u001b[0m\u001b[1;33m\u001b[0m\u001b[0m\n\u001b[0m",
      "\u001b[1;31mIndexError\u001b[0m: list index out of range"
     ]
    }
   ],
   "source": [
    "for i in range(len(nomJeux)):\n",
    "    print(nomJeux[i].text_content().strip() + \"\\n\" + \\\n",
    "          desc[i].text_content().strip() + \"\\n\" + \\\n",
    "          sortie[i].text_content().strip()+ \"\\n\" + \\\n",
    "          test[i].text_content().strip() + \"\\n\" + \\\n",
    "          avis[i].text_content().strip() + \"\\n\")"
   ]
  },
  {
   "cell_type": "markdown",
   "metadata": {},
   "source": [
    "### Mettons les données dans un DataFrame Pandas"
   ]
  },
  {
   "cell_type": "markdown",
   "metadata": {},
   "source": [
    "On décortique volontairement ici le cheminement ..."
   ]
  },
  {
   "cell_type": "code",
   "execution_count": null,
   "metadata": {
    "scrolled": true
   },
   "outputs": [],
   "source": [
    "l1 = pd.DataFrame([nomJeux[i].text_content().strip() for i in range(len(nomJeux))], columns=['Jeux'])\n",
    "l1['key'] = l1.index\n",
    "l2 = pd.DataFrame([desc[i].text_content().strip() for i in range(len(desc))], columns=['Description'])\n",
    "l2['key'] = l2.index\n",
    "l3 = pd.DataFrame([sortie[i].text_content().strip().replace(\"Sortie: \", \"\") for i in range(len(sortie))], columns=['Sortie'])\n",
    "l3['key'] = l3.index\n",
    "l4 = pd.DataFrame([test[i].text_content().strip() for i in range(len(test))], columns=['Test'])\n",
    "l4['key'] = l4.index\n",
    "l5 = pd.DataFrame([avis[i].text_content().strip() for i in range(len(avis))], columns=['Avis'])\n",
    "l5['key'] = l5.index\n",
    "\n",
    "liste = l1.join(l2, on='key', how='left', lsuffix='_l1', rsuffix='_r1').join(l3, on='key_l1', how='left', lsuffix='_l1', rsuffix='_r2')\n",
    "del liste['key_l1']\n",
    "del liste['key_r1']\n",
    "liste = liste.join(l4, on='key', how='left', lsuffix='_l1', rsuffix='_r1').join(l5, on='key_l1', how='left', lsuffix='_l1', rsuffix='_r2')\n",
    "del liste['key_l1']\n",
    "del liste['key_r1']\n",
    "del liste['key']\n",
    "liste.head()"
   ]
  },
  {
   "cell_type": "markdown",
   "metadata": {},
   "source": [
    "## Création de la fonction de récupération des données d'une page"
   ]
  },
  {
   "cell_type": "code",
   "execution_count": null,
   "metadata": {},
   "outputs": [],
   "source": [
    "def getPage(url):\n",
    "    page = requests.get(url)\n",
    "    doc = lh.fromstring(page.content)\n",
    "\n",
    "    # Get the Web data via XPath\n",
    "    content = []\n",
    "    for i in range(len(tags)):\n",
    "        content.append(doc.xpath(tags[i]))\n",
    "\n",
    "    # Gather the data into a Pandas DataFrame array\n",
    "    df_liste = []\n",
    "    for j in range(len(tags)):\n",
    "        tmp = pd.DataFrame([content[j][i].text_content().strip() for i in range(len(content[i]))], columns=[tags[j]])\n",
    "        tmp['key'] = tmp.index\n",
    "        df_liste.append(tmp)\n",
    "\n",
    "    # Build the unique Dataframe with one tag (xpath) content per column\n",
    "    liste = df_liste[0]\n",
    "    for j in range(len(tags)-1):\n",
    "        liste = liste.join(df_liste[j+1], on='key', how='left', lsuffix='_l', rsuffix='_r')\n",
    "        liste['key'] = liste.index\n",
    "        del liste['key_l']\n",
    "        del liste['key_r']\n",
    "    \n",
    "    return liste"
   ]
  },
  {
   "cell_type": "code",
   "execution_count": null,
   "metadata": {},
   "outputs": [],
   "source": [
    "getPage(url).head()"
   ]
  },
  {
   "cell_type": "markdown",
   "metadata": {},
   "source": [
    "## Gestion de la pagination"
   ]
  },
  {
   "cell_type": "code",
   "execution_count": null,
   "metadata": {
    "scrolled": false
   },
   "outputs": [],
   "source": [
    "def getPages(_nbPages, _url):\n",
    "    liste_finale = pd.DataFrame()\n",
    "    for i in range (_nbPages):\n",
    "        liste = getPage(_url + uri_pages + str(i+1))\n",
    "        liste_finale = pd.concat([liste_finale, liste], ignore_index=True)\n",
    "    return liste_finale\n",
    "\n",
    "liste_totale = getPages(nbPages, url)\n",
    "liste_totale.head()"
   ]
  },
  {
   "cell_type": "markdown",
   "metadata": {},
   "source": [
    "Ecrit la liste dans un fichier"
   ]
  },
  {
   "cell_type": "code",
   "execution_count": 76,
   "metadata": {},
   "outputs": [],
   "source": [
    "liste_totale.to_csv('meilleursjeuvideo.csv', index=False)"
   ]
  }
 ],
 "metadata": {
  "kernelspec": {
   "display_name": "Python 3",
   "language": "python",
   "name": "python3"
  },
  "language_info": {
   "codemirror_mode": {
    "name": "ipython",
    "version": 3
   },
   "file_extension": ".py",
   "mimetype": "text/x-python",
   "name": "python",
   "nbconvert_exporter": "python",
   "pygments_lexer": "ipython3",
   "version": "3.6.5"
  }
 },
 "nbformat": 4,
 "nbformat_minor": 2
}
