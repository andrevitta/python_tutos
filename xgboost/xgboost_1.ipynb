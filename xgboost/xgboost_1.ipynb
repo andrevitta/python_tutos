{
 "cells": [
  {
   "cell_type": "markdown",
   "metadata": {},
   "source": [
    "# Import des modules et récupération des données Titanic"
   ]
  },
  {
   "cell_type": "code",
   "execution_count": 1,
   "metadata": {},
   "outputs": [],
   "source": [
    "from xgboost import XGBClassifier\n",
    "from sklearn.preprocessing import MinMaxScaler\n",
    "import pandas as pd\n",
    "import xgboost as xgb\n",
    "\n",
    "train = pd.read_csv(\"../titanic/data/train.csv\")\n",
    "test = pd.read_csv(\"../titanic/data/test.csv\")"
   ]
  },
  {
   "cell_type": "markdown",
   "metadata": {},
   "source": [
    "# Préparation des données (simple)"
   ]
  },
  {
   "cell_type": "code",
   "execution_count": 2,
   "metadata": {
    "scrolled": false
   },
   "outputs": [],
   "source": [
    "def dataprep(data):\n",
    "    sexe = pd.get_dummies(data['Sex'], prefix='sex')\n",
    "    cabin = pd.get_dummies(data['Cabin'].fillna('X').str[0], prefix='Cabin')\n",
    "    # Age \n",
    "    age = data['Age'].fillna(data['Age'].mean())\n",
    "    emb = pd.get_dummies(data['Embarked'], prefix='emb')\n",
    "    # Prix du billet / Attention une donnée de test n'a pas de Prix !\n",
    "    faresc = pd.DataFrame(MinMaxScaler().fit_transform(data[['Fare']].fillna(0)), columns = ['Prix'])\n",
    "    # Classe\n",
    "    pc = pd.DataFrame(MinMaxScaler().fit_transform(data[['Pclass']]), columns = ['Classe'])\n",
    "    \n",
    "    dp = data[['SibSp']].join(pc).join(sexe).join(emb).join(faresc).join(cabin).join(age)\n",
    "    return dp"
   ]
  },
  {
   "cell_type": "markdown",
   "metadata": {},
   "source": [
    "## Préparation à l'entrainement"
   ]
  },
  {
   "cell_type": "code",
   "execution_count": 3,
   "metadata": {},
   "outputs": [],
   "source": [
    "Xtrain = dataprep(train)\n",
    "Xtest = dataprep(test)\n",
    "y = train.Survived"
   ]
  },
  {
   "cell_type": "markdown",
   "metadata": {},
   "source": [
    "# Utilisation de XGBoost via scikit-learn"
   ]
  },
  {
   "cell_type": "code",
   "execution_count": 4,
   "metadata": {
    "scrolled": true
   },
   "outputs": [
    {
     "name": "stdout",
     "output_type": "stream",
     "text": [
      "Score Train --> 87.32  %\n"
     ]
    },
    {
     "name": "stderr",
     "output_type": "stream",
     "text": [
      "/opt/anaconda3/lib/python3.6/site-packages/sklearn/preprocessing/label.py:151: DeprecationWarning: The truth value of an empty array is ambiguous. Returning False, but in future this will result in an error. Use `array.size > 0` to check that an array is not empty.\n",
      "  if diff:\n",
      "/opt/anaconda3/lib/python3.6/site-packages/sklearn/preprocessing/label.py:151: DeprecationWarning: The truth value of an empty array is ambiguous. Returning False, but in future this will result in an error. Use `array.size > 0` to check that an array is not empty.\n",
      "  if diff:\n"
     ]
    }
   ],
   "source": [
    "boost = XGBClassifier()\n",
    "boost.fit(Xtrain, y)\n",
    "p_boost = boost.predict(Xtrain)\n",
    "print (\"Score Train -->\", round(boost.score(Xtrain, y) *100,2), \" %\")"
   ]
  },
  {
   "cell_type": "markdown",
   "metadata": {},
   "source": [
    "## importance des features"
   ]
  },
  {
   "cell_type": "code",
   "execution_count": 11,
   "metadata": {
    "scrolled": false
   },
   "outputs": [
    {
     "data": {
      "text/plain": [
       "<matplotlib.axes._subplots.AxesSubplot at 0x7fc363371978>"
      ]
     },
     "execution_count": 11,
     "metadata": {},
     "output_type": "execute_result"
    },
    {
     "data": {
      "image/png": "[encoded data removed]",
      "text/plain": [
       "<Figure size 432x288 with 1 Axes>"
      ]
     },
     "metadata": {},
     "output_type": "display_data"
    }
   ],
   "source": [
    "xgb.plot_importance(boost)"
   ]
  },
  {
   "cell_type": "markdown",
   "metadata": {},
   "source": [
    "## Affichage des résultats (via matplotloib & graphviz)"
   ]
  },
  {
   "cell_type": "code",
   "execution_count": 7,
   "metadata": {
    "scrolled": false
   },
   "outputs": [
    {
     "data": {
      "text/plain": [
       "<matplotlib.axes._subplots.AxesSubplot at 0x7fc3633ff048>"
      ]
     },
     "execution_count": 7,
     "metadata": {},
     "output_type": "execute_result"
    },
    {
     "data": {
      "image/png": "[encoded data removed]",
      "text/plain": [
       "<Figure size 432x288 with 1 Axes>"
      ]
     },
     "metadata": {},
     "output_type": "display_data"
    }
   ],
   "source": [
    "# Installer le module graphviz\n",
    "# via pip install graphviz\n",
    "# + sudo apt-get install graphviz\n",
    "xgb.plot_tree(boost, num_trees=2)"
   ]
  },
  {
   "cell_type": "code",
   "execution_count": 10,
   "metadata": {
    "scrolled": false
   },
   "outputs": [
    {
     "data": {
      "image/svg+xml": [
       "<?xml version=\"1.0\" encoding=\"UTF-8\" standalone=\"no\"?>\n",
       "<!DOCTYPE svg PUBLIC \"-//W3C//DTD SVG 1.1//EN\"\n",
       " \"http://www.w3.org/Graphics/SVG/1.1/DTD/svg11.dtd\">\n",
       "<!-- Generated by graphviz version 2.40.1 (20161225.0304)\n",
       " -->\n",
       "<!-- Title: %3 Pages: 1 -->\n",
       "<svg width=\"838pt\" height=\"591pt\"\n",
       " viewBox=\"0.00 0.00 837.50 590.87\" xmlns=\"http://www.w3.org/2000/svg\" xmlns:xlink=\"http://www.w3.org/1999/xlink\">\n",
       "<g id=\"graph0\" class=\"graph\" transform=\"scale(1 1) rotate(0) translate(4 586.8651)\">\n",
       "<title>%3</title>\n",
       "<polygon fill=\"#ffffff\" stroke=\"transparent\" points=\"-4,4 -4,-586.8651 833.5,-586.8651 833.5,4 -4,4\"/>\n",
       "<!-- 0 -->\n",
       "<g id=\"node1\" class=\"node\">\n",
       "<title>0</title>\n",
       "<ellipse fill=\"none\" stroke=\"#000000\" cx=\"407\" cy=\"-521.7705\" rx=\"61.1893\" ry=\"61.1893\"/>\n",
       "<text text-anchor=\"middle\" x=\"407\" y=\"-518.0705\" font-family=\"Times,serif\" font-size=\"14.00\" fill=\"#000000\">sex_female&lt;1</text>\n",
       "</g>\n",
       "<!-- 1 -->\n",
       "<g id=\"node2\" class=\"node\">\n",
       "<title>1</title>\n",
       "<ellipse fill=\"none\" stroke=\"#000000\" cx=\"345\" cy=\"-355.0807\" rx=\"51.9908\" ry=\"51.9908\"/>\n",
       "<text text-anchor=\"middle\" x=\"345\" y=\"-351.3807\" font-family=\"Times,serif\" font-size=\"14.00\" fill=\"#000000\">Cabin_X&lt;1</text>\n",
       "</g>\n",
       "<!-- 0&#45;&gt;1 -->\n",
       "<g id=\"edge1\" class=\"edge\">\n",
       "<title>0&#45;&gt;1</title>\n",
       "<path fill=\"none\" stroke=\"#0000ff\" d=\"M379.9807,-466.9349C376.4159,-458.8856 372.973,-450.6278 370,-442.6759 366.7116,-433.8805 363.6038,-424.453 360.7697,-415.1597\"/>\n",
       "<polygon fill=\"#0000ff\" stroke=\"#0000ff\" points=\"364.1199,-414.1466 357.9192,-405.5558 357.4093,-416.1384 364.1199,-414.1466\"/>\n",
       "<text text-anchor=\"middle\" x=\"404.5\" y=\"-431.4759\" font-family=\"Times,serif\" font-size=\"14.00\" fill=\"#000000\">yes, missing</text>\n",
       "</g>\n",
       "<!-- 2 -->\n",
       "<g id=\"node3\" class=\"node\">\n",
       "<title>2</title>\n",
       "<ellipse fill=\"none\" stroke=\"#000000\" cx=\"471\" cy=\"-355.0807\" rx=\"54.6905\" ry=\"54.6905\"/>\n",
       "<text text-anchor=\"middle\" x=\"471\" y=\"-351.3807\" font-family=\"Times,serif\" font-size=\"14.00\" fill=\"#000000\">Classe&lt;0.75</text>\n",
       "</g>\n",
       "<!-- 0&#45;&gt;2 -->\n",
       "<g id=\"edge2\" class=\"edge\">\n",
       "<title>0&#45;&gt;2</title>\n",
       "<path fill=\"none\" stroke=\"#ff0000\" d=\"M430.3054,-464.8353C433.2707,-457.3965 436.2336,-449.8647 439,-442.6759 442.288,-434.1315 445.6848,-425.0879 448.9819,-416.1826\"/>\n",
       "<polygon fill=\"#ff0000\" stroke=\"#ff0000\" points=\"452.338,-417.1973 452.5105,-406.6039 445.7695,-414.7775 452.338,-417.1973\"/>\n",
       "<text text-anchor=\"middle\" x=\"452\" y=\"-431.4759\" font-family=\"Times,serif\" font-size=\"14.00\" fill=\"#000000\">no</text>\n",
       "</g>\n",
       "<!-- 3 -->\n",
       "<g id=\"node4\" class=\"node\">\n",
       "<title>3</title>\n",
       "<ellipse fill=\"none\" stroke=\"#000000\" cx=\"198\" cy=\"-168.2428\" rx=\"46.2923\" ry=\"46.2923\"/>\n",
       "<text text-anchor=\"middle\" x=\"198\" y=\"-164.5428\" font-family=\"Times,serif\" font-size=\"14.00\" fill=\"#000000\">Age&lt;17.5</text>\n",
       "</g>\n",
       "<!-- 1&#45;&gt;3 -->\n",
       "<g id=\"edge3\" class=\"edge\">\n",
       "<title>1&#45;&gt;3</title>\n",
       "<path fill=\"none\" stroke=\"#0000ff\" d=\"M306.6378,-319.9676C294.9685,-308.5058 282.4712,-295.3952 272,-282.4856 255.4576,-262.0909 239.3331,-237.8757 226.3807,-216.9998\"/>\n",
       "<polygon fill=\"#0000ff\" stroke=\"#0000ff\" points=\"229.2436,-214.973 221.0319,-208.2782 223.2763,-218.6326 229.2436,-214.973\"/>\n",
       "<text text-anchor=\"middle\" x=\"306.5\" y=\"-271.2856\" font-family=\"Times,serif\" font-size=\"14.00\" fill=\"#000000\">yes, missing</text>\n",
       "</g>\n",
       "<!-- 4 -->\n",
       "<g id=\"node5\" class=\"node\">\n",
       "<title>4</title>\n",
       "<ellipse fill=\"none\" stroke=\"#000000\" cx=\"345\" cy=\"-168.2428\" rx=\"42.4939\" ry=\"42.4939\"/>\n",
       "<text text-anchor=\"middle\" x=\"345\" y=\"-164.5428\" font-family=\"Times,serif\" font-size=\"14.00\" fill=\"#000000\">Age&lt;9.5</text>\n",
       "</g>\n",
       "<!-- 1&#45;&gt;4 -->\n",
       "<g id=\"edge4\" class=\"edge\">\n",
       "<title>1&#45;&gt;4</title>\n",
       "<path fill=\"none\" stroke=\"#ff0000\" d=\"M345,-303.036C345,-277.4127 345,-246.5853 345,-220.8823\"/>\n",
       "<polygon fill=\"#ff0000\" stroke=\"#ff0000\" points=\"348.5001,-220.5771 345,-210.5772 341.5001,-220.5772 348.5001,-220.5771\"/>\n",
       "<text text-anchor=\"middle\" x=\"352\" y=\"-271.2856\" font-family=\"Times,serif\" font-size=\"14.00\" fill=\"#000000\">no</text>\n",
       "</g>\n",
       "<!-- 5 -->\n",
       "<g id=\"node10\" class=\"node\">\n",
       "<title>5</title>\n",
       "<polygon fill=\"none\" stroke=\"#000000\" points=\"529,-186.2428 413,-186.2428 413,-150.2428 529,-150.2428 529,-186.2428\"/>\n",
       "<text text-anchor=\"middle\" x=\"471\" y=\"-164.5428\" font-family=\"Times,serif\" font-size=\"14.00\" fill=\"#000000\">leaf=0.146324977</text>\n",
       "</g>\n",
       "<!-- 2&#45;&gt;5 -->\n",
       "<g id=\"edge9\" class=\"edge\">\n",
       "<title>2&#45;&gt;5</title>\n",
       "<path fill=\"none\" stroke=\"#0000ff\" d=\"M471,-300.2856C471,-266.2547 471,-223.9242 471,-196.5074\"/>\n",
       "<polygon fill=\"#0000ff\" stroke=\"#0000ff\" points=\"474.5001,-196.4318 471,-186.4318 467.5001,-196.4318 474.5001,-196.4318\"/>\n",
       "<text text-anchor=\"middle\" x=\"505.5\" y=\"-271.2856\" font-family=\"Times,serif\" font-size=\"14.00\" fill=\"#000000\">yes, missing</text>\n",
       "</g>\n",
       "<!-- 6 -->\n",
       "<g id=\"node11\" class=\"node\">\n",
       "<title>6</title>\n",
       "<ellipse fill=\"none\" stroke=\"#000000\" cx=\"629\" cy=\"-168.2428\" rx=\"81.4863\" ry=\"81.4863\"/>\n",
       "<text text-anchor=\"middle\" x=\"629\" y=\"-164.5428\" font-family=\"Times,serif\" font-size=\"14.00\" fill=\"#000000\">Prix&lt;0.0455761626</text>\n",
       "</g>\n",
       "<!-- 2&#45;&gt;6 -->\n",
       "<g id=\"edge10\" class=\"edge\">\n",
       "<title>2&#45;&gt;6</title>\n",
       "<path fill=\"none\" stroke=\"#ff0000\" d=\"M511.1249,-317.3054C522.1253,-306.3871 533.8178,-294.2382 544,-282.4856 554.7243,-270.1072 565.5906,-256.4845 575.8071,-243.0906\"/>\n",
       "<polygon fill=\"#ff0000\" stroke=\"#ff0000\" points=\"578.8403,-244.882 582.0773,-234.7937 573.2557,-240.6615 578.8403,-244.882\"/>\n",
       "<text text-anchor=\"middle\" x=\"564\" y=\"-271.2856\" font-family=\"Times,serif\" font-size=\"14.00\" fill=\"#000000\">no</text>\n",
       "</g>\n",
       "<!-- 7 -->\n",
       "<g id=\"node6\" class=\"node\">\n",
       "<title>7</title>\n",
       "<polygon fill=\"none\" stroke=\"#000000\" points=\"116,-36 0,-36 0,0 116,0 116,-36\"/>\n",
       "<text text-anchor=\"middle\" x=\"58\" y=\"-14.3\" font-family=\"Times,serif\" font-size=\"14.00\" fill=\"#000000\">leaf=0.117508531</text>\n",
       "</g>\n",
       "<!-- 3&#45;&gt;7 -->\n",
       "<g id=\"edge5\" class=\"edge\">\n",
       "<title>3&#45;&gt;7</title>\n",
       "<path fill=\"none\" stroke=\"#0000ff\" d=\"M166.2318,-134.1504C140.6073,-106.651 105.1229,-68.5705 81.8735,-43.6202\"/>\n",
       "<polygon fill=\"#0000ff\" stroke=\"#0000ff\" points=\"84.1609,-40.9408 74.7829,-36.0108 79.0396,-45.713 84.1609,-40.9408\"/>\n",
       "<text text-anchor=\"middle\" x=\"138.5\" y=\"-57.8\" font-family=\"Times,serif\" font-size=\"14.00\" fill=\"#000000\">yes, missing</text>\n",
       "</g>\n",
       "<!-- 8 -->\n",
       "<g id=\"node7\" class=\"node\">\n",
       "<title>8</title>\n",
       "<polygon fill=\"none\" stroke=\"#000000\" points=\"262,-36 134,-36 134,0 262,0 262,-36\"/>\n",
       "<text text-anchor=\"middle\" x=\"198\" y=\"-14.3\" font-family=\"Times,serif\" font-size=\"14.00\" fill=\"#000000\">leaf=&#45;0.0397458188</text>\n",
       "</g>\n",
       "<!-- 3&#45;&gt;8 -->\n",
       "<g id=\"edge6\" class=\"edge\">\n",
       "<title>3&#45;&gt;8</title>\n",
       "<path fill=\"none\" stroke=\"#ff0000\" d=\"M198,-121.9391C198,-97.1561 198,-67.4408 198,-46.1422\"/>\n",
       "<polygon fill=\"#ff0000\" stroke=\"#ff0000\" points=\"201.5001,-46.1321 198,-36.1321 194.5001,-46.1322 201.5001,-46.1321\"/>\n",
       "<text text-anchor=\"middle\" x=\"205\" y=\"-57.8\" font-family=\"Times,serif\" font-size=\"14.00\" fill=\"#000000\">no</text>\n",
       "</g>\n",
       "<!-- 9 -->\n",
       "<g id=\"node8\" class=\"node\">\n",
       "<title>9</title>\n",
       "<polygon fill=\"none\" stroke=\"#000000\" points=\"410,-36 280,-36 280,0 410,0 410,-36\"/>\n",
       "<text text-anchor=\"middle\" x=\"345\" y=\"-14.3\" font-family=\"Times,serif\" font-size=\"14.00\" fill=\"#000000\">leaf=0.00360033358</text>\n",
       "</g>\n",
       "<!-- 4&#45;&gt;9 -->\n",
       "<g id=\"edge7\" class=\"edge\">\n",
       "<title>4&#45;&gt;9</title>\n",
       "<path fill=\"none\" stroke=\"#0000ff\" d=\"M345,-125.992C345,-100.6321 345,-69.0467 345,-46.6004\"/>\n",
       "<polygon fill=\"#0000ff\" stroke=\"#0000ff\" points=\"348.5001,-46.3827 345,-36.3828 341.5001,-46.3828 348.5001,-46.3827\"/>\n",
       "<text text-anchor=\"middle\" x=\"379.5\" y=\"-57.8\" font-family=\"Times,serif\" font-size=\"14.00\" fill=\"#000000\">yes, missing</text>\n",
       "</g>\n",
       "<!-- 10 -->\n",
       "<g id=\"node9\" class=\"node\">\n",
       "<title>10</title>\n",
       "<polygon fill=\"none\" stroke=\"#000000\" points=\"549.5,-36 428.5,-36 428.5,0 549.5,0 549.5,-36\"/>\n",
       "<text text-anchor=\"middle\" x=\"489\" y=\"-14.3\" font-family=\"Times,serif\" font-size=\"14.00\" fill=\"#000000\">leaf=&#45;0.126822144</text>\n",
       "</g>\n",
       "<!-- 4&#45;&gt;10 -->\n",
       "<g id=\"edge8\" class=\"edge\">\n",
       "<title>4&#45;&gt;10</title>\n",
       "<path fill=\"none\" stroke=\"#ff0000\" d=\"M368.0922,-132.2857C378.2946,-117.5673 390.9306,-100.7917 404,-87 419.4752,-70.6696 438.8117,-54.6892 455.1305,-42.2265\"/>\n",
       "<polygon fill=\"#ff0000\" stroke=\"#ff0000\" points=\"457.4617,-44.8528 463.3526,-36.0467 453.2559,-39.2571 457.4617,-44.8528\"/>\n",
       "<text text-anchor=\"middle\" x=\"447\" y=\"-57.8\" font-family=\"Times,serif\" font-size=\"14.00\" fill=\"#000000\">no</text>\n",
       "</g>\n",
       "<!-- 11 -->\n",
       "<g id=\"node12\" class=\"node\">\n",
       "<title>11</title>\n",
       "<polygon fill=\"none\" stroke=\"#000000\" points=\"690.5,-36 567.5,-36 567.5,0 690.5,0 690.5,-36\"/>\n",
       "<text text-anchor=\"middle\" x=\"629\" y=\"-14.3\" font-family=\"Times,serif\" font-size=\"14.00\" fill=\"#000000\">leaf=0.0283539426</text>\n",
       "</g>\n",
       "<!-- 6&#45;&gt;11 -->\n",
       "<g id=\"edge11\" class=\"edge\">\n",
       "<title>6&#45;&gt;11</title>\n",
       "<path fill=\"none\" stroke=\"#0000ff\" d=\"M629,-86.9652C629,-72.2489 629,-57.8498 629,-46.0474\"/>\n",
       "<polygon fill=\"#0000ff\" stroke=\"#0000ff\" points=\"632.5001,-46.0038 629,-36.0038 625.5001,-46.0039 632.5001,-46.0038\"/>\n",
       "<text text-anchor=\"middle\" x=\"663.5\" y=\"-57.8\" font-family=\"Times,serif\" font-size=\"14.00\" fill=\"#000000\">yes, missing</text>\n",
       "</g>\n",
       "<!-- 12 -->\n",
       "<g id=\"node13\" class=\"node\">\n",
       "<title>12</title>\n",
       "<polygon fill=\"none\" stroke=\"#000000\" points=\"829.5,-36 708.5,-36 708.5,0 829.5,0 829.5,-36\"/>\n",
       "<text text-anchor=\"middle\" x=\"769\" y=\"-14.3\" font-family=\"Times,serif\" font-size=\"14.00\" fill=\"#000000\">leaf=&#45;0.114657596</text>\n",
       "</g>\n",
       "<!-- 6&#45;&gt;12 -->\n",
       "<g id=\"edge12\" class=\"edge\">\n",
       "<title>6&#45;&gt;12</title>\n",
       "<path fill=\"none\" stroke=\"#ff0000\" d=\"M684.734,-108.4312C705.6297,-86.0067 728.2965,-61.6815 744.8529,-43.9138\"/>\n",
       "<polygon fill=\"#ff0000\" stroke=\"#ff0000\" points=\"747.7449,-45.9442 752.0016,-36.2421 742.6237,-41.1721 747.7449,-45.9442\"/>\n",
       "<text text-anchor=\"middle\" x=\"742\" y=\"-57.8\" font-family=\"Times,serif\" font-size=\"14.00\" fill=\"#000000\">no</text>\n",
       "</g>\n",
       "</g>\n",
       "</svg>\n"
      ],
      "text/plain": [
       "<graphviz.dot.Digraph at 0x7fc3633620f0>"
      ]
     },
     "execution_count": 10,
     "metadata": {},
     "output_type": "execute_result"
    }
   ],
   "source": [
    "xgb.to_graphviz(boost, num_trees=2)"
   ]
  },
  {
   "cell_type": "markdown",
   "metadata": {},
   "source": [
    "# Sauvegarde du modèle"
   ]
  },
  {
   "cell_type": "code",
   "execution_count": 25,
   "metadata": {},
   "outputs": [],
   "source": [
    "boost.save_model('titanic.xbmodel')"
   ]
  },
  {
   "cell_type": "markdown",
   "metadata": {},
   "source": [
    "# Chargement d'un modèle existant"
   ]
  },
  {
   "cell_type": "code",
   "execution_count": null,
   "metadata": {},
   "outputs": [],
   "source": [
    "boost = xgb.Booster({'nthread': 4})  # init model\n",
    "boost.load_model('titanic.xbmodel')  # load data"
   ]
  },
  {
   "cell_type": "markdown",
   "metadata": {},
   "source": [
    "# Utilisation sans scikit-learn"
   ]
  },
  {
   "cell_type": "code",
   "execution_count": null,
   "metadata": {},
   "outputs": [],
   "source": [
    "num_round = 10\n",
    "params = {'max_depth': 2, \n",
    "          'eta': 1, \n",
    "          'silent': 1, \n",
    "          'objective': 'binary:logistic'}\n",
    "params['nthread'] = 4\n",
    "params['eval_metric'] = 'auc'\n",
    "evallist = [(dtest, 'eval'), (dtrain, 'train')]\n",
    "\n",
    "boost2 = xgb.train(params, Xtrain, num_round, evallist)"
   ]
  }
 ],
 "metadata": {
  "kernelspec": {
   "display_name": "Python 3",
   "language": "python",
   "name": "python3"
  },
  "language_info": {
   "codemirror_mode": {
    "name": "ipython",
    "version": 3
   },
   "file_extension": ".py",
   "mimetype": "text/x-python",
   "name": "python",
   "nbconvert_exporter": "python",
   "pygments_lexer": "ipython3",
   "version": "3.6.5"
  }
 },
 "nbformat": 4,
 "nbformat_minor": 2
}
