{
 "cells": [
  {
   "cell_type": "code",
   "execution_count": 2,
   "metadata": {},
   "outputs": [
    {
     "data": {
      "text/plain": [
       "LooseVersion ('4.0.0-beta.1')"
      ]
     },
     "execution_count": 2,
     "metadata": {},
     "output_type": "execute_result"
    }
   ],
   "source": [
    "try:\n",
    "    from PIL import Image\n",
    "except ImportError:\n",
    "    import Image\n",
    "import pytesseract\n",
    "from pytesseract import Output\n",
    "import cv2\n",
    "import re\n",
    "\n",
    "pytesseract.get_tesseract_version()"
   ]
  },
  {
   "cell_type": "markdown",
   "metadata": {},
   "source": [
    "# Superposition de cadre (textes détectés) sur l'image"
   ]
  },
  {
   "cell_type": "code",
   "execution_count": 3,
   "metadata": {},
   "outputs": [
    {
     "name": "stdout",
     "output_type": "stream",
     "text": [
      "{'level': [1, 2, 3, 4, 5, 5, 5, 5, 5, 2, 3, 4, 5, 5, 5, 5], 'page_num': [1, 1, 1, 1, 1, 1, 1, 1, 1, 1, 1, 1, 1, 1, 1, 1], 'block_num': [0, 1, 1, 1, 1, 1, 1, 1, 1, 2, 2, 2, 2, 2, 2, 2], 'par_num': [0, 0, 1, 1, 1, 1, 1, 1, 1, 0, 1, 1, 1, 1, 1, 1], 'line_num': [0, 0, 0, 1, 1, 1, 1, 1, 1, 0, 0, 1, 1, 1, 1, 1], 'word_num': [0, 0, 0, 0, 1, 2, 3, 4, 5, 0, 0, 0, 1, 2, 3, 4], 'left': [0, 469, 469, 469, 469, 621, 737, 835, 1051, 666, 666, 666, 666, 838, 934, 1172], 'top': [0, 458, 458, 458, 458, 461, 470, 458, 461, 683, 683, 683, 685, 695, 683, 686], 'width': [1920, 738, 738, 738, 122, 89, 67, 207, 156, 661, 661, 661, 142, 67, 210, 155], 'height': [1080, 60, 60, 60, 48, 45, 36, 60, 45, 48, 48, 48, 46, 36, 48, 45], 'conf': ['-1', '-1', '-1', '-1', 96, 95, 95, 96, 96, '-1', '-1', '-1', 96, 96, 96, 96], 'text': ['', '', '', '', 'Ceci', 'est', 'un', 'premier', 'test', '', '', '', 'Avec', 'un', 'second', 'texte']}\n"
     ]
    }
   ],
   "source": [
    "simage = r'/home/benoit/git/python_tutos/tesseract/image_2.png'\n",
    "img = cv2.imread(simage)\n",
    "d = pytesseract.image_to_data(img, output_type=Output.DICT)\n",
    "print (d)"
   ]
  },
  {
   "cell_type": "code",
   "execution_count": 4,
   "metadata": {},
   "outputs": [
    {
     "name": "stdout",
     "output_type": "stream",
     "text": [
      "Nombre de boites: 16\n"
     ]
    }
   ],
   "source": [
    "NbBoites = len(d['level'])\n",
    "print (\"Nombre de boites: \" + str(NbBoites))\n",
    "for i in range(NbBoites):\n",
    "    # Récupère les coordonnées de chaque boite\n",
    "    (x, y, w, h) = (d['left'][i], d['top'][i], d['width'][i], d['height'][i])\n",
    "    # Affiche un rectangle\n",
    "    cv2.rectangle(img, (x, y), (x + w, y + h), (0, 255, 0), 2)\n",
    "\n",
    "cv2.imshow('img', img)\n",
    "cv2.waitKey(0)\n",
    "cv2.destroyAllWindows()"
   ]
  },
  {
   "cell_type": "markdown",
   "metadata": {},
   "source": [
    "## Appuyez sur une touche du clavier sans quoi le kernel Jupyter sera bloqué"
   ]
  },
  {
   "cell_type": "markdown",
   "metadata": {},
   "source": [
    "# Détection d'un élément particulier d'un document comme une date ou autre chose qui a un format particulier ..."
   ]
  },
  {
   "cell_type": "code",
   "execution_count": 5,
   "metadata": {},
   "outputs": [
    {
     "name": "stdout",
     "output_type": "stream",
     "text": [
      "ceci est une date 27/09/2018 … comment la retrouver ?\n"
     ]
    }
   ],
   "source": [
    "simage = r'/home/benoit/git/python_tutos/tesseract/image_2_bis.png'\n",
    "img = cv2.imread(simage)\n",
    "texte = pytesseract.image_to_string(img, lang='fra')\n",
    "print (texte)"
   ]
  },
  {
   "cell_type": "code",
   "execution_count": 6,
   "metadata": {},
   "outputs": [
    {
     "name": "stdout",
     "output_type": "stream",
     "text": [
      "27/09/2018\n"
     ]
    }
   ],
   "source": [
    "tTexte = texte.split()\n",
    "date_pattern = '^(0[1-9]|[12][0-9]|3[01])/(0[1-9]|1[012])/(19|20)\\d\\d$'\n",
    "for i in range(len(tTexte)):\n",
    "    if re.match(date_pattern, tTexte[i]):\n",
    "        dateTrouvee = tTexte[i]\n",
    "        \n",
    "print (dateTrouvee)"
   ]
  },
  {
   "cell_type": "markdown",
   "metadata": {},
   "source": [
    "## Affichage en surbrillance de la zone détectée sur l'image"
   ]
  },
  {
   "cell_type": "code",
   "execution_count": 8,
   "metadata": {},
   "outputs": [],
   "source": [
    "d = pytesseract.image_to_data(img, output_type=Output.DICT)\n",
    "for i in range(len(d['text'])):\n",
    "    if int(d['conf'][i]) > 60:\n",
    "        if re.match(date_pattern, d['text'][i]):\n",
    "            (x, y, w, z) = (d['left'][i], d['top'][i], d['width'][i], d['height'][i])\n",
    "            img = cv2.rectangle(img, (x, y), (x + w, y + z), (0, 255, 0), 2)\n",
    "\n",
    "cv2.imshow('img', img)\n",
    "cv2.waitKey(0)\n",
    "cv2.destroyAllWindows()"
   ]
  },
  {
   "cell_type": "code",
   "execution_count": null,
   "metadata": {},
   "outputs": [],
   "source": []
  }
 ],
 "metadata": {
  "kernelspec": {
   "display_name": "Python 3",
   "language": "python",
   "name": "python3"
  },
  "language_info": {
   "codemirror_mode": {
    "name": "ipython",
    "version": 3
   },
   "file_extension": ".py",
   "mimetype": "text/x-python",
   "name": "python",
   "nbconvert_exporter": "python",
   "pygments_lexer": "ipython3",
   "version": "3.7.4"
  }
 },
 "nbformat": 4,
 "nbformat_minor": 2
}
