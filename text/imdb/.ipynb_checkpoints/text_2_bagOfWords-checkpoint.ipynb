{
 "cells": [
  {
   "cell_type": "code",
   "execution_count": 2,
   "metadata": {
    "ExecuteTime": {
     "end_time": "2018-08-10T11:42:07.826023Z",
     "start_time": "2018-08-10T11:42:07.733274Z"
    }
   },
   "outputs": [],
   "source": [
    "import pandas as pd\n",
    "T = pd.read_csv(\"../../webscraping/meilleursjeuvideo.csv\")"
   ]
  },
  {
   "cell_type": "code",
   "execution_count": 3,
   "metadata": {
    "ExecuteTime": {
     "end_time": "2018-08-10T11:42:08.464643Z",
     "start_time": "2018-08-10T11:42:08.447065Z"
    },
    "scrolled": true
   },
   "outputs": [
    {
     "data": {
      "text/html": [
       "<div>\n",
       "<style scoped>\n",
       "    .dataframe tbody tr th:only-of-type {\n",
       "        vertical-align: middle;\n",
       "    }\n",
       "\n",
       "    .dataframe tbody tr th {\n",
       "        vertical-align: top;\n",
       "    }\n",
       "\n",
       "    .dataframe thead th {\n",
       "        text-align: right;\n",
       "    }\n",
       "</style>\n",
       "<table border=\"1\" class=\"dataframe\">\n",
       "  <thead>\n",
       "    <tr style=\"text-align: right;\">\n",
       "      <th></th>\n",
       "      <th>Jeux</th>\n",
       "      <th>Description</th>\n",
       "      <th>Sortie</th>\n",
       "      <th>Test</th>\n",
       "      <th>Avis</th>\n",
       "    </tr>\n",
       "  </thead>\n",
       "  <tbody>\n",
       "    <tr>\n",
       "      <th>0</th>\n",
       "      <td>God of War sur PS4</td>\n",
       "      <td>Dans ce nouvel épisode de God Of War, le héros...</td>\n",
       "      <td>20 avril 2018</td>\n",
       "      <td>20/20</td>\n",
       "      <td>17.7/20</td>\n",
       "    </tr>\n",
       "    <tr>\n",
       "      <th>1</th>\n",
       "      <td>The Legend of Zelda : Breath of the Wild</td>\n",
       "      <td>The Legend of Zelda : Breath of the Wild est u...</td>\n",
       "      <td>3 mars 2017</td>\n",
       "      <td>20/20</td>\n",
       "      <td>17.5/20</td>\n",
       "    </tr>\n",
       "    <tr>\n",
       "      <th>2</th>\n",
       "      <td>The Legend of Zelda : The Wind Waker sur NGC</td>\n",
       "      <td>Dans The Legend of Zelda : The Wind Waker, vou...</td>\n",
       "      <td>3 mai 2003</td>\n",
       "      <td>20/20</td>\n",
       "      <td>18.9/20</td>\n",
       "    </tr>\n",
       "    <tr>\n",
       "      <th>3</th>\n",
       "      <td>Silent Hill</td>\n",
       "      <td>Silent Hill est un survival horror à télécharg...</td>\n",
       "      <td>1er août 1999</td>\n",
       "      <td>19/20</td>\n",
       "      <td>18.6/20</td>\n",
       "    </tr>\n",
       "    <tr>\n",
       "      <th>4</th>\n",
       "      <td>Panzer Dragoon Saga sur Saturn</td>\n",
       "      <td>Panzer Dragoon Saga est un jeu de rôle en 3D s...</td>\n",
       "      <td>Juin 1998</td>\n",
       "      <td>19/20</td>\n",
       "      <td>18.8/20</td>\n",
       "    </tr>\n",
       "  </tbody>\n",
       "</table>\n",
       "</div>"
      ],
      "text/plain": [
       "                                           Jeux  \\\n",
       "0                            God of War sur PS4   \n",
       "1      The Legend of Zelda : Breath of the Wild   \n",
       "2  The Legend of Zelda : The Wind Waker sur NGC   \n",
       "3                                   Silent Hill   \n",
       "4                Panzer Dragoon Saga sur Saturn   \n",
       "\n",
       "                                         Description         Sortie   Test  \\\n",
       "0  Dans ce nouvel épisode de God Of War, le héros...  20 avril 2018  20/20   \n",
       "1  The Legend of Zelda : Breath of the Wild est u...    3 mars 2017  20/20   \n",
       "2  Dans The Legend of Zelda : The Wind Waker, vou...     3 mai 2003  20/20   \n",
       "3  Silent Hill est un survival horror à télécharg...  1er août 1999  19/20   \n",
       "4  Panzer Dragoon Saga est un jeu de rôle en 3D s...      Juin 1998  19/20   \n",
       "\n",
       "      Avis  \n",
       "0  17.7/20  \n",
       "1  17.5/20  \n",
       "2  18.9/20  \n",
       "3  18.6/20  \n",
       "4  18.8/20  "
      ]
     },
     "execution_count": 3,
     "metadata": {},
     "output_type": "execute_result"
    }
   ],
   "source": [
    "T.head()"
   ]
  },
  {
   "cell_type": "markdown",
   "metadata": {},
   "source": [
    "# Tokenization"
   ]
  },
  {
   "cell_type": "code",
   "execution_count": 18,
   "metadata": {
    "scrolled": true
   },
   "outputs": [
    {
     "data": {
      "text/plain": [
       "CountVectorizer(analyzer='word', binary=False, decode_error='strict',\n",
       "        dtype=<class 'numpy.int64'>, encoding='utf-8', input='content',\n",
       "        lowercase=True, max_df=1.0, max_features=None, min_df=1,\n",
       "        ngram_range=(1, 1), preprocessor=None, stop_words=None,\n",
       "        strip_accents=None, token_pattern='(?u)\\\\b\\\\w\\\\w+\\\\b',\n",
       "        tokenizer=None, vocabulary=None)"
      ]
     },
     "execution_count": 18,
     "metadata": {},
     "output_type": "execute_result"
    }
   ],
   "source": [
    "from sklearn.feature_extraction.text import CountVectorizer\n",
    "cv = CountVectorizer()\n",
    "texts = T[\"Description\"].fillna(\"NA\")\n",
    "cv.fit(texts)"
   ]
  },
  {
   "cell_type": "code",
   "execution_count": 19,
   "metadata": {},
   "outputs": [
    {
     "name": "stdout",
     "output_type": "stream",
     "text": [
      "Taille: {} 2976\n"
     ]
    }
   ],
   "source": [
    "print (\"Taille: {}\",  len (cv.vocabulary_))"
   ]
  },
  {
   "cell_type": "code",
   "execution_count": 20,
   "metadata": {
    "scrolled": true
   },
   "outputs": [
    {
     "name": "stdout",
     "output_type": "stream",
     "text": [
      "Contenu: {} {'dans': 681, 'ce': 435, 'nouvel': 1793, 'épisode': 2944, 'de': 688, 'god': 1197, 'of': 1827, 'war': 2874, 'le': 1480, 'héros': 1303, 'évoluera': 2970, 'un': 2755, 'monde': 1676, 'aux': 273, 'inspirations': 1357, 'nordiques': 1784, 'très': 2731, 'forestier': 1118, 'et': 1001, 'montagneux': 1683, 'beat': 332, 'them': 2654, 'all': 122, 'enfant': 938, 'accompagnera': 55, 'principal': 2080, 'pouvant': 2056, 'apprendre': 184, 'des': 710, 'actions': 71, 'du': 806, 'joueur': 1420, 'même': 1741, 'gagner': 1159, 'expérience': 1030, 'the': 2652, 'legend': 1486, 'zelda': 2903, 'breath': 381, 'wild': 2882, 'est': 1000, 'jeu': 1405, 'action': 70, 'aventure': 283, 'link': 1510, 'se': 2405, 'réveille': 2361, 'sommeil': 2483, '100': 1, 'ans': 165, 'royaume': 2315, 'hyrule': 1300, 'dévasté': 887, 'il': 1313, 'lui': 1536, 'faudra': 1058, 'percer': 1938, 'les': 1489, 'mystères': 1716, 'passé': 1924, 'vaincre': 2780, 'ganon': 1171, 'fléau': 1101, 'prend': 2068, 'place': 1991, 'gigantesque': 1190, 'ouvert': 1878, 'accorde': 59, 'ainsi': 111, 'une': 2757, 'part': 1903, 'importante': 1323, 'exploration': 1025, 'titre': 2669, 'été': 2965, 'pensé': 1937, 'pour': 2047, 'que': 2169, 'puisse': 2154, 'aller': 123, 'où': 1880, 'veut': 2809, 'dès': 817, 'début': 824, 'éloignant': 2933, 'la': 1461, 'linéarité': 1511, 'habituelle': 1244, 'série': 2592, 'wind': 2883, 'waker': 2871, 'vous': 2857, 'incarnez': 1331, 'sa': 2370, 'quête': 2175, 'sauver': 2394, 'sœur': 2594, 'découvrez': 843, 'sous': 2511, 'flots': 1097, 'en': 931, 'style': 2548, 'cartoon': 424, 'naviguez': 1758, 'au': 259, 'dos': 789, 'lion': 1512, 'rouge': 2311, 'orientant': 1864, 'grâce': 1224, 'baguette': 298, 'vent': 2800, 'explorer': 1026, 'toutes': 2693, 'îles': 2975, 'vaste': 2792, 'océan': 1821, 'dévoiler': 891, 'secrets': 2413, 'donjons': 783, 'qu': 2163, 'elles': 911, 'renferment': 2251, 'silent': 2450, 'hill': 1270, 'survival': 2577, 'horror': 1288, 'télécharger': 2747, 'sur': 2569, 'ps3': 2142, 'via': 2812, 'playstation': 2006, 'store': 2539, 'agit': 99, 'toute': 2692, 'première': 2065, 'version': 2804, 'sorti': 2500, 'êtes': 2972, 'harry': 1253, 'mason': 1594, 'venez': 2797, 'arriver': 223, 'petite': 1957, 'ville': 2821, 'bord': 363, 'votre': 2856, '4x4': 26, 'avec': 280, 'fille': 1080, 'cheryl': 484, 'pleine': 2007, 'nuit': 1800, 'accident': 53, 'met': 1630, 'fin': 1085, 'voyage': 2858, 'disparu': 755, 'étrange': 2961, 'brouillard': 384, 'recouvre': 2214, 'complètement': 571, 'infestée': 1346, 'créatures': 664, 'décharnées': 827, 'avides': 289, 'chair': 458, 'fraîche': 1140, 'panzer': 1890, 'dragoon': 798, 'saga': 2375, 'rôle': 2369, '3d': 23, 'saturn': 2388, 'peau': 1935, 'jeune': 1406, 'edge': 896, 'devez': 726, 'aide': 103, 'dragon': 796, 'combattre': 548, 'méchant': 1726, 'empire': 924, 'qui': 2173, 'assassiné': 238, 'peuple': 1961, 'tout': 2691, 'remue': 2242, 'ménage': 1732, 'fait': 1044, 'suite': 2561, 'découverte': 841, 'archéologique': 203, 'kingpin': 1448, 'life': 1505, 'crime': 648, 'tir': 2665, 'personne': 1952, 'pc': 1933, 'allez': 124, 'incarner': 1330, 'pires': 1984, 'gangsters': 1170, 'terre': 2638, 'ait': 112, 'jamais': 1397, 'porté': 2037, 'rejeté': 2228, 'par': 1892, 'grand': 1206, 'chef': 480, 'pègre': 2158, 'locale': 1519, 'laissé': 1465, 'mort': 1691, 'bas': 312, 'fonds': 1108, 'avez': 288, 'décidé': 833, 'devenir': 725, 'caïd': 433, 'créer': 666, 'propre': 2111, 'gang': 1168, 'moralité': 1687, 'aussi': 262, 'cerveau': 451, 'devrez': 729, 'bastonner': 317, 'torturer': 2682, 'trahir': 2697, 'tuer': 2735, 'faire': 1042, 'respecter': 2269, 'iss': 1392, 'pro': 2091, 'evolution': 1012, 'football': 1111, 'si': 2446, 'licences': 1501, 'joueurs': 1421, 'sont': 2492, 'abonnés': 39, 'absents': 43, 'équipes': 2954, 'nationales': 1752, 'bien': 341, 'là': 1546, '10': 0, 'stades': 2530, 'fidèlement': 1071, 'représentés': 2264, 'possible': 2042, 'modifier': 1665, 'options': 1849, 'météo': 1736, 'efficacité': 904, 'intelligence': 1362, 'artificielle': 228, 'sans': 2385, 'oublier': 1874, 'angles': 157, 'caméras': 409, 'différents': 742, 'jusqu': 1429, 'quatre': 2167, 'peuvent': 1966, 'affronter': 90, 'simultanément': 2454, 'batman': 324, 'arkham': 208, 'city': 511, 'lequel': 1488, 'doit': 774, 'nouveau': 1790, 'son': 2486, 'ennemi': 953, 'juré': 1428, 'joker': 1412, 'toujours': 2684, 'plus': 2016, 'sombre': 2482, 'nombreuses': 1779, 'quêtes': 2176, 'annexes': 161, 'permettent': 1945, 'détails': 877, 'retrouvez': 2279, 'chasseuse': 476, 'primes': 2074, 'intergalactique': 1366, 'samus': 2380, 'aran': 196, 'super': 2565, 'metroid': 1632, 'console': 597, 'virtuelle': 2828, 'nouvelles': 1795, 'aventures': 285, 'attendent': 255, 'vol': 2847, 'dernier': 705, 'métroïde': 1735, 'voilà': 2845, 'repartie': 2258, 'planète': 1996, 'zèbes': 2910, 'arsenal': 226, 'incluant': 1334, 'rayon': 2200, 'grappin': 1214, 'vision': 2829, 'utilisez': 2775, 'laser': 1474, 'missiles': 1654, 'bombes': 357, 'venir': 2799, 'bout': 372, 'boss': 364, '2d': 19, 'umineko': 2754, 'no': 1773, 'naku': 1747, 'koro': 1455, 'ni': 1767, 'visual': 2830, 'novel': 1797, 'incarne': 1329, 'battler': 328, 'ushiromiya': 2771, 'assiste': 242, 'meurtres': 1638, 'brutaux': 388, 'incompréhensible': 1337, 'objectif': 1806, 'sera': 2425, 'alors': 127, 'résoudre': 2358, 'savoir': 2397, 'ils': 1315, 'ont': 1845, 'commis': 558, 'être': 2973, 'humain': 1293, 'ou': 1873, 'entité': 963, 'surnaturelle': 2571, 'baldur': 303, 'gate': 1177, 'ii': 1311, 'enhanced': 948, 'edition': 897, 'remake': 2232, 'shadows': 2440, 'amn': 137, 'extension': 1031, 'throne': 2661, 'bhaal': 339, 'reprend': 2262, 'principe': 2081, 'aîné': 294, 'propose': 2110, 'création': 661, 'personnage': 1949, 'parmi': 1900, 'diverses': 766, 'classes': 516, 'caractéristiques': 420, 'compétences': 579, 'alien': 119, 'soldier': 2479, 'soldat': 2476, 'extraterrestre': 1035, 'génétiquement': 1241, 'modifié': 1666, 'décidant': 830, 'rompre': 2305, 'organisation': 1860, 'employait': 925, 'affrontez': 91, 'donc': 781, 'vos': 2855, 'anciens': 151, 'alliés': 126, 'défilement': 852, 'horizontal': 1286, 'servez': 2431, 'six': 2459, 'armes': 210, 'disposition': 761, 'remonter': 2238, 'anéantir': 172, 'splinter': 2523, 'cell': 439, 'infiltration': 1347, 'sam': 2379, 'fisher': 1089, 'meilleur': 1616, 'agent': 98, 'secrète': 2414, 'national': 1751, 'security': 2415, 'agency': 97, 'accessoirement': 51, 'recours': 2213, 'gouvernement': 1205, 'lutte': 1542, 'contre': 612, 'terrorisme': 2648, 'infiltrez': 1349, 'univers': 2763, 'ombre': 1839, 'lumière': 1539, 'forcez': 1115, 'coopérer': 622, 'comme': 554, 'bouclier': 367, 'équipements': 2953, 'issus': 1394, 'haute': 1258, 'technologie': 2618, 'witcher': 2888, 'hunt': 1298, 'rpg': 2317, 'déroulant': 869, 'troisième': 2722, 'nom': 1777, 'inspirée': 1359, 'livres': 1516, 'polonais': 2025, 'andrzej': 156, 'sapkowski': 2386, 'cet': 453, 'opus': 1850, 'relate': 2230, 'histoire': 1275, 'geralt': 1187, 'riv': 2291, 'rayman': 2199, 'origins': 1870, 'célèbre': 676, 'plates': 2003, 'formes': 1122, 'on': 1841, 'retrouve': 2276, 'ancienne': 150, 'gameplay': 1166, 'effectuant': 900, 'retour': 2272, 'sources': 2509, 'ici': 1307, 'electoons': 908, 'lums': 1540, 'travers': 2709, 'soixantaine': 2474, 'niveaux': 1772, 'variété': 2791, 'difficulté': 738, 'rendez': 2247, 'mario': 1589, 'bros': 383, 'wii': 2880, 'marque': 1590, 'tournant': 2686, 'mythique': 1720, 'puisqu': 2147, 'introduit': 1370, 'possibilité': 2040, 'choisir': 492, 'tandem': 2605, 'plombiers': 2009, 'moustachus': 1699, 'princesse': 2079, 'peach': 1934, 'compagnon': 563, 'toad': 2672, 'magique': 1560, 'habitants': 1243, 'rêves': 2368, 'griffes': 1220, 'ignoble': 1310, 'wart': 2877, 'tyran': 2745, 'batracien': 325, 'to': 2671, 'past': 1925, 'dirige': 747, 'basculer': 313, 'ténèbres': 2749, 'celui': 443, 'sorcier': 2495, 'agahnim': 95, 'trouver': 2728, 'nombreux': 1780, 'objets': 1808, 'nécessaires': 1803, 'accomplissement': 58, 'vagrant': 2778, 'story': 2540, 'ashley': 234, 'riot': 2290, 'secret': 2412, 'compte': 577, 'forces': 1114, 'royales': 2314, 'tenter': 2629, 'lever': 1494, 'voile': 2844, 'terribles': 2643, 'recèle': 2218, 'cité': 512, 'maudite': 1608, 'léa': 1548, 'mundis': 1709, 'ruser': 2322, 'maîtriser': 1613, 'art': 227, 'magie': 1559, 'montre': 1685, 'talents': 2602, 'combattant': 544, 'réussir': 2360, 'dangers': 680, 'guettent': 1228, 'gears': 1180, 'xbox': 2891, '360': 22, 'vieille': 2815, 'connaissance': 593, 'marcus': 1587, 'fenix': 1065, 'équipe': 2951, 'delta': 696, 'face': 1041, 'locustes': 1522, 'combat': 542, 'sanglant': 2382, 'intense': 1363, 'avancer': 275, 'seul': 2435, 'suivre': 2564, 'déroulement': 871, 'scénario': 2404, 'directe': 746, 'premier': 2063, 'volet': 2850, 'prince': 2077, 'persia': 1948, 'sables': 2372, 'temps': 2621, 'commet': 557, 'erreur': 986, 'ouvrir': 1879, 'sablier': 2373, 'maléfique': 1577, 'condamnant': 582, 'immédiatement': 1321, 'âmes': 2912, 'palais': 1885, 'diabolique': 733, 'vizir': 2840, 'encore': 935, 'fois': 1102, 'derrière': 709, 'ça': 2913, 'arpentant': 217, 'secondé': 2408, 'farah': 1054, 'devra': 728, 'mettre': 1636, 'terme': 2632, 'malédiction': 1576, 'driver': 801, 'voiture': 2846, 'tanner': 2607, 'flic': 1095, 'infiltré': 1350, 'mafia': 1556, 'réputation': 2351, 'chauffeur': 478, 'pas': 1918, 'froid': 1142, 'yeux': 2898, 'réaliser': 2331, 'arrestation': 220, 'siècle': 2460, 'grands': 1211, 'pontes': 2027, 'exécutant': 1038, 'missions': 1656, 'confie': 587, 'ces': 452, 'dernières': 708, 'déroulent': 872, 'exclusivement': 1014, 'volant': 2848, 'véhicule': 2866, 'last': 1476, 'us': 2766, 'remastered': 2234, 'ps4': 2143, 'raconte': 2179, 'joel': 1409, 'ellie': 912, 'vont': 2854, 'devoir': 727, 'entraider': 967, 'survivre': 2580, 'mystérieuse': 1717, 'peste': 1955, 'décimé': 834, 'etats': 1002, 'unis': 2761, 'nature': 1754, 'commence': 555, 'approprier': 191, 'villes': 2822, 'abandonnées': 36, 'quelques': 2171, 'survivants': 2579, 'entre': 970, 'tuent': 2734, 'récupérer': 2335, 'peu': 1959, 'nourriture': 1788, 'présentes': 2136, 'cette': 454, 'améliorée': 142, 'base': 314, 'dlc': 771, 'left': 1485, 'behind': 335, 'monkey': 1678, 'island': 1391, 'nous': 1789, 'entraîne': 969, 'grande': 1207, 'compagnie': 562, 'apprenti': 187, 'pirate': 1982, 'guybrush': 1234, 'threepwood': 2660, 'fil': 1079, 'remplie': 2239, 'humour': 1297, 'situations': 2458, 'cocasses': 528, 'notamment': 1786, 'ses': 2433, 'preuves': 2072, 'insultes': 1361, 'avant': 278, 'mystère': 1715, 'fameuse': 1050, 'ile': 1314, 'singes': 2456, 'em': 913, 'prenant': 2067, 'mythologique': 1721, 'iii': 1312, 'permet': 1943, 'kratos': 1456, 'titans': 2668, 'vivez': 2839, 'apothéose': 175, 'vengeance': 2798, 'sanglante': 2383, 'brutale': 387, 'envers': 977, 'dieux': 737, 'olympe': 1838, 'inside': 1355, 'petit': 1956, 'garçon': 1176, 'sortir': 2502, 'société': 2468, 'autoritaire': 268, 'alterne': 128, 'phases': 1969, 'plate': 2001, 'forme': 1120, 'énigmes': 2939, 'twilight': 2739, 'princess': 2078, 'dimension': 743, 'ombres': 1840, 'menace': 1620, 'envahir': 975, 'changé': 466, 'loup': 1534, 'mille': 1647, 'enfants': 939, 'village': 2819, 'énigmatique': 2937, 'sarcastique': 2387, 'midona': 1645, 'fps': 1131, 'bioshock': 347, 'profondeurs': 2101, 'atlantique': 247, 'ruines': 2319, 'marine': 1588, 'ravagée': 2196, 'folie': 1103, 'créateurs': 660, 'perdu': 1939, 'cœur': 678, 'dystopie': 816, 'mâtinée': 1723, 'abomination': 38, 'scientifique': 2402, 'lutter': 1544, 'plasmides': 1999, 'sortes': 2499, 'modules': 1667, 'modifient': 1664, 'adn': 79, 'afin': 93, 'acquérir': 69, 'puissants': 2153, 'pouvoirs': 2059, 'depuis': 704, 'longtemps': 1528, 'renié': 2253, 'leur': 1492, 'humanité': 1295, 'dom': 778, 'cole': 530, 'baird': 299, 'anya': 170, 'lambents': 1466, 'conduire': 585, 'type': 2743, 'silverback': 2452, 'profite': 2099, 'complet': 566, 'prédécesseurs': 2129, 'plusieurs': 2017, 'modes': 1662, 'multijoueur': 1707, 'présents': 2137, 'permettant': 1944, 'autres': 272, 'team': 2613, 'deathmatch': 692, 'vagues': 2779, 'ennemis': 955, 'soulcalibur': 2507, 'gamecube': 1164, 'mesurez': 1629, 'pléiade': 2018, 'adversaires': 84, 'duels': 809, 'armés': 216, 'décors': 840, 'sublimes': 2551, 'tentez': 2630, 'détruire': 882, 'épée': 2949, '13': 6, 'personnages': 1950, 'disponibles': 758, 'bonus': 360, 'chaque': 471, 'heihachi': 1263, 'ps2': 2141, 'gc': 1178, 'spawn': 2518, 'divers': 765, 'tels': 2619, 'arcade': 199, 'vs': 2863, 'maître': 1611, 'na': 1743, 'sonic': 2489, 'hedgehog': 1262, 'recette': 2207, 'succès': 2557, 'précédent': 2125, 'ajoute': 113, 'utiliser': 2774, 'deltaplane': 697, 'certaines': 449, 'collectez': 533, 'anneaux': 160, 'vies': 2818, 'supplémentaires': 2566, 'libérez': 1500, 'animaux': 159, 'condamnés': 583, 'robotisation': 2295, 'arche': 200, 'capitaine': 414, 'blood': 353, 'programmateur': 2102, 'jeux': 1408, 'prisonnier': 2085, 'créations': 662, 'retrouver': 2278, 'clones': 522, 'absorber': 44, 'ne': 1760, 'soit': 2473, 'trop': 2724, 'tard': 2611, 'pouvoir': 2058, 'réintégrer': 2349, 'réel': 2338, 'mettant': 1634, 'scène': 2403, 'plombier': 2008, 'moustache': 1697, 'traversez': 2711, 'sautez': 2391, 'éliminer': 2929, 'ramassez': 2186, 'champignons': 463, 'fleurs': 1094, 'débloquer': 821, 'techniques': 2617, 'bowser': 374, 'sbires': 2398, 'délivrer': 860, 'délicieuse': 859, 'bayonetta': 331, 'puissante': 2151, 'séduisante': 2590, 'sorcière': 2496, 'rocambolesques': 2298, 'unes': 2758, 'coups': 640, 'grâces': 1225, 'spectaculaires': 2520, 'chasseur': 475, 'trésors': 2733, 'nathan': 1750, 'drake': 799, 'uncharted': 2756, 'among': 138, 'thieves': 2657, 'mêlant': 1737, 'embarqué': 915, 'expédition': 1029, 'recherche': 2209, 'légendaire': 1549, 'vallée': 2784, 'shambhala': 2441, 'himalaya': 1271, 'accompagné': 56, 'criminel': 649, 'guerre': 1227, 'semble': 2422, 'seulement': 2436, 'chercher': 483, 'cd': 434, 'traverser': 2710, 'vitesse': 2835, 'ramassant': 2184, 'maximum': 1610, 'mais': 1569, 'coriaces': 625, 'viendront': 2816, 'frotter': 1146, 'notre': 1787, 'myst': 1712, 'plongé': 2013, 'connaît': 594, 'voyageant': 2859, 'environnements': 980, 'découvrir': 844, 'comment': 556, 'fonctionne': 1105, 'surtout': 2575, 'pourquoi': 2048, 'deux': 720, 'frères': 1148, 'vus': 2865, 'enfermés': 941, 'prisons': 2088, 'attend': 254, 'hexen': 1269, 'but': 390, 'eidolon': 907, 'puissant': 2150, 'trois': 2721, 'chevaucheurs': 486, 'serpents': 2429, 'venus': 2802, 'espace': 992, 'pourrez': 2050, 'paladin': 1884, 'assassin': 236, 'nécromancien': 1804, 'etc': 1003, 'contrées': 615, 'thyrion': 2662, 'xenoblade': 2892, 'chronicles': 497, 'wiiu': 2881, 'fantastique': 1051, 'déplacer': 866, 'battre': 329, 'robots': 2297, 'volants': 2849, 'humanoïde': 1296, 'rock': 2299, 'band': 307, 'rythme': 2325, '80': 34, 'nouveaux': 1792, 'morceaux': 1689, 'clavier': 519, 'octaves': 1819, 'perspectives': 1954, 'inédites': 1384, 'joindre': 1411, 'batterie': 326, 'micro': 1644, 'guitare': 1231, 'devenez': 724, 'groupe': 1223, 'entière': 964, 'amis': 136, 'arènes': 232, 'combattants': 546, 'tous': 2689, 'dotés': 791, 'arme': 209, 'blanche': 350, 'spécifique': 2528, 'multiples': 1708, 'embranchements': 917, 'éditeur': 2925, 'mode': 1661, 'chroniques': 498, 'stratégie': 2542, 'dirigez': 750, 'quatrième': 2168, 'naughty': 1756, 'dog': 772, 'thief': 2656, 'end': 936, 'explorateur': 1024, 'révéler': 2366, 'complot': 569, 'cache': 399, 'trésor': 2732, 'pirates': 1983, 'iphone': 1386, 'ipod': 1387, 'axé': 292, 'affrontements': 88, 'mains': 1567, 'nues': 1799, 'plupart': 2015, 'propulser': 2116, 'adversaire': 83, 'dehors': 695, 'celles': 441, 'ci': 501, 'esquive': 995, 'joue': 1416, 'primordial': 2075, 'cela': 437, 'nombre': 1778, 'prises': 2083, 'mouvements': 1701, 'possibles': 2043, 'soul': 2506, 'reaver': 2202, 'raziel': 2201, 'autrefois': 271, 'vampire': 2785, 'service': 2432, 'kain': 1431, 'puis': 2146, 'déchu': 829, 'car': 418, 'possédant': 2044, 'potentiel': 2046, 'prendre': 2070, 'aider': 104, 'accomplir': 57, 'débarrassant': 819, 'suceur': 2558, 'sang': 2381, 'croisera': 653, 'route': 2312, 'day': 687, 'tentacle': 2625, 'special': 2519, 'faisant': 1043, 'maniac': 1581, 'mansion': 1585, 'ailleurs': 109, 'bernard': 337, 'hoogie': 1282, 'laverne': 1477, 'emprise': 929, 'tentacules': 2626, 'créés': 670, 'dr': 794, 'fred': 1141, 'anachronismes': 146, 'voyages': 2861, 'programme': 2103, 'graphismes': 1213, 'hd': 1259, 'éponyme': 2946, 'refonte': 2226, 'graphique': 1212, 'affichage': 85, '1080p': 3, 'couleurs': 634, 'effets': 903, 'retravaillés': 2274, 'ergonomie': 985, 'optimisée': 1848, 'fonctions': 1106, 'offertes': 1829, 'gamepad': 1165, 'modifications': 1663, 'introduites': 1371, 'corriger': 627, 'baisses': 300, 'original': 1866, 'également': 2927, 'jeter': 1404, 'bouteilles': 373, 'mer': 1624, 'communiquer': 561, 'castlevania': 427, 'dracula': 795, 'curse': 672, 'divisé': 770, 'pièges': 1989, 'volonté': 2852, 'contrôlez': 618, 'trevor': 2713, 'belmont': 336, 'vampires': 2786, 'armé': 214, 'fouet': 1128, 'killer': 1443, 'attaques': 251, 'secondaires': 2406, 'comporte': 572, '15': 7, 'autant': 264, 'wing': 2886, 'commander': 551, 'spatial': 2515, 'coeur': 529, 'conflit': 590, 'hommes': 1279, 'kilrathis': 1445, 'mi': 1642, 'humaines': 1294, 'félines': 1155, 'pilote': 1977, 'juste': 1430, 'académie': 48, 'intégré': 1375, 'campagne': 406, 'vega': 2795, 'existe': 1018, 'types': 2744, 'vaisseaux': 2783, 'chacun': 456, 'propres': 2113, 'ordres': 1859, 'wingman': 2887, 'vaisseau': 2782, 'allié': 125, 'indispensable': 1341, 'préserver': 2138, 'ennemies': 954, 'majora': 1572, 'mask': 1593, 'ocarina': 1817, 'time': 2664, 'arrive': 221, 'termina': 2634, 'après': 194, 'rencontre': 2244, 'mouvementé': 1702, 'skull': 2461, 'kid': 1440, 'dangereux': 679, 'masque': 1595, 'jours': 1425, 'lune': 1541, 'abattre': 37, 'volé': 2853, 'f1': 1039, 'world': 2890, 'prix': 2090, 'simulation': 2453, 'courses': 643, 'formule': 1123, 'championnat': 464, '1998': 11, 'inclut': 1335, 'pilotes': 1979, 'écuries': 2924, 'officiels': 1832, 'classiques': 518, 'championship': 465, 'trial': 2714, 'single': 2457, 'race': 2177, 'match': 1601, 'mesurer': 1628, 'internet': 1367, 'metal': 1631, 'gear': 1179, 'solid': 2480, 'snake': 2466, 'eater': 892, 'passant': 1921, 'précédents': 2126, 'épisodes': 2945, 'pendant': 1936, 'froide': 1143, 'naked': 1746, 'infiltrer': 1348, 'territoire': 2645, 'russe': 2323, 'gadgets': 1158, 'parcourir': 1897, 'différentes': 741, 'zones': 2907, 'jungle': 1427, 'complexe': 568, 'militaire': 1646, 'slug': 2464, 'marco': 1586, 'rossi': 2309, 'tarma': 2612, 'roving': 2313, 'membres': 1619, 'peregrine': 1941, 'falcons': 1047, 'mission': 1655, 'libérer': 1499, 'prisonniers': 2086, 'horde': 1283, 'veulent': 2808, 'annihiler': 162, 'véhicules': 2867, 'pouvez': 2057, 'chemin': 481, 'ecco': 895, 'dolphin': 777, 'originalité': 1868, 'commandes': 552, 'dauphin': 686, 'débute': 825, 'lorsque': 1532, 'impuissant': 1327, 'disparition': 754, 'écosystème': 2918, 'emporté': 927, 'tempête': 2622, '25': 18, 'durant': 812, 'explorez': 1027, 'abîmes': 47, 'résolvez': 2357, 'ramener': 2187, 'calme': 403, 'sein': 2419, 'crique': 650, 'hand': 1250, 'fate': 1056, 'constitue': 599, 'deuxième': 721, 'trilogie': 2719, 'kyrandia': 1460, 'zanthia': 2902, 'train': 2698, 'couler': 632, 'revient': 2283, 'lourde': 1535, 'tâche': 2746, 'présente': 2135, 'classique': 517, 'succession': 2556, 'écrans': 2920, 'peut': 1965, 'interagir': 1365, 'éléments': 2935, 'décor': 839, 'créé': 668, 'partir': 1916, 'moteur': 1694, 'half': 1247, 'counter': 635, 'strike': 2544, 'jouant': 1415, 'ligne': 1506, 'communauté': 560, 'camp': 405, 'terroristes': 2649, 'objectifs': 1807, 'fonction': 1104, 'adopté': 81, 'carte': 422, 'choisie': 491, 'doivent': 775, 'menés': 1623, 'remporter': 2241, 'partie': 1914, 'disposez': 760, 'large': 1473, 'choix': 496, 'existantes': 1017, 'renforcer': 2252, 'immersion': 1318, 'riven': 2294, 'réflexion': 2340, 'convoqué': 619, 'atrus': 248, 'besoin': 338, 'femme': 1063, 'catherine': 429, 'intuition': 1372, 'résolution': 2355, 'seules': 2437, 'parvenir': 1917, 'sublime': 2550, 'knuckles': 1452, 'faut': 1060, 'arrêter': 225, 'robotnik': 2296, 'souhaite': 2505, 'emparer': 921, 'master': 1599, 'emerald': 918, 'chaos': 467, 'construire': 603, 'destructrice': 718, 'ramasser': 2185, 'dévalant': 885, 'huit': 1292, 'infinite': 1352, 'dont': 788, 'passe': 1922, '1912': 9, 'flottante': 1098, 'colombia': 535, 'accompagne': 54, 'booker': 361, 'dewitt': 731, 'détective': 879, 'chargé': 473, 'disparue': 756, 'prisonnière': 2087, 'okami': 1837, 'dispose': 759, 'aspect': 235, 'particulier': 1910, 'déesse': 847, 'amaterasu': 131, 'réincarnée': 2347, 'magnifique': 1563, 'blanc': 349, 'redonner': 2221, 'vie': 2814, 'couleur': 633, 'terrorisé': 2650, 'font': 1109, 'régner': 2346, 'battez': 327, 'moyen': 1703, 'pinceau': 1981, 'véritable': 2868, 'prolongement': 2107, '64': 32, 'château': 500, 'trouvez': 2729, '120': 5, 'étoiles': 2960, 'nouvelle': 1794, 'profitez': 2100, 'panoplie': 1888, 'mystic': 1713, 'quest': 2172, 'spin': 2522, 'off': 1828, 'final': 1086, 'fantasy': 1052, 'orienté': 1865, 'développé': 889, 'gameboy': 1163, 'seiken': 2418, 'densetsu': 703, 'rebaptisé': 2203, 'adventure': 82, 'esclave': 990, 'glaive': 1194, 'va': 2777, 'échapper': 2914, 'trace': 2696, 'chevaliers': 485, 'gemme': 1182, 'protéger': 2120, 'arbre': 197, 'mana': 1579, 'shadow': 2439, 'colossus': 541, 'plonge': 2010, 'empreint': 928, 'poésie': 2060, 'wanda': 2873, 'fidèle': 1070, 'destrier': 716, 'argo': 207, 'mystique': 1714, 'gardé': 1175, '16': 8, 'colosses': 540, 'peuplent': 1962, 'réveiller': 2362, 'aimée': 110, 'parcourez': 1896, 'frontière': 1145, 'poursuivre': 2055, 'laissez': 1464, 'porter': 2036, 'onirique': 1843, 'inspiré': 1358, 'bande': 309, 'dessinée': 712, 'walking': 2872, 'dead': 689, 'saison': 2376, 'déroule': 870, 'gens': 1186, 'transforment': 2701, 'zombies': 2906, 'infection': 1345, 'inconnue': 1340, 'lee': 1484, 'rescapé': 2266, 'prendra': 2069, 'aile': 107, 'clémentine': 526, 'parents': 1899, 'kokiri': 1453, 'devant': 722, 'menacé': 1621, 'cours': 641, 'particulièrement': 1912, 'voyager': 2860, 'ganondorf': 1172, 'galaxy': 1161, 'nintendo': 1770, 'galaxies': 1160, 'diriger': 749, 'collecte': 532, 'suffisent': 2559, 'finir': 1087, 'total': 2683, 'space': 2514, 'isaac': 1390, 'station': 2534, 'géante': 1236, 'dévastée': 888, 'sprawl': 2526, 'nécromorphes': 1805, 'panel': 1887, 'variés': 2790, 'fallout': 1049, 'projetant': 2105, 'post': 2045, 'nucléaire': 1798, 'xxie': 2894, 'fut': 1152, 'dévastatrice': 886, 'tentent': 2628, 'grandes': 1208, 'réfugié': 2341, 'abri': 41, 'ceux': 455, 'construits': 604, 'privilégiés': 2089, 'dirigeant': 748, 'envoie': 981, 'puce': 2145, 'rechange': 2208, 'filtration': 1084, 'eau': 893, 'né': 1801, 'apprêtez': 193, 'reste': 2271, 'extérieur': 1037, 'japonais': 1400, 'machines': 1555, 'provoquée': 2123, 'affrontement': 87, 'bionis': 346, 'mékonis': 1729, 'immobilisés': 1319, 'leurs': 1493, 'lames': 1467, 'entraient': 968, 'contact': 605, 'corps': 626, 'abritent': 42, 'désormais': 876, 'nations': 1753, 'rivales': 2292, 'homz': 1280, 'shulk': 2445, 'hérite': 1302, 'surpuissante': 2574, 'nommée': 1781, 'monado': 1675, 'capable': 411, 'prédire': 2127, 'avenir': 282, 'smash': 2465, 'for': 1112, 'lesquelles': 1490, 'affrontent': 89, 'pikachu': 1975, 'donkey': 784, 'kong': 1454, 'arrivent': 222, 'mega': 1615, 'man': 1578, 'coach': 527, 'fit': 1090, 'villageois': 2820, 'animal': 158, 'crossing': 655, 'évidemment': 2966, 'dune': 810, 'gestion': 1188, 'arrakis': 219, 'centrée': 446, 'maisons': 1570, 'autour': 269, 'extraction': 1034, 'épice': 2943, 'substance': 2554, 'précieuse': 2124, 'suit': 2560, 'paul': 1928, 'atréides': 249, 'oeuvre': 1826, 'défendre': 849, 'intérêts': 1377, 'siens': 2447, 'tissez': 2667, 'relations': 2231, 'tribus': 2716, 'locales': 1520, 'assurez': 245, 'chassez': 477, 'cruels': 658, 'harkonnen': 1251, 'vi': 2811, 'magitek': 1562, 'pris': 2082, '1000': 2, 'règne': 2328, 'main': 1566, 'fer': 1066, 'lock': 1521, 'rebelles': 2205, 'returners': 2280, 'essaye': 998, 'retourner': 2273, 'puissance': 2149, 'capacité': 412, 'passer': 1923, 'vivants': 2837, 'morts': 1692, 'claquement': 515, 'doigts': 773, 'empêcher': 930, 'tueurs': 2737, 'plonger': 2012, 'vaudous': 2794, 'débarrasser': 820, 'feu': 1068, 'chrono': 499, 'trigger': 2718, 'absorbée': 45, 'lors': 1531, 'fête': 1156, 'millénaire': 1648, 'rencontrera': 2245, 'survie': 2576, 'laquelle': 1472, 'obligés': 1810, 'ensemble': 959, 'états': 2958, 'ravagé': 2195, 'maladie': 1574, 'transformant': 2700, 'ayant': 293, 'semé': 2423, 'anarchie': 147, 'années': 164, 'seront': 2428, 'souvent': 2513, 'mise': 1652, 'surnombre': 2572, 'arx': 230, 'fatalis': 1055, 'médiéval': 1728, 'monstres': 1681, 'vivent': 2838, 'surface': 2570, 'immenses': 1317, 'souterrains': 2512, 'cuire': 671, 'équipement': 2952, 'remplir': 2240, 'sortilèges': 2501, 'derniers': 706, 'lancés': 1470, 'traçant': 2712, 'symboles': 2581, 'runiques': 2321, 'écran': 2919, 'ori': 1863, 'and': 152, 'blind': 352, 'forest': 1117, 'metroidvania': 1633, 'enchanteur': 933, 'poétique': 2061, 'assez': 241, 'approche': 189, 'genre': 1184, 'fouiller': 1129, 'niveau': 1771, 'capacités': 413, 'accéder': 65, 'suivantes': 2563, 'dynamite': 815, 'headdy': 1260, 'jouet': 1418, 'particularité': 1909, 'tête': 2750, 'amovible': 139, 'lancez': 1469, 'cartoonesque': 425, 'défaites': 848, 'dark': 682, 'demon': 701, 'tente': 2627, 'transformer': 2702, 'jouets': 1419, 'solde': 2478, 'combattez': 547, 'ours': 1876, 'trouble': 2725, 'bruin': 385, 'délivrez': 861, 'joug': 1423, 'démoniaque': 862, 'odyssée': 1823, 'roi': 2301, 'maudit': 1607, 'remède': 2243, 'trode': 2720, 'transformé': 2704, 'crapaud': 646, 'compagnons': 564, 'pétrifié': 2162, 'virer': 2825, 'vers': 2803, 'resident': 2268, 'evil': 1010, 'leon': 1487, 'kennedy': 1438, 'président': 2139, 'usa': 2767, 'détenue': 881, 'plans': 1995, 'louables': 1533, 'espagnol': 993, 'reculé': 2217, 'population': 2030, 'comporter': 573, 'façon': 1062, 'agressive': 102, 'réintroduit': 2348, 'confins': 588, 'défie': 850, 'loi': 1523, 'gravité': 1216, 'myriade': 1711, 'planètes': 1997, 'yoshi': 2899, 'renferme': 2250, 'moins': 1672, '240': 17, 'dénicher': 865, 'challenge': 459, 'revu': 2285, 'hausse': 1256, 'séduire': 2589, 'inconditionnels': 1338, 'ether': 1005, 'one': 1842, 'psychologique': 2144, 'découvre': 842, 'présentant': 2134, 'possibilités': 2041, 'suivant': 2562, 'voie': 2843, 'décidera': 832, 'réalité': 2333, 'fiction': 1069, 'thème': 2663, 'centre': 445, 'particulière': 1911, 'country': 636, 'gorille': 1202, 'king': 1446, 'rool': 2307, 'bananes': 306, 'décide': 831, 'jouables': 1414, 'fort': 1124, 'diddy': 734, 'rapide': 2189, 'jouer': 1417, 'tour': 2685, 'aideront': 105, 'franchir': 1134, 'certains': 450, 'kremlings': 1457, 'fier': 1073, 'avoir': 291, 'vaincu': 2781, 'fantôme': 1053, 'lechuck': 1482, 'repart': 2257, 'assaut': 239, 'rebondissements': 2206, 'fabuleux': 1040, 'big': 343, 'whoop': 2879, 'refait': 2224, 'bâtons': 393, 'roues': 2310, 'prime': 2073, 'vue': 2864, 'matière': 1604, 'phazon': 1970, 'écrase': 2921, 'tallon': 2604, 'iv': 1395, 'détruit': 884, 'faune': 1059, 'flore': 1096, 'contrôler': 617, 'essaie': 996, 'tales': 2603, 'symphonia': 2582, 'lloyd': 1517, 'irving': 1388, 'jouable': 1413, 'longue': 1529, 'dishonored': 753, 'corvo': 629, 'ancien': 149, 'garde': 1173, 'mis': 1651, 'prison': 2084, 'accusé': 63, 'meurtre': 1637, 'impératrice': 1328, 'protégeait': 2118, 'monté': 1686, 'mgs2': 1640, 'sons': 2491, 'liberty': 1496, 'raiden': 2181, 'prolifération': 2106, 'equipé': 984, 'libre': 1498, 'manière': 1583, 'forte': 1125, 'enchaînent': 934, 'dense': 702, 'comte': 580, 'cinématiques': 509, 'proche': 2094, '7ème': 33, 'mgs3': 1641, 'subsistance': 2552, 'étendue': 2959, 'tenant': 2623, 'dvds': 813, 'système': 2585, 'caméra': 408, 'online': 1844, 'réédition': 2367, 'sortis': 2503, 'msx': 1705, 'film': 1081, 'heures': 1267, 'retraçant': 2275, 'diablo': 732, 'hack': 1246, 'slash': 2462, 'exterminant': 1032, 'trouvent': 2727, 'accumuler': 62, 'avancez': 276, 'débusquez': 823, 'mal': 1573, 'fond': 1107, 'tanière': 2606, 'éliminez': 2930, 'pierre': 1974, 'âme': 2911, 'contenir': 606, 'ronge': 2306, 'conker': 592, 'bad': 297, 'fur': 1150, 'écureuil': 2923, 'gueule': 1229, 'bois': 354, 'tonnerre': 2679, 'rentrer': 2255, 'chez': 488, 'soirée': 2472, 'agitée': 100, 'evoluez': 1011, 'caricatural': 421, 'mêlent': 1739, 'violence': 2824, 'obscénités': 1811, 'parodies': 1901, 'celle': 440, 'colossaux': 539, 'envoyés': 982, 'ciel': 503, 'mises': 1653, 'impressionnantes': 1324, 'baten': 323, 'kaitos': 1432, 'destin': 714, 'sommes': 2484, 'époque': 2947, 'légendes': 1552, 'vastes': 2793, 'lévitant': 1553, 'haut': 1257, 'continents': 610, 'frayant': 1137, 'novateur': 1796, 'basé': 318, 'cartes': 423, 'steins': 2536, 'roman': 2304, 'virtuel': 2827, 'japon': 1399, 'résidant': 2353, 'quartier': 2166, 'branché': 378, 'akihabara': 115, 'trouvé': 2730, 'téléphone': 2748, 'portable': 2032, 'sern': 2427, 'chasse': 474, 'jeunes': 1407, 'étudiants': 2964, 'bac': 295, 'sable': 2371, 'indépendant': 1343, 'pixelisé': 1988, 'infini': 1351, 'généré': 1240, 'aléatoirement': 130, 'minecraft': 1650, 'récolter': 2334, 'matériaux': 1606, 'élever': 2928, 'terrain': 2637, 'selon': 2421, 'solo': 2481, 'multi': 1706, 'serveurs': 2430, 'procurant': 2095, 'protégeant': 2119, 'apparaissent': 176, 'monter': 1684, 'acheter': 67, 'enchantements': 932, 'quake': 2164, 'arena': 204, 'varié': 2788, 'organiser': 1862, 'joyeuse': 1426, 'boucherie': 365, 'capture': 416, 'flag': 1091, 'possession': 2039, 'tant': 2608, 'lancer': 1468, 'attaque': 250, 'stroggos': 2546, 'enrailler': 958, 'strogg': 2545, 'canon': 410, 'orbital': 1853, 'permettre': 1946, 'bombardement': 356, 'terrestre': 2640, 'massif': 1597, 'bienvenue': 342, 'enfer': 940, 'poisseux': 2022, 'terrifiant': 2644, 'origine': 1869, 'luigi': 1537, 'cigogne': 505, 'amène': 140, 'bébés': 395, 'kamek': 1433, 'heurte': 1268, 'destination': 715, 'prédit': 2128, 'poseraient': 2038, 'problème': 2092, 'futur': 1153, 'kidnapper': 1441, 'échoue': 2917, 'île': 2974, 'yoshis': 2900, 'organisent': 1861, 'frère': 1147, 'tetris': 2651, 'puzzle': 2155, 'game': 1162, 'empiler': 923, 'briques': 382, 'constituer': 600, 'lignes': 1507, 'effaceront': 898, 'mesure': 1627, 'progression': 2104, 'augmente': 260, 'avancée': 277, 'zwei': 2909, 'chevauchez': 487, 'bébé': 394, 'grandira': 1210, 'long': 1527, 'parcours': 1898, 'choisirez': 493, 'accédez': 66, 'gigantesques': 1191, 'outcast': 1877, 'existence': 1019, 'mondes': 1677, 'parallèles': 1894, 'ratée': 2194, 'sonde': 2487, 'engendré': 944, 'contrecoup': 613, 'énergétique': 2936, 'engloutir': 946, 'choisi': 490, 'autre': 270, 'sega': 2416, 'rally': 2182, 'rallye': 2183, 'adapté': 76, 'beaucoup': 333, 'titres': 2670, 'soft': 2469, 'nerveuses': 1762, 'bolides': 355, 'déverrouiller': 890, 'demande': 700, 'maîtrise': 1612, 'dérapage': 867, 'terminer': 2635, 'duel': 808, 'portal': 2035, 'shell': 2442, 'héroïne': 1304, 'essayer': 999, 'aperture': 173, 'science': 2401, 'utilisant': 2772, 'gun': 1232, 'sorte': 2498, 'pistolet': 1986, 'portails': 2034, 'glados': 1193, 'weathley': 2878, 'disponible': 757, 'episode': 983, 'cinquième': 506, 'vidéo': 2813, 'comic': 550, 'savannah': 2396, 'partant': 1904, 'rescousse': 2267, 'capturée': 417, 'moustaches': 1698, 'salopette': 2377, 'bondissez': 358, 'champignon': 462, 'mettez': 1635, 'profit': 2098, 'volez': 2851, 'costume': 630, 'raton': 2193, 'laveur': 1478, 'nagez': 1744, 'grenouille': 1219, 'crachez': 645, 'boules': 369, 'fleur': 1093, 'invincible': 1380, 'aveccelui': 281, 'tanuki': 2609, 'coopération': 621, 'payer': 1931, 'énième': 2940, 'forfait': 1119, 'great': 1217, 'escape': 988, 'bras': 379, 'cou': 631, 'jambes': 1398, 'imagination': 1316, 'michel': 1643, 'ancel': 148, 'poings': 2020, 'richesse': 2287, 'regorge': 2227, 'surprises': 2573, 'débutez': 826, 'périple': 2161, 'fragments': 1133, 'triforce': 2717, 'sauvez': 2395, 'ruins': 2320, 'kunark': 1458, 'massivement': 1598, 'everquest': 1009, 'lézards': 1554, 'déclin': 836, 'tombent': 2677, 'ruine': 2318, 'habitées': 1245, 'exotiques': 1020, 'continent': 609, 'envahi': 973, 'elfes': 909, 'cherchent': 482, 'exploiter': 1021, 'xii': 2893, 'douzième': 793, 'différencie': 739, 'combats': 543, 'dynamique': 814, 'riche': 2286, 'premières': 2066, 'engoncée': 947, 'armure': 212, 'aliens': 120, 'plan': 1993, 'transformez': 2703, 'moment': 1674, 'boule': 368, 'morphing': 1690, 'passages': 1920, 'étroits': 2962, 'détruisez': 883, 'leader': 1481, 'mother': 1695, 'brain': 377, 'plastique': 2000, 'généreuse': 1239, 'combattantes': 545, 'technicité': 2615, 'intensité': 1364, 'voici': 2842, 'caractérise': 419, 'or': 1852, 'alive': 121, 'dreamcast': 800, 'baston': 316, 'office': 1830, 'figure': 1078, 'proue': 2121, 'douzaine': 792, 'divinity': 767, 'sin': 2455, 'millénaires': 1649, 'événements': 2971, 'heroïc': 1266, 'inspirant': 1356, 'mécaniques': 1725, 'premiers': 2064, 'dragons': 797, 'comprend': 576, 'splitté': 2524, 'rendant': 2246, 'consoles': 598, 'apportera': 182, 'nouveautés': 1791, 'termes': 2633, 'contenu': 607, 'primé': 2076, 'croisée': 654, 'genres': 1185, 'steampunk': 2535, 'uchronique': 2751, 'assassinats': 237, 'complots': 570, 'from': 1144, 'software': 2470, 'souls': 2508, 'exigeant': 1016, 'environnement': 979, 'accueillant': 60, 'ravira': 2197, 'amateurs': 132, 'challenges': 460, 'corsés': 628, 'combattrez': 549, 'feront': 1067, 'bouchée': 366, 'unravel': 2764, 'embarque': 914, 'nordique': 1783, 'réaliste': 2332, 'yarny': 2897, 'pommes': 2026, 'propriétés': 2115, 'laineuses': 1462, 'évitant': 2967, 'sauvages': 2392, 'nier': 1768, 'automata': 265, 'lointain': 1524, 'envahie': 974, 'extra': 1033, 'terrestres': 2641, 'armées': 215, 'bio': 345, 'réfugiée': 2342, 'natale': 1749, 'androïdes': 155, 'reconquérir': 2211, 'gemcraft': 1181, 'unique': 2759, 'tower': 2694, 'defense': 693, 'lieu': 1503, 'tours': 2688, 'gemmes': 1183, 'hordes': 1284, 'incessantes': 1333, 'redoutables': 2223, 'definitive': 694, 'remasterisé': 2235, 'choisissez': 495, 'background': 296, 'réagit': 2330, 'rassemblez': 2192, 'tactique': 2598, 'coopératif': 620, 'fire': 1088, 'emblem': 916, 'fates': 1057, 'revelation': 2282, 'versions': 2805, 'camps': 407, 'proposant': 2109, 'point': 2021, 'wine': 2885, 'entrez': 971, 'tueur': 2736, 'professionnel': 2097, 'toussaint': 2690, 'lointaine': 1525, 'contrée': 614, 'épargnée': 2942, 'lèverez': 1547, 'terrible': 2642, 'bête': 398, 'terrorisant': 2647, 'duché': 807, 'démêlez': 864, 'écheveau': 2916, 'pistes': 1985, 'sorceleur': 2494, 'pourra': 2049, 'élucider': 2934, 'survivant': 2578, 'tapi': 2610, 'faveur': 1061, 'course': 642, 'forza': 1127, 'horizon': 1285, 'donne': 786, 'accès': 64, 'centaines': 444, 'arpenter': 218, 'paysages': 1932, 'australie': 263, 'épreuves': 2948, 'entier': 962, 'mêmes': 1742, 'conditions': 584, 'play': 2005, 'anywhere': 171, 'signifie': 2449, 'clé': 525, 'activable': 72, 'windows': 2884, 'odyssey': 1822, 'enlevée': 951, 'quitte': 2174, 'chappy': 470, 'chapeau': 468, 'vivant': 2836, 'royaumes': 2316, 'zero': 2904, 'nonary': 1782, 'games': 1167, 'enlevées': 952, 'amenées': 134, 'inconnu': 1339, 'neuf': 1764, 'personnes': 1953, 'retrouvent': 2277, 'forcées': 1116, 'participer': 1907, 'orchestré': 1855, 'confiance': 586, 'dernière': 707, 'entrée': 972, 'monster': 1680, 'hunter': 1299, 'transporte': 2705, 'batailles': 321, 'magnifiques': 1565, 'récupérerez': 2336, 'créez': 667, 'armures': 213, 'territoires': 2646, 'saurez': 2389, 'ultime': 2753, 'octopath': 1820, 'traveller': 2708, 'square': 2529, 'enix': 949, 'offrant': 1833, 'différente': 740, 'ball': 304, 'fighterz': 1077, 'arc': 198, 'system': 2584, 'works': 2889, 'édité': 2926, 'bandai': 308, 'namco': 1748, 'adaptation': 75, 'franchise': 1135, 'iconiques': 1308, 'explosifs': 1028, 'versus': 2806, 'cells': 442, 'rogue': 2300, 'like': 1509, 'résister': 2354, 'two': 2742, 'hospital': 1290, 'lignée': 1508, 'theme': 2655, 'concevez': 581, 'hôpital': 1305, 'intégralement': 1373, 'personnaliser': 1951, 'guérir': 1235, 'patients': 1926, 'gérer': 1242, 'employés': 926, 'grandir': 1209, 'collaborer': 531, 'rivaliser': 2293, 'messenger': 1626, 'plateforme': 2002, 'pixel': 1987, 'ninja': 1769, 'parchemin': 1895, 'vital': 2833, 'clan': 514, 'aventurer': 284, 'peuplé': 1963, 'démoniaques': 863, 'yakuza': 2896, 'kiwami': 1450, 'remastérisée': 2236, 'yukio': 2901, 'terada': 2631, 'tojo': 2674, 'vient': 2817, 'dessine': 711, 'dojima': 776, 'kazuma': 1436, 'kiryu': 1449, 'replonger': 2259, 'auquel': 261, 'tourné': 2687, 'pillars': 1976, 'eternity': 1004, 'deadfire': 691, 'obsidian': 1812, 'entertainment': 961, 'poursuivez': 2053, 'dieu': 736, 'navire': 1759, 'voguer': 2841, 'régions': 2344, 'archipel': 201, 'inexploré': 1344, '5e': 29, 'apprit': 188, 'haruka': 1254, 'eu': 1007, 'gravement': 1215, 'blessé': 351, 'réponses': 2350, 'agression': 101, 'rendre': 2248, 'hiroshima': 1274, 'endroit': 937, 'rendu': 2249, 'problèmes': 2093, 'refont': 2225, 'celeste': 438, 'matt': 1605, 'thorson': 2659, 'créateur': 659, 'towerfall': 2695, 'ascension': 233, 'platformer': 2004, 'atteindre': 252, 'sommet': 2485, 'montagne': 1682, '600': 31, 'chapitres': 469, 'réservant': 2352, 'moss': 1693, 'vr': 2862, 'dégager': 854, 'passage': 1919, 'souris': 2510, 'manettes': 1580, 'détection': 878, 'mouvement': 1700, 'aventureuse': 286, 'déjà': 858, 'vita': 2832, 'crown': 657, 'supportera': 2567, '4k': 25, 'ost': 1872, 'entièrement': 965, 'réenregistrées': 2339, 'orchestre': 1854, 'symphonique': 2583, 'offrira': 1835, 'crossplay': 656, 'killzone': 1444, 'fall': 1048, '30': 20, 'contrôle': 616, 'marshall': 1591, 'paix': 1883, 'fragile': 1132, 'subsiste': 2553, 'vektans': 2796, 'helghasts': 1264, 'drone': 803, 'seconder': 2407, 'offre': 1834, 'opportunités': 1846, 'tactiques': 2599, 'champ': 461, 'bataille': 320, 'order': 1857, 'ecclesia': 894, 'ds': 805, 'membre': 1618, 'ordre': 1858, 'glyphes': 1196, 'magiques': 1561, 'permettront': 1947, 'défier': 851, 'seigneur': 2417, 'soccer': 2467, 'sport': 2525, 'ambiance': 133, 'matches': 1602, 'foot': 1110, '3000': 21, 'licenciés': 1502, 'fifpro': 1075, '57': 28, 'clubs': 524, 'européens': 1008, 'ia': 1306, 'jouez': 1422, 'côté': 677, 'parties': 1915, 'enflammées': 943, 'révélations': 2365, 'lords': 1530, 'alucard': 129, 'fils': 1083, 'gabriel': 1157, 'préparer': 2131, 'père': 2159, 'astérix': 246, 'uderzo': 2752, 'goscinny': 1203, 'panoramix': 1889, 'enlevé': 950, 'romains': 2303, 'obélix': 1816, 'idéfix': 1309, 'partent': 1905, 'secourir': 2409, 'sept': 2424, 'manipuler': 1582, 'star': 2531, 'wars': 2876, 'kyle': 1459, 'katarn': 1434, 'schémas': 2400, 'etoile': 1006, 'noire': 1776, 'déjouer': 857, 'soldats': 2477, 'troopers': 2723, 'jedi': 1402, 'knight': 1451, 'étudiante': 2963, 'photographie': 1972, 'max': 1609, 'caufield': 431, 'is': 1389, 'strange': 2541, 'enquêter': 957, 'adolescente': 80, 'effet': 902, 'elle': 910, 'don': 780, 'schizm': 2399, '2083': 15, 'sondes': 2488, 'spatiales': 2517, 'repèrent': 2265, 'argilus': 206, 'architecture': 202, 'désert': 875, 'moindre': 1671, 'signe': 2448, 'ravitaillement': 2198, 'systèmes': 2586, 'dérèglent': 874, 'écrasez': 2922, 'copilote': 623, 'entourant': 966, 'deadcore': 690, 'androïde': 154, 'grimper': 1221, 'rapidement': 2190, 'bravant': 380, 'déjouant': 856, 'sécurité': 2588, 'banjo': 310, 'kazooie': 1435, 'live': 1515, 'couple': 638, 'composé': 575, 'brun': 386, 'drôle': 804, 'oiseau': 1836, 'accent': 49, 'comparse': 565, 'distribue': 763, 'poing': 2019, 'sort': 2497, 'sac': 2374, 'donner': 787, 'bec': 334, 'casser': 426, 'oeufs': 1825, 'effectuer': 901, 'saut': 2390, 'ailes': 108, 'naissancee': 1745, 'mélangeant': 1731, 'puzzles': 2156, 'subjective': 2549, 'monochrome': 1679, 'débrouiller': 822, 'intrigant': 1369, 'oppressant': 1847, 'neuvième': 1765, 'ix': 1396, 'bénéficie': 396, 'améliorés': 144, 'couper': 637, 'souffle': 2504, 'meilleures': 1617, 'tables': 2596, 'billard': 344, 'actua': 74, 'pool': 2029, 'préparez': 2132, 'seize': 2420, 'élitistes': 2932, 'règles': 2327, 'officielles': 1831, 'participez': 1908, 'rings': 2289, 'ps': 2140, 'invités': 1382, 'force': 1113, 'mystérieux': 1719, 'commanditaire': 553, 'couples': 639, 'luttent': 1543, 'explorant': 1023, 'hostiles': 1291, 'affrontant': 86, 'arène': 231, 'oblige': 1809, 'résolvant': 2356, 'fifa': 1074, '12': 4, 'matchs': 1603, 'former': 1121, 'naturelles': 1755, 'collisions': 534, 'améliorées': 143, 'réagissent': 2329, 'vite': 2834, '24': 16, 'mans': 1584, 'automobiles': 267, 'uniquement': 2760, 'décliné': 837, 'catégories': 430, 'circuits': 510, 'automobile': 266, 'club': 523, 'ouest': 1875, 'climatiques': 521, 'mass': 1596, 'effect': 899, 'futuriste': 1154, 'cerberus': 447, 'moissonneurs': 1673, 'influencent': 1353, 'issue': 1393, 'unreal': 2765, 'renommé': 2254, 'révolutionnaires': 2364, 'inventivité': 1379, 'captivant': 415, 'puissantes': 2152, 'envahisseurs': 976, 'pali': 1886, 'red': 2219, 'redemption': 2220, 'xxème': 2895, 'révolution': 2363, 'mexicaine': 1639, 'john': 1410, 'marston': 1592, 'ex': 1013, 'hors': 1289, 'traquer': 2707, 'camarades': 404, 'obtenir': 1814, 'indépendance': 1342, 'kingdom': 1447, 'hearts': 1261, 'birth': 348, 'by': 392, 'sleep': 2463, 'antérieurs': 169, 'histoires': 1276, 'chacune': 457, 'étant': 2956, 'basée': 319, 'terra': 2636, 'ventus': 2801, 'aqua': 195, 'évolue': 2969, 'utilisées': 2776, 'créées': 669, 'fusion': 1151, 'approfondi': 190, 'deus': 719, 'mélange': 1730, 'donnant': 785, 'liberté': 1497, 'confronté': 591, 'moraux': 1688, 'philosophiques': 1971, 'cyberpunk': 675, 'secoué': 2411, 'crises': 651, 'politiques': 2024, 'sévit': 2593, 'grise': 1222, 'need': 1761, 'speed': 2521, 'porsche': 2031, '2000': 13, 'intégralité': 1374, 'constructeur': 601, '1950': 10, 'nos': 1785, 'énorme': 2941, 'modèles': 1669, 'modèle': 1668, 'recréé': 2216, 'fidélité': 1072, 'atteinte': 253, 'proprement': 2112, 'hallucinant': 1248, 'anti': 166, 'banni': 311, 'honni': 1281, 'grèce': 1226, 'antique': 167, 'obéissez': 1815, 'divins': 768, 'partez': 1906, 'légendaires': 1550, 'inouïe': 1354, 'magnifiquement': 1564, 'orchestrés': 1856, 'starwing': 2533, 'starfox': 2532, 'originale': 1867, 'apporter': 181, 'arwing': 229, 'fox': 1130, 'planétaire': 1998, 'lylat': 1545, 'troupes': 2726, 'empereur': 922, 'andross': 153, 'pourront': 2051, 'contraire': 611, 'secours': 2410, 'ami': 135, 'éliminé': 2931, 'malheureusement': 1575, 'darkest': 683, 'dungeon': 811, 'intérêt': 1376, 'repose': 2260, 'stress': 2543, 'provoqué': 2122, 'mener': 1622, 'lieux': 1504, 'effrayants': 906, 'peurs': 1964, 'tiré': 2666, 'theathrhythm': 2653, 'curtain': 673, 'call': 402, 'défis': 853, 'rythmiques': 2326, 'composantes': 574, '60': 30, 'cinématique': 508, 'booster': 362, 'local': 1518, 'pilotwings': 1980, 'apprend': 183, 'piloter': 1978, 'avion': 290, 'hélicoptère': 1301, 'apprendrez': 185, 'décollage': 838, 'atterrissage': 258, 'parachute': 1893, 'essayant': 997, 'atterrir': 257, 'cible': 502, 'sol': 2475, 'tails': 2601, 'stopper': 2538, 'reconstruire': 2212, 'oeuf': 1824, 'emeralds': 919, 'coriace': 624, 'crée': 665, 'avatar': 279, 'ensuite': 960, 'recruter': 2215, 'pause': 1929, 'active': 73, 'reprenant': 2261, 'bases': 315, 'adaptées': 77, 'navales': 1757, 'trame': 2699, 'historique': 1277, 'flottes': 1099, 'abordage': 40, 'variées': 2789, 'shogo': 2444, 'mobile': 1660, 'armor': 211, 'division': 769, 'environ': 978, 'quarantaine': 2165, 'opérerez': 1851, 'dédales': 846, 'serez': 2426, 'permanence': 1942, 'liaison': 1495, 'radio': 2180, 'supérieurs': 2568, 'diront': 751, 'étape': 2957, 'dérouler': 873, 'gremlins': 1218, 'new': 1766, 'batch': 322, 'nes': 1763, 'gizmo': 1192, 'rejoindre': 2229, 'tableaux': 2595, 'lesquels': 1491, 'frayer': 1138, 'obstacles': 1813, 'biais': 340, 'exemple': 1015, 'tearaway': 2614, 'iota': 1385, 'papier': 1891, 'utilise': 2773, 'pavés': 1930, 'tactiles': 2597, 'arrière': 224, 'déchirant': 828, 'littéralement': 1514, 'professeur': 2096, 'layton': 1479, 'amènera': 141, 'londres': 1526, 'mystérieusement': 1718, 'transporté': 2706, 'luke': 1538, 'devront': 730, 'éviter': 2968, 'temporel': 2620, 'phantasy': 1967, 'mêle': 1738, 'accents': 50, 'choisissant': 494, 'métier': 1734, 'proportions': 2108, 'halo': 1249, 'enferrée': 942, 'presque': 2071, 'perdue': 1940, 'avance': 274, 'extraterrestres': 1036, 'chief': 489, 'salut': 2378, 'delà': 699, 'distingue': 762, 'pratiquer': 2062, 'mechwarrior': 1614, 'géants': 1237, 'mètres': 1724, 'tonnes': 2680, 'mastodontes': 1600, 'acier': 68, 'équipés': 2955, 'sophistiquées': 2493, 'roquettes': 2308, 'mitrailleuses': 1658, 'visée': 2831, 'particulières': 1913, 'cadrage': 400, 'zoom': 2908, 'golden': 1199, 'wake': 2870, 'click': 520, 'rétro': 2359, '20': 12, 'alfie': 117, 'gloire': 1195, 'californie': 401, 'mêlera': 1740, 'mafieuses': 1557, 'impliquant': 1322, 'drogue': 802, 'alcool': 116, 'deluxe': 698, '3ds': 24, 'toadstool': 2673, 'moult': 1696, 'tendus': 2624, 'escaliers': 987, 'tuyaux': 2738, 'falaises': 1046, 'escarpées': 989, 'complex': 567, 'jason': 1401, 'fleming': 1092, 'homme': 1278, 'tombe': 2676, 'hasard': 1255, 'randonnée': 2188, 'puisque': 2148, 'modélisés': 1670, 'bénéficient': 397, 'engine': 945, 'little': 1513, 'emmène': 920, 'twinsun': 2741, 'twinsen': 2740, 'médicaments': 1727, 'soigner': 2471, 'dino': 744, 'fly': 1100, 'croisement': 652, 'dinosaure': 745, 'assistez': 243, 'débarquement': 818, 'esmers': 991, 'disent': 752, 'pacifiques': 1881, 'vérité': 2869, 'préparent': 2130, 'invasion': 1378, 'légende': 1551, 'thor': 2658, 'ali': 118, 'détenteur': 880, 'bracelet': 375, 'invoquer': 1383, 'esprits': 994, 'propriétaire': 2114, 'argent': 205, 'sème': 2587, 'destruction': 717, 'terres': 2639, 'apprenez': 186, 'renvoyer': 2256, 'phantom': 1968, 'pain': 1882, 'séjourner': 2591, 'quelque': 2170, 'afghanistan': 92, 'afrique': 94, 'confiée': 589, 'compter': 578, 'revolver': 2284, 'ocelot': 1818, 'district': 764, 'shishibone': 2443, 'reclus': 2210, 'hinamizawa': 1272, 'frappé': 1136, 'année': 163, 'sanglot': 2384, 'cigales': 504, 'sonore': 2490, 'enquête': 956, 'lecteur': 1483, 'creuser': 647, 'méninges': 1733, 'abandonner': 35, 'laisser': 1463, 'rebeller': 2204, 'énigme': 2938, 'apprécier': 192, 'returns': 2281, 'fortement': 1126, 'efforcent': 905, 'remettre': 2237, 'patte': 1927, 'stock': 2537, 'silver': 2451, 'dominante': 779, 'catastrophe': 428, 'interpellera': 1368, 'femmes': 1064, 'incombe': 1336, 'certain': 448, 'équilibre': 2950, 'riddick': 2288, 'butcher': 391, 'bay': 330, 'developer': 723, 'cut': 674, 'incarné': 1332, 'vin': 2823, 'diesel': 735, 'cinéma': 507, 'films': 1082, 'racontant': 2178, 'fuite': 1149, 'bourru': 371, 'bourrin': 370, 'pénitencier': 2160, 'frayez': 1139, 'gardes': 1174, 'attentifs': 256, 'abusez': 46, 'nocturne': 1774, 'virtua': 2826, 'fighter': 1076, 'spéciale': 2527, '4ème': 27, 'connue': 595, 'technique': 2616, 'apporte': 180, 'ajouts': 114, 'accueillir': 61, 'brad': 376, 'burns': 389, 'adepte': 78, 'kickboxing': 1439, 'goh': 1198, 'hinogami': 1273, 'présent': 2133, 'accessoires': 52, 'age': 96, 'mythology': 1722, 'civilisations': 513, 'antiques': 168, 'unités': 2762, 'appelez': 179, 'usez': 2770, 'réduire': 2337, 'néant': 1802, 'chaz': 479, 'mercenaire': 1625, 'appartenant': 178, 'guilde': 1230, 'aiedo': 106, 'ressurgit': 2270, 'mage': 1558, 'noir': 1775, 'zio': 2905, 'rassembler': 2191, 'bonne': 359, 'parsemée': 1902, 'régler': 2345, 'protoon': 2117, 'maintient': 1568, 'harmonie': 1252, 'jour': 1424, 'horrible': 1287, 'mister': 1657, 'dérobe': 868, 'plongeant': 2011, 'toons': 2681, 'références': 2343, 'génération': 1238, 'goo': 1200, 'invite': 1381, 'balls': 305, 'petites': 1958, 'goudron': 1204, 'assemblent': 240, 'constructions': 602, 'structures': 2547, 'improbables': 1326, 'ponts': 2028, 'échelles': 2915, 'goos': 1201, 'keeper': 1437, 'lassé': 1475, 'aventurier': 287, 'sauvant': 2393, 'veuve': 2810, 'orphelin': 1871, 'donjon': 782, 'piégez': 1990, 'placerez': 1992, 'gunstar': 1233, 'heroes': 1265, 'subtil': 2555, 'charge': 472, 'redoutable': 2222, 'colonel': 536, 'créature': 663, 'immonde': 1320, 'associées': 244, 'usage': 2768, 'balancer': 302, 'darksiders': 684, 'cavaliers': 432, 'apocalypse': 174, 'colossales': 538, 'jet': 1403, 'set': 2434, 'portage': 2033, 'doté': 790, 'cel': 436, 'shading': 2438, 'consiste': 596, 'balader': 301, 'rollers': 2302, 'pieds': 1973, 'tokyo': 2675, 'taguant': 2600, 'dessus': 713, 'gangs': 1169, 'poursuivi': 2054, 'commissaire': 559, 'police': 2023, 'usera': 2769, 'moyens': 1704, 'impressionnants': 1325, 'musique': 1710, 'mixée': 1659, 'déjanté': 855, 'vanquish': 2787, 'remaster': 2233, '2010': 14, 'russie': 2324, 'déclenché': 835, 'majeur': 1571, 'américaines': 145, 'reprendre': 2263, 'colonie': 537, 'spatiale': 2516, 'tombée': 2678, 'contexte': 608, 'gideon': 1189, 'darpa': 685, 'décupler': 845, 'poursuite': 2052, 'kidnappé': 1442, 'exploitez': 1022, 'plume': 2014, 'planer': 1994, 'court': 644, 'instant': 1360, 'faites': 1045, 'vert': 2807, 'apparaît': 177, 'tribu': 2715, 'wario': 2875, 'land': 1471, 'pyramide': 2157, 'peuplant': 1960}\n"
     ]
    }
   ],
   "source": [
    "print (\"Contenu: {}\",  cv.vocabulary_)"
   ]
  },
  {
   "cell_type": "markdown",
   "metadata": {},
   "source": [
    "# Sac de mots"
   ]
  },
  {
   "cell_type": "code",
   "execution_count": 22,
   "metadata": {},
   "outputs": [
    {
     "name": "stdout",
     "output_type": "stream",
     "text": [
      "Sac de mots: {}   (0, 55)\t1\n",
      "  (0, 71)\t1\n",
      "  (0, 122)\t1\n",
      "  (0, 184)\t1\n",
      "  (0, 273)\t1\n",
      "  (0, 332)\t1\n",
      "  (0, 435)\t2\n",
      "  (0, 681)\t3\n",
      "  (0, 688)\t2\n",
      "  (0, 710)\t1\n",
      "  (0, 806)\t1\n",
      "  (0, 938)\t1\n",
      "  (0, 1001)\t2\n",
      "  (0, 1030)\t1\n",
      "  (0, 1118)\t1\n",
      "  (0, 1159)\t1\n",
      "  (0, 1197)\t1\n",
      "  (0, 1303)\t2\n",
      "  (0, 1357)\t1\n",
      "  (0, 1420)\t1\n",
      "  (0, 1480)\t2\n",
      "  (0, 1676)\t1\n",
      "  (0, 1683)\t1\n",
      "  (0, 1741)\t1\n",
      "  (0, 1784)\t1\n",
      "  :\t:\n",
      "  (199, 1405)\t1\n",
      "  (199, 1461)\t2\n",
      "  (199, 1471)\t1\n",
      "  (199, 1480)\t1\n",
      "  (199, 1489)\t1\n",
      "  (199, 1549)\t1\n",
      "  (199, 1771)\t1\n",
      "  (199, 1852)\t1\n",
      "  (199, 1906)\t1\n",
      "  (199, 1960)\t1\n",
      "  (199, 2003)\t1\n",
      "  (199, 2016)\t1\n",
      "  (199, 2042)\t1\n",
      "  (199, 2157)\t1\n",
      "  (199, 2175)\t1\n",
      "  (199, 2186)\t1\n",
      "  (199, 2569)\t1\n",
      "  (199, 2733)\t1\n",
      "  (199, 2755)\t1\n",
      "  (199, 2828)\t1\n",
      "  (199, 2856)\t1\n",
      "  (199, 2857)\t1\n",
      "  (199, 2875)\t2\n",
      "  (199, 2880)\t1\n",
      "  (199, 2907)\t1\n"
     ]
    }
   ],
   "source": [
    "bow = cv.transform(texts)\n",
    "print (\"Sac de mots: {}\", bow)"
   ]
  },
  {
   "cell_type": "code",
   "execution_count": 24,
   "metadata": {},
   "outputs": [],
   "source": [
    "sdm = bow.toarray()"
   ]
  },
  {
   "cell_type": "code",
   "execution_count": 25,
   "metadata": {},
   "outputs": [
    {
     "data": {
      "text/plain": [
       "(200, 2976)"
      ]
     },
     "execution_count": 25,
     "metadata": {},
     "output_type": "execute_result"
    }
   ],
   "source": [
    "sdm.shape"
   ]
  },
  {
   "cell_type": "code",
   "execution_count": 26,
   "metadata": {},
   "outputs": [
    {
     "data": {
      "text/plain": [
       "array([[0, 0, 0, ..., 0, 0, 0],\n",
       "       [0, 1, 0, ..., 0, 0, 0],\n",
       "       [0, 0, 0, ..., 0, 0, 1],\n",
       "       ...,\n",
       "       [0, 0, 0, ..., 0, 0, 0],\n",
       "       [0, 0, 0, ..., 0, 0, 0],\n",
       "       [0, 0, 0, ..., 0, 0, 0]])"
      ]
     },
     "execution_count": 26,
     "metadata": {},
     "output_type": "execute_result"
    }
   ],
   "source": [
    "sdm"
   ]
  },
  {
   "cell_type": "code",
   "execution_count": null,
   "metadata": {},
   "outputs": [],
   "source": []
  }
 ],
 "metadata": {
  "kernelspec": {
   "display_name": "Python 3",
   "language": "python",
   "name": "python3"
  },
  "language_info": {
   "codemirror_mode": {
    "name": "ipython",
    "version": 3
   },
   "file_extension": ".py",
   "mimetype": "text/x-python",
   "name": "python",
   "nbconvert_exporter": "python",
   "pygments_lexer": "ipython3",
   "version": "3.6.5"
  }
 },
 "nbformat": 4,
 "nbformat_minor": 2
}
