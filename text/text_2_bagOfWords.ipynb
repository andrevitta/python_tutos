{
 "cells": [
  {
   "cell_type": "code",
   "execution_count": 1,
   "metadata": {
    "ExecuteTime": {
     "end_time": "2018-08-10T11:42:07.826023Z",
     "start_time": "2018-08-10T11:42:07.733274Z"
    }
   },
   "outputs": [],
   "source": [
    "import pandas as pd\n",
    "T = pd.read_csv(\"../webscraping/meilleursjeuvideo.csv\")"
   ]
  },
  {
   "cell_type": "code",
   "execution_count": 2,
   "metadata": {
    "ExecuteTime": {
     "end_time": "2018-08-10T11:42:08.464643Z",
     "start_time": "2018-08-10T11:42:08.447065Z"
    },
    "scrolled": true
   },
   "outputs": [
    {
     "data": {
      "text/html": [
       "<div>\n",
       "<style scoped>\n",
       "    .dataframe tbody tr th:only-of-type {\n",
       "        vertical-align: middle;\n",
       "    }\n",
       "\n",
       "    .dataframe tbody tr th {\n",
       "        vertical-align: top;\n",
       "    }\n",
       "\n",
       "    .dataframe thead th {\n",
       "        text-align: right;\n",
       "    }\n",
       "</style>\n",
       "<table border=\"1\" class=\"dataframe\">\n",
       "  <thead>\n",
       "    <tr style=\"text-align: right;\">\n",
       "      <th></th>\n",
       "      <th>Jeux</th>\n",
       "      <th>Description</th>\n",
       "      <th>Sortie</th>\n",
       "      <th>Test</th>\n",
       "      <th>Avis</th>\n",
       "    </tr>\n",
       "  </thead>\n",
       "  <tbody>\n",
       "    <tr>\n",
       "      <th>0</th>\n",
       "      <td>God of War sur PS4</td>\n",
       "      <td>Dans ce nouvel épisode de God Of War, le héros...</td>\n",
       "      <td>20 avril 2018</td>\n",
       "      <td>20/20</td>\n",
       "      <td>17.7/20</td>\n",
       "    </tr>\n",
       "    <tr>\n",
       "      <th>1</th>\n",
       "      <td>The Legend of Zelda : Breath of the Wild</td>\n",
       "      <td>The Legend of Zelda : Breath of the Wild est u...</td>\n",
       "      <td>3 mars 2017</td>\n",
       "      <td>20/20</td>\n",
       "      <td>17.5/20</td>\n",
       "    </tr>\n",
       "    <tr>\n",
       "      <th>2</th>\n",
       "      <td>The Legend of Zelda : The Wind Waker sur NGC</td>\n",
       "      <td>Dans The Legend of Zelda : The Wind Waker, vou...</td>\n",
       "      <td>3 mai 2003</td>\n",
       "      <td>20/20</td>\n",
       "      <td>18.9/20</td>\n",
       "    </tr>\n",
       "    <tr>\n",
       "      <th>3</th>\n",
       "      <td>Silent Hill</td>\n",
       "      <td>Silent Hill est un survival horror à télécharg...</td>\n",
       "      <td>1er août 1999</td>\n",
       "      <td>19/20</td>\n",
       "      <td>18.6/20</td>\n",
       "    </tr>\n",
       "    <tr>\n",
       "      <th>4</th>\n",
       "      <td>Panzer Dragoon Saga sur Saturn</td>\n",
       "      <td>Panzer Dragoon Saga est un jeu de rôle en 3D s...</td>\n",
       "      <td>Juin 1998</td>\n",
       "      <td>19/20</td>\n",
       "      <td>18.8/20</td>\n",
       "    </tr>\n",
       "  </tbody>\n",
       "</table>\n",
       "</div>"
      ],
      "text/plain": [
       "                                           Jeux  \\\n",
       "0                            God of War sur PS4   \n",
       "1      The Legend of Zelda : Breath of the Wild   \n",
       "2  The Legend of Zelda : The Wind Waker sur NGC   \n",
       "3                                   Silent Hill   \n",
       "4                Panzer Dragoon Saga sur Saturn   \n",
       "\n",
       "                                         Description         Sortie   Test  \\\n",
       "0  Dans ce nouvel épisode de God Of War, le héros...  20 avril 2018  20/20   \n",
       "1  The Legend of Zelda : Breath of the Wild est u...    3 mars 2017  20/20   \n",
       "2  Dans The Legend of Zelda : The Wind Waker, vou...     3 mai 2003  20/20   \n",
       "3  Silent Hill est un survival horror à télécharg...  1er août 1999  19/20   \n",
       "4  Panzer Dragoon Saga est un jeu de rôle en 3D s...      Juin 1998  19/20   \n",
       "\n",
       "      Avis  \n",
       "0  17.7/20  \n",
       "1  17.5/20  \n",
       "2  18.9/20  \n",
       "3  18.6/20  \n",
       "4  18.8/20  "
      ]
     },
     "execution_count": 2,
     "metadata": {},
     "output_type": "execute_result"
    }
   ],
   "source": [
    "T.head()"
   ]
  },
  {
   "cell_type": "markdown",
   "metadata": {},
   "source": [
    "# Tokenization"
   ]
  },
  {
   "cell_type": "code",
   "execution_count": 4,
   "metadata": {
    "scrolled": true
   },
   "outputs": [
    {
     "data": {
      "text/plain": [
       "CountVectorizer(analyzer='word', binary=False, decode_error='strict',\n",
       "        dtype=<class 'numpy.int64'>, encoding='utf-8', input='content',\n",
       "        lowercase=True, max_df=1.0, max_features=None, min_df=1,\n",
       "        ngram_range=(1, 1), preprocessor=None, stop_words=None,\n",
       "        strip_accents=None, token_pattern='(?u)\\\\b\\\\w\\\\w+\\\\b',\n",
       "        tokenizer=None, vocabulary=None)"
      ]
     },
     "execution_count": 4,
     "metadata": {},
     "output_type": "execute_result"
    }
   ],
   "source": [
    "from sklearn.feature_extraction.text import CountVectorizer\n",
    "cv = CountVectorizer()\n",
    "texts = T[\"Description\"].fillna(\"NA\")\n",
    "cv.fit(texts)"
   ]
  },
  {
   "cell_type": "code",
   "execution_count": 12,
   "metadata": {},
   "outputs": [
    {
     "name": "stdout",
     "output_type": "stream",
     "text": [
      "Taille: {} 577\n",
      "Contenu: {} {'dans': 122, 'ce': 71, 'épisode': 566, 'de': 125, 'god': 229, 'of': 345, 'war': 552, 'le': 276, 'héros': 250, 'un': 526, 'monde': 315, 'aux': 42, 'très': 522, 'et': 191, 'beat': 55, 'all': 17, 'pouvant': 406, 'apprendre': 26, 'des': 129, 'du': 162, 'joueur': 270, 'même': 326, 'gagner': 220, 'expérience': 196, 'the': 506, 'legend': 277, 'zelda': 558, 'wild': 554, 'est': 190, 'jeu': 266, 'action': 5, 'aventure': 46, 'link': 286, 'se': 465, 'ans': 25, 'royaume': 449, 'hyrule': 249, 'il': 254, 'lui': 289, 'faudra': 203, 'les': 279, 'passé': 370, 'vaincre': 533, 'fléau': 210, 'place': 391, 'gigantesque': 227, 'ouvert': 355, 'ainsi': 16, 'une': 527, 'part': 361, 'exploration': 193, 'titre': 509, 'été': 573, 'pour': 403, 'que': 430, 'aller': 18, 'où': 356, 'la': 275, 'série': 499, 'vous': 548, 'incarnez': 258, 'sa': 457, 'quête': 434, 'sauver': 461, 'découvrez': 168, 'sous': 484, 'en': 180, 'style': 488, 'cartoon': 69, 'au': 38, 'grâce': 236, 'explorer': 194, 'toutes': 516, 'vaste': 534, 'océan': 344, 'secrets': 467, 'donjons': 156, 'qu': 428, 'survival': 496, 'horror': 244, 'sur': 492, 'ps3': 424, 'via': 537, 'playstation': 395, 'agit': 12, 'toute': 515, 'première': 411, 'version': 536, 'sorti': 482, 'êtes': 575, 'arriver': 31, 'petite': 383, 'ville': 540, 'bord': 60, 'votre': 547, 'avec': 45, 'fille': 207, 'nuit': 342, 'met': 305, 'fin': 208, 'étrange': 572, 'créatures': 118, 'saga': 458, 'rôle': 456, '3d': 2, 'peau': 373, 'jeune': 267, 'devez': 133, 'aide': 13, 'dragon': 160, 'combattre': 100, 'empire': 178, 'qui': 433, 'tout': 514, 'fait': 200, 'suite': 489, 'découverte': 166, 'life': 284, 'tir': 508, 'personne': 381, 'pc': 371, 'incarner': 257, 'terre': 503, 'jamais': 264, 'par': 357, 'grand': 230, 'mort': 318, 'avez': 48, 'devenir': 132, 'aussi': 39, 'devrez': 136, 'faire': 198, 'pro': 417, 'evolution': 192, 'joueurs': 271, 'sont': 480, 'équipes': 570, 'bien': 56, 'là': 292, '10': 0, 'possible': 401, 'intelligence': 261, 'sans': 460, 'différents': 141, 'jusqu': 273, 'quatre': 429, 'peuvent': 386, 'affronter': 8, 'lequel': 278, 'doit': 153, 'nouveau': 338, 'son': 478, 'ennemi': 182, 'toujours': 511, 'plus': 397, 'nombreuses': 333, 'quêtes': 435, 'permettent': 378, 'retrouvez': 446, 'chasseuse': 83, 'primes': 414, 'samus': 459, 'super': 491, 'metroid': 307, 'console': 111, 'virtuelle': 542, 'nouvelles': 341, 'aventures': 47, 'attendent': 37, 'dernier': 127, 'planète': 392, 'arsenal': 33, 'utilisez': 531, 'venir': 535, 'bout': 62, 'boss': 61, '2d': 1, 'incarne': 256, 'sera': 468, 'alors': 19, 'ils': 255, 'ont': 348, 'être': 576, 'humain': 246, 'ou': 354, 'entité': 184, 'ii': 252, 'edition': 177, 'propose': 420, 'personnage': 379, 'parmi': 360, 'diverses': 150, 'classes': 94, 'caractéristiques': 68, 'organisation': 351, 'affrontez': 9, 'donc': 155, 'vos': 546, 'armes': 30, 'disposition': 148, 'remonter': 442, 'infiltration': 259, 'agent': 11, 'contre': 112, 'univers': 529, 'lumière': 290, 'comme': 103, 'rpg': 450, 'déroulant': 172, 'troisième': 520, 'nom': 332, 'cet': 76, 'opus': 349, 'relate': 441, 'histoire': 242, 'rayman': 437, 'célèbre': 120, 'plates': 394, 'formes': 215, 'on': 347, 'retrouve': 444, 'gameplay': 223, 'retour': 443, 'travers': 517, 'niveaux': 331, 'difficulté': 139, 'mario': 299, 'bros': 64, 'wii': 553, 'possibilité': 400, 'choisir': 86, 'princesse': 415, 'peach': 372, 'habitants': 238, 'ténèbres': 524, 'celui': 74, 'trouver': 521, 'nombreux': 334, 'objets': 343, 'secret': 466, 'compte': 108, 'forces': 213, 'tenter': 502, 'cité': 92, 'maîtriser': 303, 'art': 34, 'magie': 294, 'combattant': 99, 'dangers': 121, 'xbox': 556, 'connaissance': 110, 'équipe': 569, 'face': 197, 'combat': 97, 'avancer': 43, 'seul': 471, 'scénario': 464, 'premier': 410, 'volet': 545, 'temps': 501, 'maléfique': 298, 'diabolique': 137, 'encore': 181, 'fois': 211, 'derrière': 128, 'devra': 135, 'mettre': 309, 'pas': 367, 'siècle': 475, 'grands': 232, 'missions': 312, 'ces': 75, 'déroulent': 174, 'ps4': 425, 'devoir': 134, 'survivre': 497, 'mystérieuse': 324, 'unis': 528, 'villes': 541, 'quelques': 431, 'entre': 185, 'récupérer': 451, 'peu': 384, 'nourriture': 336, 'cette': 77, 'base': 52, 'dlc': 152, 'nous': 337, 'grande': 231, 'humour': 248, 'notamment': 335, 'ses': 470, 'avant': 44, 'mystère': 323, 'prenant': 412, 'iii': 253, 'permet': 376, 'dieux': 138, 'petit': 382, 'garçon': 224, 'phases': 387, 'plate': 393, 'forme': 214, 'énigmes': 565, 'menace': 304, 'loup': 288, 'mille': 310, 'village': 539, 'fps': 216, 'perdu': 375, 'lutter': 291, 'afin': 10, 'pouvoirs': 409, 'leur': 280, 'humanité': 247, 'type': 523, 'complet': 105, 'plusieurs': 398, 'modes': 314, 'multijoueur': 322, 'présents': 422, 'permettant': 377, 'autres': 41, 'ennemis': 183, 'soulcalibur': 483, 'gamecube': 222, 'adversaires': 6, 'détruire': 175, 'épée': 568, 'personnages': 380, 'disponibles': 145, 'bonus': 59, 'chaque': 81, 'ps2': 423, 'divers': 149, 'tels': 500, 'arcade': 28, 'maître': 302, 'na': 327, 'sonic': 479, 'utiliser': 530, 'anneaux': 23, 'animaux': 22, 'jeux': 268, 'retrouver': 445, 'ne': 328, 'pouvoir': 408, 'réel': 452, 'mettant': 308, 'scène': 463, 'plombier': 396, 'éliminer': 563, 'débloquer': 165, 'bowser': 63, 'délivrer': 171, 'sorcière': 481, 'chasseur': 82, 'mêlant': 325, 'recherche': 439, 'légendaire': 293, 'accompagné': 4, 'guerre': 237, 'chercher': 85, 'traverser': 518, 'vitesse': 544, 'maximum': 301, 'mais': 296, 'environnements': 187, 'découvrir': 169, 'surtout': 494, 'deux': 130, 'but': 65, 'puissant': 427, 'trois': 519, 'espace': 189, 'pourrez': 405, 'chronicles': 89, 'fantastique': 201, 'battre': 54, 'robots': 447, '80': 3, 'nouveaux': 339, 'groupe': 235, 'amis': 21, 'arènes': 35, 'tous': 513, 'arme': 29, 'mode': 313, 'stratégie': 487, 'dirigez': 142, 'pirates': 389, 'affrontements': 7, 'ci': 91, 'cela': 72, 'mouvements': 320, 'puis': 426, 'possédant': 402, 'prendre': 413, 'aider': 14, 'route': 448, 'day': 124, 'faisant': 199, 'ailleurs': 15, 'dr': 159, 'programme': 418, 'graphismes': 234, 'hd': 240, 'graphique': 233, 'original': 352, 'également': 562, 'castlevania': 70, 'pièges': 390, 'commander': 101, 'conflit': 109, 'hommes': 243, 'chacun': 78, 'propres': 421, 'time': 507, 'après': 27, 'jours': 272, 'world': 555, 'simulation': 473, 'courses': 117, 'classiques': 96, 'race': 436, 'metal': 306, 'gear': 225, 'snake': 476, 'épisodes': 567, 'pendant': 374, 'parcourir': 359, 'différentes': 140, 'zones': 560, 'complexe': 106, 'mission': 311, 'libérer': 283, 'pouvez': 407, 'chemin': 84, 'commandes': 102, 'explorez': 195, 'classique': 95, 'peut': 385, 'interagir': 262, 'éléments': 564, 'partir': 366, 'moteur': 319, 'ligne': 285, 'doivent': 154, 'partie': 365, 'disposez': 147, 'choix': 88, 'réflexion': 453, 'femme': 205, 'faut': 204, 'arrêter': 32, 'chaos': 80, 'huit': 245, 'dont': 158, 'passe': 369, 'okami': 346, 'dispose': 146, 'aspect': 36, 'particulier': 363, 'déesse': 170, 'amaterasu': 20, 'réincarnée': 455, 'magnifique': 295, 'blanc': 58, 'redonner': 440, 'vie': 538, 'couleur': 115, 'terrorisé': 505, 'font': 212, 'régner': 454, 'battez': 53, 'moyen': 321, 'pinceau': 388, 'véritable': 551, 'prolongement': 419, 'château': 90, 'étoiles': 571, 'nouvelle': 340, 'quest': 432, 'final': 209, 'fantasy': 202, 'développé': 176, 'va': 532, 'échapper': 561, 'shadow': 472, 'parcourez': 358, 'inspiré': 260, 'bande': 51, 'dead': 126, 'déroule': 173, 'zombies': 559, 'devant': 131, 'cours': 116, 'particulièrement': 364, 'voyager': 549, 'nintendo': 329, 'total': 510, 'japonais': 265, 'leurs': 281, 'corps': 114, 'capable': 66, 'donkey': 157, 'kong': 274, 'pris': 416, 'empêcher': 179, 'débarrasser': 164, 'survie': 495, 'ayant': 50, 'années': 24, 'seront': 469, 'monstres': 316, 'surface': 493, 'souterrains': 485, 'genre': 226, 'niveau': 330, 'capacités': 67, 'tête': 525, 'dark': 123, 'maudit': 300, 'compagnons': 104, 'yoshi': 557, 'découvre': 167, 'suivant': 490, 'fiction': 206, 'tour': 512, 'franchir': 217, 'avoir': 49, 'rebondissements': 438, 'big': 57, 'vue': 550, 'iv': 263, 'jouable': 269, 'dishonored': 143, 'libre': 282, 'système': 498, 'mal': 297, 'celle': 73, 'haut': 239, 'solo': 477, 'monter': 317, 'origine': 353, 'futur': 218, 'game': 221, 'gigantesques': 228, 'autre': 40, 'héroïne': 251, 'science': 462, 'disponible': 144, 'escape': 188, 'combats': 98, 'dynamique': 163, 'or': 350, 'divinity': 151, 'sin': 474, 'événements': 574, 'heroïc': 241, 'comprend': 107, 'environnement': 186, 'choisissez': 87, 'point': 399, 'terrible': 504, 'pourra': 404, 'participer': 362, 'créez': 119, 'clan': 93, 'passage': 368, 'vita': 543, 'contrôle': 113, 'ds': 161, 'star': 486, 'live': 287, 'futuriste': 219, 'chacune': 79}\n"
     ]
    }
   ],
   "source": [
    "print (\"Taille: {}\",  len (cv.vocabulary_))\n",
    "print (\"Contenu: {}\",  cv.vocabulary_)"
   ]
  },
  {
   "cell_type": "markdown",
   "metadata": {},
   "source": [
    "# Sac de mots"
   ]
  },
  {
   "cell_type": "code",
   "execution_count": 7,
   "metadata": {},
   "outputs": [
    {
     "name": "stdout",
     "output_type": "stream",
     "text": [
      "Sac de mots: {}   (0, 55)\t1\n",
      "  (0, 71)\t1\n",
      "  (0, 122)\t1\n",
      "  (0, 184)\t1\n",
      "  (0, 273)\t1\n",
      "  (0, 332)\t1\n",
      "  (0, 435)\t2\n",
      "  (0, 681)\t3\n",
      "  (0, 688)\t2\n",
      "  (0, 710)\t1\n",
      "  (0, 806)\t1\n",
      "  (0, 938)\t1\n",
      "  (0, 1001)\t2\n",
      "  (0, 1030)\t1\n",
      "  (0, 1118)\t1\n",
      "  (0, 1159)\t1\n",
      "  (0, 1197)\t1\n",
      "  (0, 1303)\t2\n",
      "  (0, 1357)\t1\n",
      "  (0, 1420)\t1\n",
      "  (0, 1480)\t2\n",
      "  (0, 1676)\t1\n",
      "  (0, 1683)\t1\n",
      "  (0, 1741)\t1\n",
      "  (0, 1784)\t1\n",
      "  :\t:\n",
      "  (199, 1405)\t1\n",
      "  (199, 1461)\t2\n",
      "  (199, 1471)\t1\n",
      "  (199, 1480)\t1\n",
      "  (199, 1489)\t1\n",
      "  (199, 1549)\t1\n",
      "  (199, 1771)\t1\n",
      "  (199, 1852)\t1\n",
      "  (199, 1906)\t1\n",
      "  (199, 1960)\t1\n",
      "  (199, 2003)\t1\n",
      "  (199, 2016)\t1\n",
      "  (199, 2042)\t1\n",
      "  (199, 2157)\t1\n",
      "  (199, 2175)\t1\n",
      "  (199, 2186)\t1\n",
      "  (199, 2569)\t1\n",
      "  (199, 2733)\t1\n",
      "  (199, 2755)\t1\n",
      "  (199, 2828)\t1\n",
      "  (199, 2856)\t1\n",
      "  (199, 2857)\t1\n",
      "  (199, 2875)\t2\n",
      "  (199, 2880)\t1\n",
      "  (199, 2907)\t1\n"
     ]
    }
   ],
   "source": [
    "bow = cv.transform(texts)\n",
    "print (\"Sac de mots: {}\", bow)"
   ]
  },
  {
   "cell_type": "code",
   "execution_count": 8,
   "metadata": {},
   "outputs": [],
   "source": [
    "sdm = bow.toarray()"
   ]
  },
  {
   "cell_type": "code",
   "execution_count": 9,
   "metadata": {},
   "outputs": [
    {
     "data": {
      "text/plain": [
       "(200, 2976)"
      ]
     },
     "execution_count": 9,
     "metadata": {},
     "output_type": "execute_result"
    }
   ],
   "source": [
    "sdm.shape"
   ]
  },
  {
   "cell_type": "code",
   "execution_count": 10,
   "metadata": {},
   "outputs": [
    {
     "data": {
      "text/plain": [
       "array([[0, 0, 0, ..., 0, 0, 0],\n",
       "       [0, 1, 0, ..., 0, 0, 0],\n",
       "       [0, 0, 0, ..., 0, 0, 1],\n",
       "       ...,\n",
       "       [0, 0, 0, ..., 0, 0, 0],\n",
       "       [0, 0, 0, ..., 0, 0, 0],\n",
       "       [0, 0, 0, ..., 0, 0, 0]])"
      ]
     },
     "execution_count": 10,
     "metadata": {},
     "output_type": "execute_result"
    }
   ],
   "source": [
    "sdm"
   ]
  },
  {
   "cell_type": "markdown",
   "metadata": {},
   "source": [
    "Changeons le nombre d'apparition par mot (par défaut =2) à 4 occurences"
   ]
  },
  {
   "cell_type": "code",
   "execution_count": 37,
   "metadata": {},
   "outputs": [
    {
     "name": "stdout",
     "output_type": "stream",
     "text": [
      "Taille: {} 379\n",
      "Contenu: {} {'dans': 78, 'ce': 48, 'épisode': 372, 'de': 80, 'of': 218, 'war': 364, 'le': 170, 'héros': 153, 'un': 345, 'monde': 198, 'aux': 29, 'très': 341, 'et': 122, 'apprendre': 18, 'des': 84, 'du': 105, 'joueur': 166, 'même': 203, 'the': 326, 'legend': 171, 'zelda': 368, 'est': 121, 'jeu': 163, 'action': 3, 'aventure': 33, 'link': 178, 'se': 297, 'royaume': 286, 'hyrule': 152, 'il': 156, 'lui': 180, 'faudra': 131, 'les': 173, 'vaincre': 351, 'place': 247, 'gigantesque': 140, 'ouvert': 224, 'ainsi': 12, 'une': 346, 'part': 229, 'exploration': 123, 'titre': 329, 'été': 375, 'pour': 257, 'que': 276, 'aller': 13, 'où': 225, 'la': 169, 'série': 321, 'vous': 362, 'incarnez': 160, 'sa': 291, 'quête': 279, 'sauver': 294, 'sous': 310, 'en': 114, 'style': 313, 'au': 25, 'grâce': 145, 'explorer': 124, 'toutes': 335, 'vaste': 352, 'océan': 217, 'secrets': 299, 'donjons': 101, 'qu': 274, 'survival': 318, 'sur': 316, 'ps3': 272, 'playstation': 250, 'agit': 8, 'toute': 334, 'première': 263, 'version': 354, 'sorti': 309, 'êtes': 377, 'ville': 356, 'votre': 361, 'avec': 32, 'met': 190, 'étrange': 374, 'créatures': 75, 'rôle': 290, '3d': 1, 'peau': 236, 'jeune': 164, 'devez': 87, 'aide': 9, 'dragon': 104, 'combattre': 64, 'empire': 112, 'qui': 278, 'tout': 333, 'fait': 129, 'suite': 314, 'tir': 328, 'personne': 241, 'pc': 234, 'incarner': 159, 'terre': 325, 'par': 226, 'grand': 141, 'avez': 35, 'aussi': 26, 'devrez': 90, 'faire': 127, 'pro': 266, 'joueurs': 167, 'sont': 308, 'bien': 40, 'possible': 255, 'sans': 293, 'différents': 93, 'jusqu': 168, 'quatre': 275, 'peuvent': 245, 'affronter': 5, 'lequel': 172, 'doit': 99, 'nouveau': 213, 'son': 306, 'ennemi': 116, 'toujours': 330, 'plus': 252, 'nombreuses': 210, 'retrouvez': 284, 'samus': 292, 'super': 315, 'console': 70, 'virtuelle': 357, 'aventures': 34, 'dernier': 82, 'planète': 248, 'arsenal': 23, 'utilisez': 349, 'venir': 353, 'boss': 42, '2d': 0, 'incarne': 158, 'sera': 300, 'alors': 14, 'ils': 157, 'ont': 220, 'être': 378, 'ou': 223, 'ii': 154, 'propose': 268, 'personnage': 239, 'parmi': 228, 'affrontez': 6, 'donc': 100, 'vos': 360, 'armes': 22, 'disposition': 96, 'infiltration': 161, 'contre': 71, 'univers': 347, 'comme': 66, 'rpg': 287, 'déroulant': 109, 'troisième': 339, 'nom': 209, 'cet': 51, 'opus': 221, 'histoire': 148, 'célèbre': 76, 'plates': 249, 'formes': 137, 'on': 219, 'retrouve': 282, 'retour': 281, 'travers': 336, 'niveaux': 208, 'mario': 187, 'bros': 44, 'wii': 365, 'possibilité': 254, 'choisir': 58, 'princesse': 265, 'peach': 235, 'habitants': 147, 'ténèbres': 343, 'trouver': 340, 'nombreux': 211, 'objets': 216, 'secret': 298, 'compte': 68, 'tenter': 324, 'magie': 183, 'dangers': 77, 'xbox': 367, 'équipe': 373, 'face': 126, 'combat': 62, 'avancer': 30, 'seul': 302, 'scénario': 296, 'premier': 262, 'volet': 359, 'temps': 323, 'maléfique': 186, 'encore': 115, 'fois': 134, 'derrière': 83, 'devra': 89, 'mettre': 193, 'pas': 232, 'missions': 195, 'ces': 50, 'devoir': 88, 'survivre': 319, 'quelques': 277, 'entre': 118, 'récupérer': 288, 'peu': 243, 'cette': 52, 'dlc': 98, 'nous': 212, 'grande': 142, 'ses': 301, 'avant': 31, 'prenant': 264, 'iii': 155, 'permet': 237, 'dieux': 91, 'petit': 242, 'phases': 246, 'forme': 136, 'menace': 189, 'loup': 179, 'fps': 138, 'lutter': 181, 'afin': 7, 'pouvoirs': 261, 'leur': 174, 'humanité': 151, 'type': 342, 'plusieurs': 253, 'modes': 197, 'multijoueur': 201, 'présents': 270, 'permettant': 238, 'autres': 28, 'ennemis': 117, 'adversaires': 4, 'personnages': 240, 'disponibles': 95, 'bonus': 41, 'chaque': 55, 'ps2': 271, 'divers': 97, 'tels': 322, 'arcade': 20, 'na': 204, 'sonic': 307, 'utiliser': 348, 'anneaux': 17, 'animaux': 16, 'jeux': 165, 'retrouver': 283, 'ne': 205, 'mettant': 192, 'scène': 295, 'plombier': 251, 'débloquer': 106, 'bowser': 43, 'délivrer': 108, 'mêlant': 202, 'recherche': 280, 'légendaire': 182, 'accompagné': 2, 'guerre': 146, 'chercher': 57, 'traverser': 337, 'vitesse': 358, 'maximum': 188, 'mais': 185, 'environnements': 119, 'découvrir': 107, 'deux': 85, 'but': 45, 'trois': 338, 'espace': 120, 'pourrez': 259, 'battre': 39, 'robots': 285, 'nouveaux': 214, 'amis': 15, 'arènes': 24, 'tous': 332, 'arme': 21, 'mode': 196, 'stratégie': 312, 'dirigez': 94, 'ci': 60, 'cela': 49, 'puis': 273, 'possédant': 256, 'aider': 10, 'faisant': 128, 'ailleurs': 11, 'dr': 103, 'programme': 267, 'graphismes': 144, 'graphique': 143, 'original': 222, 'également': 371, 'conflit': 69, 'hommes': 149, 'chacun': 53, 'propres': 269, 'time': 327, 'après': 19, 'world': 366, 'simulation': 304, 'courses': 74, 'metal': 191, 'gear': 139, 'différentes': 92, 'zones': 369, 'complexe': 67, 'mission': 194, 'pouvez': 260, 'chemin': 56, 'commandes': 65, 'explorez': 125, 'peut': 244, 'partir': 231, 'ligne': 177, 'choix': 59, 'réflexion': 289, 'faut': 132, 'chaos': 54, 'huit': 150, 'dont': 102, 'passe': 233, 'magnifique': 184, 'vie': 355, 'font': 135, 'battez': 38, 'moyen': 200, 'nouvelle': 215, 'final': 133, 'fantasy': 130, 'développé': 111, 'va': 350, 'échapper': 370, 'shadow': 303, 'parcourez': 227, 'inspiré': 162, 'dead': 81, 'déroule': 110, 'devant': 86, 'cours': 73, 'particulièrement': 230, 'nintendo': 206, 'leurs': 175, 'capable': 46, 'empêcher': 113, 'ayant': 37, 'monstres': 199, 'surface': 317, 'niveau': 207, 'capacités': 47, 'tête': 344, 'dark': 79, 'tour': 331, 'avoir': 36, 'vue': 363, 'libre': 176, 'système': 320, 'solo': 305, 'autre': 27, 'combats': 63, 'événements': 376, 'pourra': 258, 'clan': 61, 'contrôle': 72, 'star': 311}\n"
     ]
    }
   ],
   "source": [
    "cv = CountVectorizer(min_df=4).fit(texts)\n",
    "print (\"Taille: {}\",  len (cv.vocabulary_))\n",
    "print (\"Contenu: {}\",  cv.vocabulary_)"
   ]
  },
  {
   "cell_type": "markdown",
   "metadata": {},
   "source": [
    "# Utilisation des stop words"
   ]
  },
  {
   "cell_type": "code",
   "execution_count": 19,
   "metadata": {},
   "outputs": [],
   "source": [
    "from sklearn.feature_extraction.text import ENGLISH_STOP_WORDS"
   ]
  },
  {
   "cell_type": "markdown",
   "metadata": {},
   "source": [
    "Récupération d'une liste sur https://www.ranks.nl/stopwords/french, sauvegarde dans un fichier csv"
   ]
  },
  {
   "cell_type": "code",
   "execution_count": 36,
   "metadata": {},
   "outputs": [],
   "source": [
    "stopwordFR = pd.read_csv(\"stopwords_FR.csv\")"
   ]
  },
  {
   "cell_type": "code",
   "execution_count": 35,
   "metadata": {},
   "outputs": [
    {
     "name": "stdout",
     "output_type": "stream",
     "text": [
      "Taille: {} 321\n",
      "Contenu: {} {'épisode': 316, 'de': 66, 'of': 184, 'war': 308, 'héros': 128, 'un': 291, 'monde': 166, 'aux': 25, 'apprendre': 17, 'joueur': 139, 'the': 275, 'legend': 142, 'zelda': 312, 'jeu': 136, 'action': 3, 'aventure': 27, 'link': 147, 'se': 252, 'royaume': 243, 'hyrule': 127, 'lui': 149, 'faudra': 108, 'vaincre': 297, 'place': 207, 'gigantesque': 115, 'ouvert': 189, 'ainsi': 12, 'une': 292, 'part': 192, 'exploration': 101, 'titre': 278, 'aller': 13, 'série': 271, 'incarnez': 133, 'quête': 236, 'sauver': 249, 'style': 264, 'grâce': 120, 'explorer': 102, 'toutes': 282, 'vaste': 298, 'océan': 183, 'secrets': 254, 'donjons': 84, 'qu': 233, 'survival': 268, 'ps3': 231, 'playstation': 210, 'agit': 8, 'toute': 281, 'première': 222, 'version': 300, 'sorti': 261, 'êtes': 320, 'ville': 302, 'met': 158, 'étrange': 318, 'créatures': 62, 'rôle': 247, '3d': 1, 'peau': 198, 'jeune': 137, 'devez': 72, 'aide': 9, 'dragon': 87, 'combattre': 52, 'empire': 94, 'suite': 265, 'tir': 277, 'personne': 203, 'pc': 196, 'incarner': 132, 'terre': 274, 'grand': 116, 'avez': 29, 'devrez': 75, 'faire': 105, 'pro': 225, 'joueurs': 140, 'bien': 33, 'possible': 215, 'différents': 78, 'jusqu': 141, 'quatre': 234, 'peuvent': 205, 'affronter': 5, 'lequel': 143, 'nouveau': 179, 'ennemi': 96, 'toujours': 279, 'plus': 212, 'nombreuses': 177, 'retrouvez': 241, 'samus': 248, 'super': 266, 'console': 57, 'virtuelle': 303, 'aventures': 28, 'dernier': 68, 'planète': 208, 'arsenal': 22, 'utilisez': 295, 'venir': 299, 'boss': 35, '2d': 0, 'incarne': 131, 'sera': 255, 'ont': 186, 'ii': 129, 'propose': 227, 'personnage': 201, 'parmi': 191, 'affrontez': 6, 'vos': 306, 'armes': 21, 'disposition': 81, 'infiltration': 134, 'contre': 58, 'univers': 293, 'rpg': 244, 'déroulant': 91, 'troisième': 286, 'nom': 176, 'cet': 41, 'opus': 187, 'histoire': 123, 'célèbre': 63, 'plates': 209, 'formes': 112, 'on': 185, 'retrouve': 239, 'retour': 238, 'travers': 283, 'niveaux': 175, 'mario': 155, 'bros': 37, 'wii': 309, 'possibilité': 214, 'choisir': 47, 'princesse': 224, 'peach': 197, 'habitants': 122, 'ténèbres': 289, 'trouver': 287, 'nombreux': 178, 'objets': 182, 'secret': 253, 'compte': 55, 'tenter': 273, 'magie': 152, 'dangers': 64, 'xbox': 311, 'équipe': 317, 'face': 104, 'combat': 50, 'avancer': 26, 'seul': 256, 'scénario': 251, 'premier': 221, 'volet': 305, 'temps': 272, 'maléfique': 154, 'derrière': 69, 'devra': 74, 'mettre': 161, 'missions': 163, 'devoir': 73, 'survivre': 269, 'quelques': 235, 'entre': 98, 'récupérer': 245, 'cette': 42, 'dlc': 83, 'grande': 117, 'prenant': 223, 'iii': 130, 'permet': 199, 'dieux': 76, 'petit': 204, 'phases': 206, 'forme': 111, 'menace': 157, 'loup': 148, 'fps': 113, 'lutter': 150, 'afin': 7, 'pouvoirs': 220, 'humanité': 126, 'type': 288, 'plusieurs': 213, 'modes': 165, 'multijoueur': 169, 'présents': 229, 'permettant': 200, 'autres': 24, 'ennemis': 97, 'adversaires': 4, 'personnages': 202, 'disponibles': 80, 'bonus': 34, 'ps2': 230, 'divers': 82, 'arcade': 19, 'na': 171, 'sonic': 260, 'utiliser': 294, 'anneaux': 16, 'animaux': 15, 'jeux': 138, 'retrouver': 240, 'ne': 172, 'mettant': 160, 'scène': 250, 'plombier': 211, 'débloquer': 88, 'bowser': 36, 'délivrer': 90, 'mêlant': 170, 'recherche': 237, 'légendaire': 151, 'accompagné': 2, 'guerre': 121, 'chercher': 46, 'traverser': 284, 'vitesse': 304, 'maximum': 156, 'environnements': 99, 'découvrir': 89, 'deux': 70, 'but': 38, 'trois': 285, 'espace': 100, 'pourrez': 218, 'battre': 32, 'robots': 242, 'nouveaux': 180, 'amis': 14, 'arènes': 23, 'arme': 20, 'mode': 164, 'stratégie': 263, 'dirigez': 79, 'puis': 232, 'possédant': 216, 'aider': 10, 'faisant': 106, 'ailleurs': 11, 'dr': 86, 'programme': 226, 'graphismes': 119, 'graphique': 118, 'original': 188, 'également': 315, 'conflit': 56, 'hommes': 124, 'chacun': 43, 'propres': 228, 'time': 276, 'après': 18, 'world': 310, 'simulation': 258, 'courses': 61, 'metal': 159, 'gear': 114, 'différentes': 77, 'zones': 313, 'complexe': 54, 'mission': 162, 'pouvez': 219, 'chemin': 45, 'commandes': 53, 'explorez': 103, 'partir': 194, 'ligne': 146, 'choix': 48, 'réflexion': 246, 'faut': 109, 'chaos': 44, 'huit': 125, 'dont': 85, 'passe': 195, 'magnifique': 153, 'vie': 301, 'battez': 31, 'moyen': 168, 'nouvelle': 181, 'final': 110, 'fantasy': 107, 'développé': 93, 'va': 296, 'échapper': 314, 'shadow': 257, 'parcourez': 190, 'inspiré': 135, 'dead': 67, 'déroule': 92, 'devant': 71, 'cours': 60, 'particulièrement': 193, 'nintendo': 173, 'leurs': 144, 'capable': 39, 'empêcher': 95, 'ayant': 30, 'monstres': 167, 'surface': 267, 'niveau': 174, 'capacités': 40, 'tête': 290, 'dark': 65, 'tour': 280, 'vue': 307, 'libre': 145, 'système': 270, 'solo': 259, 'combats': 51, 'événements': 319, 'pourra': 217, 'clan': 49, 'contrôle': 59, 'star': 262}\n"
     ]
    }
   ],
   "source": [
    "cv = CountVectorizer(min_df=4, stop_words=stopwordFR['MOT'].tolist()).fit(texts)\n",
    "print (\"Taille: {}\",  len (cv.vocabulary_))\n",
    "print (\"Contenu: {}\",  cv.vocabulary_)"
   ]
  },
  {
   "cell_type": "code",
   "execution_count": null,
   "metadata": {},
   "outputs": [],
   "source": []
  }
 ],
 "metadata": {
  "kernelspec": {
   "display_name": "Python 3",
   "language": "python",
   "name": "python3"
  },
  "language_info": {
   "codemirror_mode": {
    "name": "ipython",
    "version": 3
   },
   "file_extension": ".py",
   "mimetype": "text/x-python",
   "name": "python",
   "nbconvert_exporter": "python",
   "pygments_lexer": "ipython3",
   "version": "3.6.5"
  }
 },
 "nbformat": 4,
 "nbformat_minor": 2
}
