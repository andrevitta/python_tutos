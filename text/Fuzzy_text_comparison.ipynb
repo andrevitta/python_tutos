{
 "cells": [
  {
   "cell_type": "code",
   "execution_count": 12,
   "metadata": {},
   "outputs": [],
   "source": [
    "import Levenshtein as lev\n",
    "from fuzzywuzzy import fuzz\n",
    "import re\n",
    "# pip install jaro-winkler\n",
    "import jaro"
   ]
  },
  {
   "cell_type": "markdown",
   "metadata": {},
   "source": [
    "# Comparaison \"classique\""
   ]
  },
  {
   "cell_type": "code",
   "execution_count": 4,
   "metadata": {},
   "outputs": [
    {
     "data": {
      "text/plain": [
       "True"
      ]
     },
     "execution_count": 4,
     "metadata": {},
     "output_type": "execute_result"
    }
   ],
   "source": [
    "noise_list = [\".\", \",\", \"?\", \"!\", \";\"]\n",
    "def prepString(_str, _noise = True, _multiplespaces = True):\n",
    "    # remove noise (punctuation) if asked (by default yes)\n",
    "    if _noise:\n",
    "        for car in noise_list:\n",
    "            _str = _str.replace(car, \"\")\n",
    "    # replace multiple spaces by ine in string if requested (default yes)\n",
    "    if _multiplespaces:\n",
    "        _str = re.sub(\"\\s+\", \" \", _str).strip()\n",
    "    return _str.strip().lower()\n",
    "\n",
    "def compareString(Str1, Str2):\n",
    "    return prepString(Str1) == prepString(Str2)\n",
    "\n",
    "compareString(\"Ben  oit.,\", \"BEN oit\")"
   ]
  },
  {
   "cell_type": "markdown",
   "metadata": {},
   "source": [
    "# Comparaison Hamming"
   ]
  },
  {
   "cell_type": "markdown",
   "metadata": {},
   "source": [
    "http://claresloggett.github.io/python_workshops/improved_hammingdist.html"
   ]
  },
  {
   "cell_type": "code",
   "execution_count": 10,
   "metadata": {},
   "outputs": [
    {
     "data": {
      "text/plain": [
       "2"
      ]
     },
     "execution_count": 10,
     "metadata": {},
     "output_type": "execute_result"
    }
   ],
   "source": [
    "def hamming_distance(string1, string2): \n",
    "    if (len(string1) != len (string2)):\n",
    "        return -1\n",
    "    # Start with a distance of zero, and count up\n",
    "    distance = 0\n",
    "    # Loop over the indices of the string\n",
    "    L = len(string1)\n",
    "    for i in range(L):\n",
    "        # Add 1 to the distance if these two characters are not equal\n",
    "        if string1[i] != string2[i]:\n",
    "            distance += 1\n",
    "    # Return the final count of differences\n",
    "    return distance\n",
    "\n",
    "hamming_distance(\"BINUIT\", \"BENOIT\")"
   ]
  },
  {
   "cell_type": "markdown",
   "metadata": {},
   "source": [
    "On a bien deux différences sur des chaines de même taille."
   ]
  },
  {
   "cell_type": "markdown",
   "metadata": {},
   "source": [
    "# Comparaison Jaro-Winkler"
   ]
  },
  {
   "cell_type": "markdown",
   "metadata": {},
   "source": [
    "excellente explication sur https://fr.wikipedia.org/wiki/Distance_de_Jaro-Winkler"
   ]
  },
  {
   "cell_type": "code",
   "execution_count": 15,
   "metadata": {},
   "outputs": [
    {
     "data": {
      "text/plain": [
       "0.7777777777777777"
      ]
     },
     "execution_count": 15,
     "metadata": {},
     "output_type": "execute_result"
    }
   ],
   "source": [
    "# Calcul classique jaro\n",
    "jaro.jaro_metric(\"BINUIT\", \"BENOIT\")"
   ]
  },
  {
   "cell_type": "code",
   "execution_count": 16,
   "metadata": {},
   "outputs": [
    {
     "data": {
      "text/plain": [
       "0.7999999999999999"
      ]
     },
     "execution_count": 16,
     "metadata": {},
     "output_type": "execute_result"
    }
   ],
   "source": [
    "# Distance Jaro avec ajustement Winkler\n",
    "jaro.jaro_winkler_metric(\"BINUIT\", \"BENOIT\")"
   ]
  },
  {
   "cell_type": "code",
   "execution_count": 17,
   "metadata": {},
   "outputs": [
    {
     "data": {
      "text/plain": [
       "0.8833333333333333"
      ]
     },
     "execution_count": 17,
     "metadata": {},
     "output_type": "execute_result"
    }
   ],
   "source": [
    "jaro.original_metric(\"BINUIT\", \"BENOIT\")"
   ]
  },
  {
   "cell_type": "markdown",
   "metadata": {},
   "source": [
    "# Levenshtein"
   ]
  },
  {
   "cell_type": "markdown",
   "metadata": {},
   "source": [
    "La distance de Levenshtein est une métrique pour mesurer la distance entre deux séquences de mots.   \n",
    "Distance : Mesure du nombre minimum de modifications (insertions, suppressions ou substitutions) qu'il faut effectuer pour changer une séquence d'un mot en l'autre.  \n",
    "Ratio : Similarité entre deux mots  \n",
    "Cette métrique a été nommée d'après Vladimir Levenshtein, qui l'avait initialement envisagé en 1965."
   ]
  },
  {
   "cell_type": "markdown",
   "metadata": {},
   "source": [
    "https://stackabuse.com/levenshtein-distance-and-text-similarity-in-python/  \n",
    "https://www.datacamp.com/community/tutorials/fuzzy-string-python"
   ]
  },
  {
   "cell_type": "code",
   "execution_count": 5,
   "metadata": {},
   "outputs": [
    {
     "name": "stdout",
     "output_type": "stream",
     "text": [
      "Levenshtein entre Benoit et Ben\n",
      "> Distance: 3\n",
      "> Ratio: 0.6666666666666666\n",
      "\n",
      "Levenshtein entre Benoit et Benoist\n",
      "> Distance: 1\n",
      "> Ratio: 0.9230769230769231\n",
      "\n"
     ]
    }
   ],
   "source": [
    "def levCalclulate(str1, str2):\n",
    "    Distance = lev.distance(str1, str2)\n",
    "    Ratio = lev.ratio(str1, str2)\n",
    "    print(\"Levenshtein entre {0} et {1}\".format(str1, str2))\n",
    "    print(\"> Distance: {0}\\n> Ratio: {1}\\n\".format(Distance, Ratio))\n",
    "\n",
    "levCalclulate(\"Benoit\", \"Ben\")\n",
    "levCalclulate(\"Benoit\", \"Benoist\")"
   ]
  },
  {
   "cell_type": "markdown",
   "metadata": {},
   "source": [
    "## Beaucoup plus d'algorithmes de comparaison sur https://pypi.org/project/textdistance/ (https://github.com/life4/textdistance)"
   ]
  },
  {
   "cell_type": "markdown",
   "metadata": {},
   "source": [
    "# Fuzzywuzzy"
   ]
  },
  {
   "cell_type": "markdown",
   "metadata": {},
   "source": [
    "Lien & Appartenance (partial_ratio)"
   ]
  },
  {
   "cell_type": "code",
   "execution_count": 19,
   "metadata": {},
   "outputs": [
    {
     "name": "stdout",
     "output_type": "stream",
     "text": [
      "46\n",
      "100\n"
     ]
    }
   ],
   "source": [
    "Str1 = \"Les scouts de France\"\n",
    "Str2 = \"France\"\n",
    "Ratio = fuzz.ratio(Str1.lower(),Str2.lower())\n",
    "Partial_Ratio = fuzz.partial_ratio(Str1.lower(),Str2.lower())\n",
    "print(Ratio)\n",
    "print(Partial_Ratio)"
   ]
  },
  {
   "cell_type": "markdown",
   "metadata": {},
   "source": [
    "inversions dans la chaine (Cf. token_sort_ratio)"
   ]
  },
  {
   "cell_type": "code",
   "execution_count": 20,
   "metadata": {},
   "outputs": [
    {
     "name": "stdout",
     "output_type": "stream",
     "text": [
      "50\n",
      "50\n",
      "100\n"
     ]
    }
   ],
   "source": [
    "Str1 = \"Ceci est un test\"\n",
    "Str2 = \"un test est ceci\"\n",
    "Ratio = fuzz.ratio(Str1.lower(),Str2.lower())\n",
    "Partial_Ratio = fuzz.partial_ratio(Str1.lower(),Str2.lower())\n",
    "Token_Sort_Ratio = fuzz.token_sort_ratio(Str1,Str2)\n",
    "print(Ratio)\n",
    "print(Partial_Ratio)\n",
    "print(Token_Sort_Ratio)"
   ]
  },
  {
   "cell_type": "markdown",
   "metadata": {},
   "source": [
    "chaines de taille différentes (Cf. token_set_ratio)"
   ]
  },
  {
   "cell_type": "code",
   "execution_count": 24,
   "metadata": {},
   "outputs": [
    {
     "name": "stdout",
     "output_type": "stream",
     "text": [
      "50\n",
      "70\n",
      "53\n",
      "92\n"
     ]
    }
   ],
   "source": [
    "Str1 = \"Ce soir on regarde un match France contre Angleterre\"\n",
    "Str2 = \"France vs Angleterre\"\n",
    "Ratio = fuzz.ratio(Str1.lower(),Str2.lower())\n",
    "Partial_Ratio = fuzz.partial_ratio(Str1.lower(),Str2.lower())\n",
    "Token_Sort_Ratio = fuzz.token_sort_ratio(Str1,Str2)\n",
    "Token_Set_Ratio = fuzz.token_set_ratio(Str1,Str2)\n",
    "print(Ratio)\n",
    "print(Partial_Ratio)\n",
    "print(Token_Sort_Ratio)\n",
    "print(Token_Set_Ratio)"
   ]
  },
  {
   "cell_type": "code",
   "execution_count": null,
   "metadata": {},
   "outputs": [],
   "source": []
  }
 ],
 "metadata": {
  "kernelspec": {
   "display_name": "Python 3",
   "language": "python",
   "name": "python3"
  },
  "language_info": {
   "codemirror_mode": {
    "name": "ipython",
    "version": 3
   },
   "file_extension": ".py",
   "mimetype": "text/x-python",
   "name": "python",
   "nbconvert_exporter": "python",
   "pygments_lexer": "ipython3",
   "version": "3.7.6"
  }
 },
 "nbformat": 4,
 "nbformat_minor": 4
}
