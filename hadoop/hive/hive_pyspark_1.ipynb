{
 "cells": [
  {
   "cell_type": "code",
   "execution_count": 1,
   "metadata": {
    "ExecuteTime": {
     "end_time": "2018-08-20T11:41:32.285784Z",
     "start_time": "2018-08-20T11:41:32.282781Z"
    }
   },
   "outputs": [],
   "source": [
    "from pyspark import SparkContext, SparkConf\n",
    "from pyspark.sql import SparkSession, HiveContext\n",
    "import pandas as pd"
   ]
  },
  {
   "cell_type": "code",
   "execution_count": 2,
   "metadata": {
    "ExecuteTime": {
     "end_time": "2018-08-20T11:41:32.950534Z",
     "start_time": "2018-08-20T11:41:32.938538Z"
    }
   },
   "outputs": [],
   "source": [
    "SparkContext.setSystemProperty(\"hive.metastore.uris\", \"thrift://hdp.local:9083\")"
   ]
  },
  {
   "cell_type": "code",
   "execution_count": 3,
   "metadata": {},
   "outputs": [],
   "source": [
    "sparkSession = (SparkSession\n",
    "                .builder\n",
    "                .appName('pyspark_test')\n",
    "                .enableHiveSupport()\n",
    "                .getOrCreate())"
   ]
  },
  {
   "cell_type": "code",
   "execution_count": 4,
   "metadata": {
    "scrolled": true
   },
   "outputs": [
    {
     "name": "stdout",
     "output_type": "stream",
     "text": [
      "+-------+------------------+--------------+---------------+-------------+-----------+----------+--------------------+-------------+------------+-------------+----------------+--------------------+--------------+--------------+------------+---------+-----------------+--------------------+--------------+--------------------+----------------------+------------------------+-------------+-----------+--------------------+-----------+-------------+\n",
      "|cust_id|         cust_name|cust_firstname|cust_middlename|cust_lastname|cust_gender|  cust_dob|        cust_address|cust_postcode|   cust_city| cust_country|cust_country_iso|          cust_email|    cust_phone|   cust_mobile|cust_twitter|cust_tier|cameo_category_cd| cameo_category_desc|cameo_group_cd|    cameo_group_desc|cameo_international_cd|cameo_international_desc|cust_language|mailability|      validation_msg|last_update|cust_province|\n",
      "+-------+------------------+--------------+---------------+-------------+-----------+----------+--------------------+-------------+------------+-------------+----------------+--------------------+--------------+--------------+------------+---------+-----------------+--------------------+--------------+--------------------+----------------------+------------------------+-------------+-----------+--------------------+-----------+-------------+\n",
      "|    236|     TERI BIONDINI|          TERI|           null|     BIONDINI|          F|2044-03-11|      1613 BIVINS ST|   27707-1523|      DURHAM|UNITED STATES|             USA|      teri@gmail.com|     226583233|     226986935|        null|     Gold|               3C|MIDDLE  CLASS MAN...|             3| PROSPEROUS FAMILIES|                    23|    PROSPEROUS FAMILI...|          ENG|          5|Corrected - all e...|       Init|           NC|\n",
      "|     12|  BRANDEN HOOTNICK|       BRANDEN|           null|     HOOTNICK|          M|1994-08-02|    222 BRENTWOOD DR|   28650-1161|      MAIDEN|UNITED STATES|             USA|branden.hootnick@...|   +1828964819|   +1828477518|        null|   Silver|               6C|   BIG FAMILY VALUES|             6|  ASPIRING CONSUMERS|                    33|    COMFORTABLE FAMIL...|          ENG|          5|Corrected - all e...|       Init|           NC|\n",
      "|    149| mvbIbbG OFHATZSEN|       mvbIbbG|           null|    OFHATZSEN|          F|1950-11-06|       507 N BOST ST|   28677-4039| STATESVILLE|UNITED STATES|             USA|WmE71HJReO@TppDg.AKT| (312) 730 853| (312) 570 465|        null|      VIP|               4B|MIDDLE AGE, MIDDL...|             4|ENTERPRISING HOUS...|                    22|    PROSPEROUS YOUNG ...|          ENG|          5|Corrected - all e...|       Init|           NC|\n",
      "|    144|       ZANA MAYNER|          ZANA|           null|       MAYNER|          F|1979-09-07|      2710 OXFORD RD|   27574-7911|     ROXBORO|UNITED STATES|             USA|     zana@mayner.com|+1 336 766 542| +1 336 542 93|        null|     Gold|               5E|CLOSE TO RETIREME...|             5|COMFORTABLE COMMU...|                    34|    COMFORTABLE OLDER...|          ENG|          5|Corrected - all e...|       Init|           NC|\n",
      "|    165|     wooD ZCCTTYQB|          wooD|           null|     ZCCTTYQB|          M|2048-03-19|    1404 FALLSTON RD|   28150-3304|      SHELBY|UNITED STATES|             USA|XzUJjzmW@xOhrJlE.vOV|   +0470518812|    +047084645|        null|      VIP|               9E|LOW INCOME MELTIN...|             9|   STRETCHED TENANTS|                    53|    POORER FAMILIES W...|          ENG|          5|Corrected - all e...|       Init|           NC|\n",
      "|    164|      JULIO DUMOLT|         JULIO|           null|       DUMOLT|          M|1996-06-28|     1198 SEQUOIA DR|   27023-8724|  LEWISVILLE|UNITED STATES|             USA|   julio@hotmail.com|   214-319-513|   214-806-853|        null|     Gold|               7D|        COASTAL CHIC|             7|DYNAMIC NEIGHBOUR...|                    43|    LESS AFFLUENT FAM...|          ENG|          5|Corrected - all e...|       Init|           NC|\n",
      "|    178|   DEVON DNISTRIAN|         DEVON|           null|    DNISTRIAN|          M|1986-07-16|    509 NORTHVIEW DR|   28303-5292|FAYETTEVILLE|UNITED STATES|             USA|ddnistrian@yahoo.com|   304-775-897|   304-932-997|        null|     Gold|               2D|           OLD MONEY|             2|   EXCLUSIVE SOCIETY|                    15|    WEALTHY ELDERS IN...|          ENG|          5|Corrected - all e...|       Init|           NC|\n",
      "|    208|  RICKY GHARDINALI|         RICKY|           null|   GHARDINALI|          M|1984-09-09|       605 N MAIN ST|   27253-2252|      GRAHAM|UNITED STATES|             USA|ricky.ghardinali@...|   +1253402658|   +1253791797|        null|   Silver|               6E|  SETTLED AND SINGLE|             6|  ASPIRING CONSUMERS|                    34|    COMFORTABLE OLDER...|          ENG|          5|Corrected - all e...|       Init|           NC|\n",
      "|     76|   CLEMMIE SEMENZA|       CLEMMIE|           null|      SEMENZA|          F|2033-04-28|     278 CROSSCUT DR|   28037-9236|      DENVER|UNITED STATES|             USA|csemenza@semenza.com|   303-777-442|   303-468-288|        null|   Silver|               6C|   BIG FAMILY VALUES|             6|  ASPIRING CONSUMERS|                    33|    COMFORTABLE FAMIL...|          ENG|          5|Corrected - all e...|       Init|           NC|\n",
      "|    331| TOMIKA ALEJANDREZ|        TOMIKA|           null|   ALEJANDREZ|          F|2041-12-07|       666 JACOBS RD|   28364-8996|      MAXTON|UNITED STATES|             USA|       tomika@me.com|   +1910540241|   +1910473488|        null|     Gold|               8E|   PROVINCIAL FUSION|             8| DIVERSE COMMUNITIES|                    44|    LESS AFFLUENT OLD...|          ENG|          5|Corrected - all e...|       Init|           NC|\n",
      "|    528|  DWIGHT MCPARTLIN|        DWIGHT|           null|    MCPARTLIN|          M|2025-09-02| 119 STEAM ENGINE DR|   28115-8509| MOORESVILLE|UNITED STATES|             USA|dmcpartlin@yahoo.com|   317-786-622|   317-331-103|        null|     Gold|               7D|        COASTAL CHIC|             7|DYNAMIC NEIGHBOUR...|                    43|    LESS AFFLUENT FAM...|          ENG|          4|Corrected - all e...|       Init|           NC|\n",
      "|    541|KATHERINE CHLABHRO|     KATHERINE|           null|     CHLABHRO|          F|1980-07-07|    200 SINGLETON ST|   28460-9656|SNEADS FERRY|UNITED STATES|             USA| kchlabhro@gmail.com| (910) 756 271| (910) 265 231|        null|     Gold|               5E|CLOSE TO RETIREME...|             5|COMFORTABLE COMMU...|                    34|    COMFORTABLE OLDER...|          ENG|          5|Corrected - all e...|       Init|           NC|\n",
      "|    292|  RUTHIE LIEBHAVER|        RUTHIE|           null|    LIEBHAVER|          F|2028-07-01|       104 LORAN CIR|   27858-8669|  GREENVILLE|UNITED STATES|             USA|    ruthie@gmail.com|   +1250246481|   +1250703375|        null|   Silver|               3C|MIDDLE  CLASS MAN...|             3| PROSPEROUS FAMILIES|                    23|    PROSPEROUS FAMILI...|          ENG|          5|Corrected - all e...|       Init|           NC|\n",
      "|    552|   KENNETH KRETCHE|       KENNETH|           null|      KRETCHE|          M|2049-06-24|   146 CASSIOPEIA DR|   28681-3229|TAYLORSVILLE|UNITED STATES|             USA|kkretche@kretche.com| (502) 306 260| (502) 665 801|        null|     Gold|               5G|COMFORTABLE IN RE...|             5|COMFORTABLE COMMU...|                    35|    COMFORTABLE ELDER...|          ENG|          5|Corrected - all e...|       Init|           NC|\n",
      "|    572|  LISBETH DERANGER|       LISBETH|           null|     DERANGER|          F|1990-06-07|480 DREAMCATCHER TRL|   27596-9269| YOUNGSVILLE|UNITED STATES|             USA|   info@deranger.com|  (337) 680 47| (337) 923 459|        null|   Silver|               3E|AFFLUENT ESTABLIS...|             3| PROSPEROUS FAMILIES|                    24|    PROSPEROUS OLDER ...|          ENG|          5|Corrected - all e...|       Init|           NC|\n",
      "|    579|   MARCELINO # 459|     MARCELINO|           null|        # 459|          M|1962-12-09|     910 SALT CAY CT|   28560-9035|    NEW BERN|UNITED STATES|             USA|marcelino.#_459@#...|   +1252338636|   +1252997373|        null|   Bronze|               3F|ESCAPE TO THE COU...|             3| PROSPEROUS FAMILIES|                    25|    PROSPEROUS ELDERS...|          ENG|          5|Corrected - all e...|       Init|           NC|\n",
      "|    455|    Phillip TARBET|       Phillip|           null|       TARBET|          M|2022-05-08|8620 CENTER GROVE...|   27012-9141|    CLEMMONS|UNITED STATES|             USA| ptarbet@hotmail.com|+1 336 443 507|+1 336 650 165|        null|     Gold|               5F|      MATURE SUBURBS|             5|COMFORTABLE COMMU...|                    35|    COMFORTABLE ELDER...|          ENG|          5|Corrected - all e...|       Init|           NC|\n",
      "|    889|      BRYON O'KULA|         BRYON|           null|       O'KULA|          M|2021-04-13|  2740 TIERGARTEN LN|   28210-5831|   CHARLOTTE|UNITED STATES|             USA|  bo'kula@o'kula.com|   517-316-328|   517-931-404|        null|   Bronze|               7C|FLEDGLING URBAN F...|             7|DYNAMIC NEIGHBOUR...|                    42|    LESS AFFLUENT YOU...|          ENG|          5|Corrected - all e...|       Init|           NC|\n",
      "|    657|    zCoCfj NRZQHPO|        zCoCfj|           null|      NRZQHPO|          F|1958-02-12|      320 TALA DR SW|   28027-1745|     CONCORD|UNITED STATES|             USA|XUrNru.GoIDepy@oK...| (403) 387 639|  (403) 649 85|        null|      VIP|               9A|     URBAN START-UPS|             9|   STRETCHED TENANTS|                    51|    POORER PRE-FAMILY...|          ENG|          5|Corrected - all e...|       Init|           NC|\n",
      "|    690|    rrbDt JFHHVVMZ|         rrbDt|           null|     JFHHVVMZ|          F|1998-10-15|     1110 AIRPORT RD|   28345-7134|      HAMLET|UNITED STATES|             USA|HdE7EhRto@uO1dAhf...|   +0907365592|   +0907720611|        null|      VIP|               8E|   PROVINCIAL FUSION|             8| DIVERSE COMMUNITIES|                    44|    LESS AFFLUENT OLD...|          ENG|          5|Corrected - all e...|       Init|           NC|\n",
      "+-------+------------------+--------------+---------------+-------------+-----------+----------+--------------------+-------------+------------+-------------+----------------+--------------------+--------------+--------------+------------+---------+-----------------+--------------------+--------------+--------------------+----------------------+------------------------+-------------+-----------+--------------------+-----------+-------------+\n",
      "only showing top 20 rows\n",
      "\n"
     ]
    }
   ],
   "source": [
    "df_spark = sparkSession.sql('select * from customers_prov')\n",
    "df_spark.show()"
   ]
  },
  {
   "cell_type": "code",
   "execution_count": 5,
   "metadata": {},
   "outputs": [],
   "source": [
    "s = df_spark.toPandas()"
   ]
  },
  {
   "cell_type": "code",
   "execution_count": 6,
   "metadata": {},
   "outputs": [
    {
     "data": {
      "text/html": [
       "<div>\n",
       "<style scoped>\n",
       "    .dataframe tbody tr th:only-of-type {\n",
       "        vertical-align: middle;\n",
       "    }\n",
       "\n",
       "    .dataframe tbody tr th {\n",
       "        vertical-align: top;\n",
       "    }\n",
       "\n",
       "    .dataframe thead th {\n",
       "        text-align: right;\n",
       "    }\n",
       "</style>\n",
       "<table border=\"1\" class=\"dataframe\">\n",
       "  <thead>\n",
       "    <tr style=\"text-align: right;\">\n",
       "      <th></th>\n",
       "      <th>cust_id</th>\n",
       "      <th>cust_name</th>\n",
       "      <th>cust_firstname</th>\n",
       "      <th>cust_middlename</th>\n",
       "      <th>cust_lastname</th>\n",
       "      <th>cust_gender</th>\n",
       "      <th>cust_dob</th>\n",
       "      <th>cust_address</th>\n",
       "      <th>cust_postcode</th>\n",
       "      <th>cust_city</th>\n",
       "      <th>...</th>\n",
       "      <th>cameo_category_desc</th>\n",
       "      <th>cameo_group_cd</th>\n",
       "      <th>cameo_group_desc</th>\n",
       "      <th>cameo_international_cd</th>\n",
       "      <th>cameo_international_desc</th>\n",
       "      <th>cust_language</th>\n",
       "      <th>mailability</th>\n",
       "      <th>validation_msg</th>\n",
       "      <th>last_update</th>\n",
       "      <th>cust_province</th>\n",
       "    </tr>\n",
       "  </thead>\n",
       "  <tbody>\n",
       "    <tr>\n",
       "      <th>0</th>\n",
       "      <td>9</td>\n",
       "      <td>nrketDB FVRFHL</td>\n",
       "      <td>nrketDB</td>\n",
       "      <td>None</td>\n",
       "      <td>FVRFHL</td>\n",
       "      <td>F</td>\n",
       "      <td>2038-10-28</td>\n",
       "      <td>1920 DANMORE DR</td>\n",
       "      <td>83712-6609</td>\n",
       "      <td>BOISE</td>\n",
       "      <td>...</td>\n",
       "      <td>OLD MONEY</td>\n",
       "      <td>2</td>\n",
       "      <td>EXCLUSIVE SOCIETY</td>\n",
       "      <td>15</td>\n",
       "      <td>WEALTHY ELDERS IN RETIREMENT</td>\n",
       "      <td>ENG</td>\n",
       "      <td>5</td>\n",
       "      <td>Corrected - all elements have been checked</td>\n",
       "      <td>Init</td>\n",
       "      <td>ID</td>\n",
       "    </tr>\n",
       "    <tr>\n",
       "      <th>1</th>\n",
       "      <td>35</td>\n",
       "      <td>DOMINIQUE AUYEUNG</td>\n",
       "      <td>DOMINIQUE</td>\n",
       "      <td>None</td>\n",
       "      <td>AUYEUNG</td>\n",
       "      <td>F</td>\n",
       "      <td>2038-03-15</td>\n",
       "      <td>2463 E PARKSIDE DR</td>\n",
       "      <td>83712-7516</td>\n",
       "      <td>BOISE</td>\n",
       "      <td>...</td>\n",
       "      <td>OLD MONEY</td>\n",
       "      <td>2</td>\n",
       "      <td>EXCLUSIVE SOCIETY</td>\n",
       "      <td>15</td>\n",
       "      <td>WEALTHY ELDERS IN RETIREMENT</td>\n",
       "      <td>ENG</td>\n",
       "      <td>5</td>\n",
       "      <td>Corrected - all elements have been checked</td>\n",
       "      <td>Init</td>\n",
       "      <td>ID</td>\n",
       "    </tr>\n",
       "    <tr>\n",
       "      <th>2</th>\n",
       "      <td>378</td>\n",
       "      <td>fhgdL FNXBAQY</td>\n",
       "      <td>fhgdL</td>\n",
       "      <td>None</td>\n",
       "      <td>FNXBAQY</td>\n",
       "      <td>M</td>\n",
       "      <td>2034-10-14</td>\n",
       "      <td>1920 N 30TH ST</td>\n",
       "      <td>83703-5850</td>\n",
       "      <td>BOISE</td>\n",
       "      <td>...</td>\n",
       "      <td>MATURING IN MIDDLE AMERICA</td>\n",
       "      <td>7</td>\n",
       "      <td>DYNAMIC NEIGHBOURHOODS</td>\n",
       "      <td>44</td>\n",
       "      <td>LESS AFFLUENT OLDER FAMILIES AND MATURE COUPLES</td>\n",
       "      <td>ENG</td>\n",
       "      <td>5</td>\n",
       "      <td>Corrected - all elements have been checked</td>\n",
       "      <td>Init</td>\n",
       "      <td>ID</td>\n",
       "    </tr>\n",
       "    <tr>\n",
       "      <th>3</th>\n",
       "      <td>174</td>\n",
       "      <td>EMILE SEMINGSEN</td>\n",
       "      <td>EMILE</td>\n",
       "      <td>None</td>\n",
       "      <td>SEMINGSEN</td>\n",
       "      <td>M</td>\n",
       "      <td>1973-01-09</td>\n",
       "      <td>1002 SAMUEL ST</td>\n",
       "      <td>83204-2060</td>\n",
       "      <td>POCATELLO</td>\n",
       "      <td>...</td>\n",
       "      <td>SETTLED AND SINGLE</td>\n",
       "      <td>6</td>\n",
       "      <td>ASPIRING CONSUMERS</td>\n",
       "      <td>34</td>\n",
       "      <td>COMFORTABLE OLDER FAMILIES AND MATURE COUPLES</td>\n",
       "      <td>ENG</td>\n",
       "      <td>4</td>\n",
       "      <td>Corrected - all elements have been checked</td>\n",
       "      <td>Init</td>\n",
       "      <td>ID</td>\n",
       "    </tr>\n",
       "    <tr>\n",
       "      <th>4</th>\n",
       "      <td>556</td>\n",
       "      <td>LILIANA ANNEREAU</td>\n",
       "      <td>LILIANA</td>\n",
       "      <td>None</td>\n",
       "      <td>ANNEREAU</td>\n",
       "      <td>F</td>\n",
       "      <td>2030-09-06</td>\n",
       "      <td>109 S OWYHEE ST</td>\n",
       "      <td>83705-1631</td>\n",
       "      <td>BOISE</td>\n",
       "      <td>...</td>\n",
       "      <td>SETTLED AND SINGLE</td>\n",
       "      <td>6</td>\n",
       "      <td>ASPIRING CONSUMERS</td>\n",
       "      <td>34</td>\n",
       "      <td>COMFORTABLE OLDER FAMILIES AND MATURE COUPLES</td>\n",
       "      <td>ENG</td>\n",
       "      <td>5</td>\n",
       "      <td>Corrected - all elements have been checked</td>\n",
       "      <td>Init</td>\n",
       "      <td>ID</td>\n",
       "    </tr>\n",
       "  </tbody>\n",
       "</table>\n",
       "<p>5 rows × 28 columns</p>\n",
       "</div>"
      ],
      "text/plain": [
       "  cust_id          cust_name cust_firstname cust_middlename cust_lastname  \\\n",
       "0       9     nrketDB FVRFHL        nrketDB            None        FVRFHL   \n",
       "1      35  DOMINIQUE AUYEUNG      DOMINIQUE            None       AUYEUNG   \n",
       "2     378      fhgdL FNXBAQY          fhgdL            None       FNXBAQY   \n",
       "3     174    EMILE SEMINGSEN          EMILE            None     SEMINGSEN   \n",
       "4     556   LILIANA ANNEREAU        LILIANA            None      ANNEREAU   \n",
       "\n",
       "  cust_gender    cust_dob        cust_address cust_postcode  cust_city  \\\n",
       "0           F  2038-10-28     1920 DANMORE DR    83712-6609      BOISE   \n",
       "1           F  2038-03-15  2463 E PARKSIDE DR    83712-7516      BOISE   \n",
       "2           M  2034-10-14      1920 N 30TH ST    83703-5850      BOISE   \n",
       "3           M  1973-01-09      1002 SAMUEL ST    83204-2060  POCATELLO   \n",
       "4           F  2030-09-06     109 S OWYHEE ST    83705-1631      BOISE   \n",
       "\n",
       "       ...              cameo_category_desc cameo_group_cd  \\\n",
       "0      ...                        OLD MONEY              2   \n",
       "1      ...                        OLD MONEY              2   \n",
       "2      ...       MATURING IN MIDDLE AMERICA              7   \n",
       "3      ...               SETTLED AND SINGLE              6   \n",
       "4      ...               SETTLED AND SINGLE              6   \n",
       "\n",
       "         cameo_group_desc cameo_international_cd  \\\n",
       "0       EXCLUSIVE SOCIETY                     15   \n",
       "1       EXCLUSIVE SOCIETY                     15   \n",
       "2  DYNAMIC NEIGHBOURHOODS                     44   \n",
       "3      ASPIRING CONSUMERS                     34   \n",
       "4      ASPIRING CONSUMERS                     34   \n",
       "\n",
       "                          cameo_international_desc cust_language mailability  \\\n",
       "0                     WEALTHY ELDERS IN RETIREMENT           ENG           5   \n",
       "1                     WEALTHY ELDERS IN RETIREMENT           ENG           5   \n",
       "2  LESS AFFLUENT OLDER FAMILIES AND MATURE COUPLES           ENG           5   \n",
       "3    COMFORTABLE OLDER FAMILIES AND MATURE COUPLES           ENG           4   \n",
       "4    COMFORTABLE OLDER FAMILIES AND MATURE COUPLES           ENG           5   \n",
       "\n",
       "                               validation_msg last_update cust_province  \n",
       "0  Corrected - all elements have been checked        Init            ID  \n",
       "1  Corrected - all elements have been checked        Init            ID  \n",
       "2  Corrected - all elements have been checked        Init            ID  \n",
       "3  Corrected - all elements have been checked        Init            ID  \n",
       "4  Corrected - all elements have been checked        Init            ID  \n",
       "\n",
       "[5 rows x 28 columns]"
      ]
     },
     "execution_count": 6,
     "metadata": {},
     "output_type": "execute_result"
    }
   ],
   "source": [
    "s.head()"
   ]
  },
  {
   "cell_type": "code",
   "execution_count": 7,
   "metadata": {},
   "outputs": [
    {
     "data": {
      "text/plain": [
       "MapPartitionsRDD[470] at javaToPython at NativeMethodAccessorImpl.java:0"
      ]
     },
     "execution_count": 7,
     "metadata": {},
     "output_type": "execute_result"
    }
   ],
   "source": [
    "df_spark.rdd"
   ]
  },
  {
   "cell_type": "code",
   "execution_count": 8,
   "metadata": {},
   "outputs": [
    {
     "data": {
      "text/plain": [
       "StructType(List(StructField(cust_id,DecimalType(10,0),true),StructField(cust_name,StringType,true),StructField(cust_firstname,StringType,true),StructField(cust_middlename,StringType,true),StructField(cust_lastname,StringType,true),StructField(cust_gender,StringType,true),StructField(cust_dob,StringType,true),StructField(cust_address,StringType,true),StructField(cust_postcode,StringType,true),StructField(cust_city,StringType,true),StructField(cust_country,StringType,true),StructField(cust_country_iso,StringType,true),StructField(cust_email,StringType,true),StructField(cust_phone,StringType,true),StructField(cust_mobile,StringType,true),StructField(cust_twitter,StringType,true),StructField(cust_tier,StringType,true),StructField(cameo_category_cd,StringType,true),StructField(cameo_category_desc,StringType,true),StructField(cameo_group_cd,StringType,true),StructField(cameo_group_desc,StringType,true),StructField(cameo_international_cd,StringType,true),StructField(cameo_international_desc,StringType,true),StructField(cust_language,StringType,true),StructField(mailability,StringType,true),StructField(validation_msg,StringType,true),StructField(last_update,StringType,true),StructField(cust_province,StringType,true)))"
      ]
     },
     "execution_count": 8,
     "metadata": {},
     "output_type": "execute_result"
    }
   ],
   "source": [
    "df_spark.schema"
   ]
  },
  {
   "cell_type": "code",
   "execution_count": 9,
   "metadata": {},
   "outputs": [
    {
     "name": "stdout",
     "output_type": "stream",
     "text": [
      "root\n",
      " |-- cust_id: decimal(10,0) (nullable = true)\n",
      " |-- cust_name: string (nullable = true)\n",
      " |-- cust_firstname: string (nullable = true)\n",
      " |-- cust_middlename: string (nullable = true)\n",
      " |-- cust_lastname: string (nullable = true)\n",
      " |-- cust_gender: string (nullable = true)\n",
      " |-- cust_dob: string (nullable = true)\n",
      " |-- cust_address: string (nullable = true)\n",
      " |-- cust_postcode: string (nullable = true)\n",
      " |-- cust_city: string (nullable = true)\n",
      " |-- cust_country: string (nullable = true)\n",
      " |-- cust_country_iso: string (nullable = true)\n",
      " |-- cust_email: string (nullable = true)\n",
      " |-- cust_phone: string (nullable = true)\n",
      " |-- cust_mobile: string (nullable = true)\n",
      " |-- cust_twitter: string (nullable = true)\n",
      " |-- cust_tier: string (nullable = true)\n",
      " |-- cameo_category_cd: string (nullable = true)\n",
      " |-- cameo_category_desc: string (nullable = true)\n",
      " |-- cameo_group_cd: string (nullable = true)\n",
      " |-- cameo_group_desc: string (nullable = true)\n",
      " |-- cameo_international_cd: string (nullable = true)\n",
      " |-- cameo_international_desc: string (nullable = true)\n",
      " |-- cust_language: string (nullable = true)\n",
      " |-- mailability: string (nullable = true)\n",
      " |-- validation_msg: string (nullable = true)\n",
      " |-- last_update: string (nullable = true)\n",
      " |-- cust_province: string (nullable = true)\n",
      "\n"
     ]
    }
   ],
   "source": [
    "df_spark.printSchema()"
   ]
  },
  {
   "cell_type": "code",
   "execution_count": null,
   "metadata": {},
   "outputs": [],
   "source": []
  }
 ],
 "metadata": {
  "kernelspec": {
   "display_name": "Python 3",
   "language": "python",
   "name": "python3"
  },
  "language_info": {
   "codemirror_mode": {
    "name": "ipython",
    "version": 3
   },
   "file_extension": ".py",
   "mimetype": "text/x-python",
   "name": "python",
   "nbconvert_exporter": "python",
   "pygments_lexer": "ipython3",
   "version": "3.6.5"
  }
 },
 "nbformat": 4,
 "nbformat_minor": 2
}
